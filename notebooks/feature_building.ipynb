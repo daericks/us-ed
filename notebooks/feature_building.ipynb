{
 "cells": [
  {
   "cell_type": "code",
   "execution_count": 3,
   "metadata": {},
   "outputs": [],
   "source": [
    "%matplotlib inline"
   ]
  },
  {
   "cell_type": "code",
   "execution_count": 4,
   "metadata": {},
   "outputs": [],
   "source": [
    "import numpy as np\n",
    "from scipy import stats\n",
    "import pandas as pd\n",
    "import matplotlib.pyplot as plt\n",
    "import seaborn as sns\n",
    "from sklearn import linear_model\n",
    "from sklearn.preprocessing import StandardScaler\n",
    "from sklearn.ensemble import RandomForestRegressor\n",
    "from sklearn.model_selection import TimeSeriesSplit, GridSearchCV, learning_curve, validation_curve"
   ]
  },
  {
   "cell_type": "code",
   "execution_count": 5,
   "metadata": {},
   "outputs": [],
   "source": [
    "df = pd.read_csv(\"~/projects/us-education-datasets-unification-project/data/us-education-datasets-unification-project/states_all.csv\")"
   ]
  },
  {
   "cell_type": "code",
   "execution_count": 6,
   "metadata": {},
   "outputs": [
    {
     "data": {
      "text/plain": [
       "(1492, 25)"
      ]
     },
     "execution_count": 6,
     "metadata": {},
     "output_type": "execute_result"
    }
   ],
   "source": [
    "df.shape"
   ]
  },
  {
   "cell_type": "code",
   "execution_count": 7,
   "metadata": {},
   "outputs": [
    {
     "name": "stdout",
     "output_type": "stream",
     "text": [
      "Years/state 29.84\n",
      "YEARs 1992 -- 2017\n",
      "\n",
      "STATEs\n",
      " ['ALABAMA' 'ALASKA' 'ARIZONA' 'ARKANSAS' 'CALIFORNIA' 'COLORADO'\n",
      " 'CONNECTICUT' 'DELAWARE' 'DISTRICT_OF_COLUMBIA' 'FLORIDA' 'GEORGIA'\n",
      " 'HAWAII' 'IDAHO' 'ILLINOIS' 'INDIANA' 'IOWA' 'KANSAS' 'KENTUCKY'\n",
      " 'LOUISIANA' 'MAINE' 'MARYLAND' 'MASSACHUSETTS' 'MICHIGAN' 'MINNESOTA'\n",
      " 'MISSISSIPPI' 'MISSOURI' 'MONTANA' 'NEBRASKA' 'NEVADA' 'NEW_HAMPSHIRE'\n",
      " 'NEW_JERSEY' 'NEW_MEXICO' 'NEW_YORK' 'NORTH_CAROLINA' 'NORTH_DAKOTA'\n",
      " 'OHIO' 'OKLAHOMA' 'OREGON' 'PENNSYLVANIA' 'RHODE_ISLAND' 'SOUTH_CAROLINA'\n",
      " 'SOUTH_DAKOTA' 'TENNESSEE' 'TEXAS' 'UTAH' 'VERMONT' 'VIRGINIA'\n",
      " 'WASHINGTON' 'WEST_VIRGINIA' 'WISCONSIN' 'WYOMING' 'AMERICAN_SAMOA'\n",
      " 'BUREAU_OF_INDIAN_AFFAIRS' 'DOD_DOMESTIC' 'DOD_OVERSEAS' 'GUAM'\n",
      " 'NORTHERN_MARIANAS' 'PUERTO_RICO' 'VIRGIN_ISLANDS' 'BI' 'DD'\n",
      " 'NORTHERN_MARIANA_ISLANDS' 'DEPARTMENT_OF_DEFENSE'\n",
      " 'BUREAU_OF_INDIAN_EDUCATION' 'DEPARTMENT_OF_DEFENSE_EDUCATION_ACTIVITY'\n",
      " 'U.S._VIRGIN_ISLANDS' 'DOD_(OVERSEAS_AND_DOMESTIC_COMBINED)' 'BIE'\n",
      " 'COMMONWEALTH_OF_MARIANAS' 'DOD_-_FOREIGN' 'AS' 'GU' 'MP' 'PR' 'VI'\n",
      " 'MARIANAS' 'BUREAU_OF_INDIAN_EDUCATIO' 'DOD_-_DOMESTIC' 'DOD_-_OVERSEAS'\n",
      " 'DOD'] \n",
      "\n",
      "Features:\n",
      " ['PRIMARY_KEY', 'STATE', 'YEAR', 'ENROLL', 'TOTAL_REVENUE', 'FEDERAL_REVENUE', 'STATE_REVENUE', 'LOCAL_REVENUE', 'TOTAL_EXPENDITURE', 'INSTRUCTION_EXPENDITURE', 'SUPPORT_SERVICES_EXPENDITURE', 'OTHER_EXPENDITURE', 'CAPITAL_OUTLAY_EXPENDITURE', 'GRADES_PK_G', 'GRADES_KG_G', 'GRADES_4_G', 'GRADES_8_G', 'GRADES_12_G', 'GRADES_1_8_G', 'GRADES_9_12_G', 'GRADES_ALL_G', 'AVG_MATH_4_SCORE', 'AVG_MATH_8_SCORE', 'AVG_READING_4_SCORE', 'AVG_READING_8_SCORE'] \n",
      "\n"
     ]
    }
   ],
   "source": [
    "np.sqrt(df.shape[0])\n",
    "df.shape[0]/50\n",
    "print('Years/state', len(df)/50)\n",
    "print('YEARs', df['YEAR'].min(), '--' , df['YEAR'].max())\n",
    "print('\\nSTATEs\\n', df['STATE'].unique(), '\\n')\n",
    "print('Features:\\n', df.columns.tolist(), '\\n')"
   ]
  },
  {
   "cell_type": "code",
   "execution_count": 8,
   "metadata": {},
   "outputs": [
    {
     "data": {
      "text/html": [
       "<div>\n",
       "<style scoped>\n",
       "    .dataframe tbody tr th:only-of-type {\n",
       "        vertical-align: middle;\n",
       "    }\n",
       "\n",
       "    .dataframe tbody tr th {\n",
       "        vertical-align: top;\n",
       "    }\n",
       "\n",
       "    .dataframe thead th {\n",
       "        text-align: right;\n",
       "    }\n",
       "</style>\n",
       "<table border=\"1\" class=\"dataframe\">\n",
       "  <thead>\n",
       "    <tr style=\"text-align: right;\">\n",
       "      <th></th>\n",
       "      <th>PRIMARY_KEY</th>\n",
       "      <th>STATE</th>\n",
       "      <th>YEAR</th>\n",
       "      <th>ENROLL</th>\n",
       "      <th>TOTAL_REVENUE</th>\n",
       "      <th>FEDERAL_REVENUE</th>\n",
       "      <th>STATE_REVENUE</th>\n",
       "      <th>LOCAL_REVENUE</th>\n",
       "      <th>TOTAL_EXPENDITURE</th>\n",
       "      <th>INSTRUCTION_EXPENDITURE</th>\n",
       "      <th>...</th>\n",
       "      <th>GRADES_4_G</th>\n",
       "      <th>GRADES_8_G</th>\n",
       "      <th>GRADES_12_G</th>\n",
       "      <th>GRADES_1_8_G</th>\n",
       "      <th>GRADES_9_12_G</th>\n",
       "      <th>GRADES_ALL_G</th>\n",
       "      <th>AVG_MATH_4_SCORE</th>\n",
       "      <th>AVG_MATH_8_SCORE</th>\n",
       "      <th>AVG_READING_4_SCORE</th>\n",
       "      <th>AVG_READING_8_SCORE</th>\n",
       "    </tr>\n",
       "  </thead>\n",
       "  <tbody>\n",
       "    <tr>\n",
       "      <th>0</th>\n",
       "      <td>1992_ALABAMA</td>\n",
       "      <td>ALABAMA</td>\n",
       "      <td>1992</td>\n",
       "      <td>NaN</td>\n",
       "      <td>2678885.0</td>\n",
       "      <td>304177.0</td>\n",
       "      <td>1659028.0</td>\n",
       "      <td>715680.0</td>\n",
       "      <td>2653798.0</td>\n",
       "      <td>1481703.0</td>\n",
       "      <td>...</td>\n",
       "      <td>57948.0</td>\n",
       "      <td>58025.0</td>\n",
       "      <td>41167.0</td>\n",
       "      <td>471564.0</td>\n",
       "      <td>196386.0</td>\n",
       "      <td>676174.0</td>\n",
       "      <td>208.327876</td>\n",
       "      <td>252.187522</td>\n",
       "      <td>207.963517</td>\n",
       "      <td>NaN</td>\n",
       "    </tr>\n",
       "    <tr>\n",
       "      <th>1</th>\n",
       "      <td>1992_ALASKA</td>\n",
       "      <td>ALASKA</td>\n",
       "      <td>1992</td>\n",
       "      <td>NaN</td>\n",
       "      <td>1049591.0</td>\n",
       "      <td>106780.0</td>\n",
       "      <td>720711.0</td>\n",
       "      <td>222100.0</td>\n",
       "      <td>972488.0</td>\n",
       "      <td>498362.0</td>\n",
       "      <td>...</td>\n",
       "      <td>9748.0</td>\n",
       "      <td>8789.0</td>\n",
       "      <td>6714.0</td>\n",
       "      <td>79117.0</td>\n",
       "      <td>30847.0</td>\n",
       "      <td>112335.0</td>\n",
       "      <td>NaN</td>\n",
       "      <td>NaN</td>\n",
       "      <td>NaN</td>\n",
       "      <td>258.859712</td>\n",
       "    </tr>\n",
       "    <tr>\n",
       "      <th>2</th>\n",
       "      <td>1992_ARIZONA</td>\n",
       "      <td>ARIZONA</td>\n",
       "      <td>1992</td>\n",
       "      <td>NaN</td>\n",
       "      <td>3258079.0</td>\n",
       "      <td>297888.0</td>\n",
       "      <td>1369815.0</td>\n",
       "      <td>1590376.0</td>\n",
       "      <td>3401580.0</td>\n",
       "      <td>1435908.0</td>\n",
       "      <td>...</td>\n",
       "      <td>55433.0</td>\n",
       "      <td>49081.0</td>\n",
       "      <td>37410.0</td>\n",
       "      <td>437127.0</td>\n",
       "      <td>175210.0</td>\n",
       "      <td>614881.0</td>\n",
       "      <td>215.253932</td>\n",
       "      <td>265.366278</td>\n",
       "      <td>206.212716</td>\n",
       "      <td>262.169895</td>\n",
       "    </tr>\n",
       "    <tr>\n",
       "      <th>3</th>\n",
       "      <td>1992_ARKANSAS</td>\n",
       "      <td>ARKANSAS</td>\n",
       "      <td>1992</td>\n",
       "      <td>NaN</td>\n",
       "      <td>1711959.0</td>\n",
       "      <td>178571.0</td>\n",
       "      <td>958785.0</td>\n",
       "      <td>574603.0</td>\n",
       "      <td>1743022.0</td>\n",
       "      <td>964323.0</td>\n",
       "      <td>...</td>\n",
       "      <td>34632.0</td>\n",
       "      <td>36011.0</td>\n",
       "      <td>27651.0</td>\n",
       "      <td>281338.0</td>\n",
       "      <td>123113.0</td>\n",
       "      <td>405259.0</td>\n",
       "      <td>210.206028</td>\n",
       "      <td>256.312090</td>\n",
       "      <td>208.634458</td>\n",
       "      <td>264.619665</td>\n",
       "    </tr>\n",
       "    <tr>\n",
       "      <th>4</th>\n",
       "      <td>1992_CALIFORNIA</td>\n",
       "      <td>CALIFORNIA</td>\n",
       "      <td>1992</td>\n",
       "      <td>NaN</td>\n",
       "      <td>26260025.0</td>\n",
       "      <td>2072470.0</td>\n",
       "      <td>16546514.0</td>\n",
       "      <td>7641041.0</td>\n",
       "      <td>27138832.0</td>\n",
       "      <td>14358922.0</td>\n",
       "      <td>...</td>\n",
       "      <td>418418.0</td>\n",
       "      <td>363296.0</td>\n",
       "      <td>270675.0</td>\n",
       "      <td>3286034.0</td>\n",
       "      <td>1372011.0</td>\n",
       "      <td>4717112.0</td>\n",
       "      <td>208.398961</td>\n",
       "      <td>260.892247</td>\n",
       "      <td>196.764414</td>\n",
       "      <td>NaN</td>\n",
       "    </tr>\n",
       "  </tbody>\n",
       "</table>\n",
       "<p>5 rows × 25 columns</p>\n",
       "</div>"
      ],
      "text/plain": [
       "       PRIMARY_KEY       STATE  YEAR  ENROLL  TOTAL_REVENUE  FEDERAL_REVENUE  \\\n",
       "0     1992_ALABAMA     ALABAMA  1992     NaN      2678885.0         304177.0   \n",
       "1      1992_ALASKA      ALASKA  1992     NaN      1049591.0         106780.0   \n",
       "2     1992_ARIZONA     ARIZONA  1992     NaN      3258079.0         297888.0   \n",
       "3    1992_ARKANSAS    ARKANSAS  1992     NaN      1711959.0         178571.0   \n",
       "4  1992_CALIFORNIA  CALIFORNIA  1992     NaN     26260025.0        2072470.0   \n",
       "\n",
       "   STATE_REVENUE  LOCAL_REVENUE  TOTAL_EXPENDITURE  INSTRUCTION_EXPENDITURE  \\\n",
       "0      1659028.0       715680.0          2653798.0                1481703.0   \n",
       "1       720711.0       222100.0           972488.0                 498362.0   \n",
       "2      1369815.0      1590376.0          3401580.0                1435908.0   \n",
       "3       958785.0       574603.0          1743022.0                 964323.0   \n",
       "4     16546514.0      7641041.0         27138832.0               14358922.0   \n",
       "\n",
       "   ...  GRADES_4_G  GRADES_8_G  GRADES_12_G  GRADES_1_8_G  GRADES_9_12_G  \\\n",
       "0  ...     57948.0     58025.0      41167.0      471564.0       196386.0   \n",
       "1  ...      9748.0      8789.0       6714.0       79117.0        30847.0   \n",
       "2  ...     55433.0     49081.0      37410.0      437127.0       175210.0   \n",
       "3  ...     34632.0     36011.0      27651.0      281338.0       123113.0   \n",
       "4  ...    418418.0    363296.0     270675.0     3286034.0      1372011.0   \n",
       "\n",
       "   GRADES_ALL_G  AVG_MATH_4_SCORE  AVG_MATH_8_SCORE  AVG_READING_4_SCORE  \\\n",
       "0      676174.0        208.327876        252.187522           207.963517   \n",
       "1      112335.0               NaN               NaN                  NaN   \n",
       "2      614881.0        215.253932        265.366278           206.212716   \n",
       "3      405259.0        210.206028        256.312090           208.634458   \n",
       "4     4717112.0        208.398961        260.892247           196.764414   \n",
       "\n",
       "   AVG_READING_8_SCORE  \n",
       "0                  NaN  \n",
       "1           258.859712  \n",
       "2           262.169895  \n",
       "3           264.619665  \n",
       "4                  NaN  \n",
       "\n",
       "[5 rows x 25 columns]"
      ]
     },
     "execution_count": 8,
     "metadata": {},
     "output_type": "execute_result"
    }
   ],
   "source": [
    "df.head(5)"
   ]
  },
  {
   "cell_type": "code",
   "execution_count": 9,
   "metadata": {},
   "outputs": [
    {
     "data": {
      "text/html": [
       "<div>\n",
       "<style scoped>\n",
       "    .dataframe tbody tr th:only-of-type {\n",
       "        vertical-align: middle;\n",
       "    }\n",
       "\n",
       "    .dataframe tbody tr th {\n",
       "        vertical-align: top;\n",
       "    }\n",
       "\n",
       "    .dataframe thead th {\n",
       "        text-align: right;\n",
       "    }\n",
       "</style>\n",
       "<table border=\"1\" class=\"dataframe\">\n",
       "  <thead>\n",
       "    <tr style=\"text-align: right;\">\n",
       "      <th></th>\n",
       "      <th>YEAR</th>\n",
       "      <th>ENROLL</th>\n",
       "      <th>TOTAL_REVENUE</th>\n",
       "      <th>FEDERAL_REVENUE</th>\n",
       "      <th>STATE_REVENUE</th>\n",
       "      <th>LOCAL_REVENUE</th>\n",
       "      <th>TOTAL_EXPENDITURE</th>\n",
       "      <th>INSTRUCTION_EXPENDITURE</th>\n",
       "      <th>SUPPORT_SERVICES_EXPENDITURE</th>\n",
       "      <th>OTHER_EXPENDITURE</th>\n",
       "      <th>...</th>\n",
       "      <th>GRADES_4_G</th>\n",
       "      <th>GRADES_8_G</th>\n",
       "      <th>GRADES_12_G</th>\n",
       "      <th>GRADES_1_8_G</th>\n",
       "      <th>GRADES_9_12_G</th>\n",
       "      <th>GRADES_ALL_G</th>\n",
       "      <th>AVG_MATH_4_SCORE</th>\n",
       "      <th>AVG_MATH_8_SCORE</th>\n",
       "      <th>AVG_READING_4_SCORE</th>\n",
       "      <th>AVG_READING_8_SCORE</th>\n",
       "    </tr>\n",
       "  </thead>\n",
       "  <tbody>\n",
       "    <tr>\n",
       "      <th>count</th>\n",
       "      <td>1492.000000</td>\n",
       "      <td>1.229000e+03</td>\n",
       "      <td>1.280000e+03</td>\n",
       "      <td>1.280000e+03</td>\n",
       "      <td>1.280000e+03</td>\n",
       "      <td>1.280000e+03</td>\n",
       "      <td>1.280000e+03</td>\n",
       "      <td>1.280000e+03</td>\n",
       "      <td>1.280000e+03</td>\n",
       "      <td>1.229000e+03</td>\n",
       "      <td>...</td>\n",
       "      <td>1361.000000</td>\n",
       "      <td>1361.000000</td>\n",
       "      <td>1361.00000</td>\n",
       "      <td>1.361000e+03</td>\n",
       "      <td>1.361000e+03</td>\n",
       "      <td>1.319000e+03</td>\n",
       "      <td>536.000000</td>\n",
       "      <td>532.000000</td>\n",
       "      <td>533.000000</td>\n",
       "      <td>498.000000</td>\n",
       "    </tr>\n",
       "    <tr>\n",
       "      <th>mean</th>\n",
       "      <td>2004.433646</td>\n",
       "      <td>9.159308e+05</td>\n",
       "      <td>9.092082e+06</td>\n",
       "      <td>7.663723e+05</td>\n",
       "      <td>4.216553e+06</td>\n",
       "      <td>4.109157e+06</td>\n",
       "      <td>9.196681e+06</td>\n",
       "      <td>4.762966e+06</td>\n",
       "      <td>2.680331e+06</td>\n",
       "      <td>4.292046e+05</td>\n",
       "      <td>...</td>\n",
       "      <td>64538.927259</td>\n",
       "      <td>64271.057311</td>\n",
       "      <td>54268.92432</td>\n",
       "      <td>5.192140e+05</td>\n",
       "      <td>2.470714e+05</td>\n",
       "      <td>8.024415e+05</td>\n",
       "      <td>234.768293</td>\n",
       "      <td>278.414711</td>\n",
       "      <td>218.866154</td>\n",
       "      <td>263.661132</td>\n",
       "    </tr>\n",
       "    <tr>\n",
       "      <th>std</th>\n",
       "      <td>7.393983</td>\n",
       "      <td>1.065280e+06</td>\n",
       "      <td>1.174519e+07</td>\n",
       "      <td>1.145242e+06</td>\n",
       "      <td>5.543072e+06</td>\n",
       "      <td>5.482971e+06</td>\n",
       "      <td>1.197813e+07</td>\n",
       "      <td>6.293004e+06</td>\n",
       "      <td>3.353349e+06</td>\n",
       "      <td>5.340693e+05</td>\n",
       "      <td>...</td>\n",
       "      <td>80293.387625</td>\n",
       "      <td>78910.545776</td>\n",
       "      <td>67889.27623</td>\n",
       "      <td>6.436384e+05</td>\n",
       "      <td>3.077056e+05</td>\n",
       "      <td>9.707031e+05</td>\n",
       "      <td>10.221511</td>\n",
       "      <td>10.159722</td>\n",
       "      <td>7.769616</td>\n",
       "      <td>6.803725</td>\n",
       "    </tr>\n",
       "    <tr>\n",
       "      <th>min</th>\n",
       "      <td>1992.000000</td>\n",
       "      <td>4.386600e+04</td>\n",
       "      <td>4.656500e+05</td>\n",
       "      <td>3.102000e+04</td>\n",
       "      <td>0.000000e+00</td>\n",
       "      <td>2.209300e+04</td>\n",
       "      <td>4.816650e+05</td>\n",
       "      <td>2.655490e+05</td>\n",
       "      <td>1.399630e+05</td>\n",
       "      <td>1.154100e+04</td>\n",
       "      <td>...</td>\n",
       "      <td>633.000000</td>\n",
       "      <td>437.000000</td>\n",
       "      <td>311.00000</td>\n",
       "      <td>4.878000e+03</td>\n",
       "      <td>1.808000e+03</td>\n",
       "      <td>7.254000e+03</td>\n",
       "      <td>187.134670</td>\n",
       "      <td>232.831510</td>\n",
       "      <td>178.557612</td>\n",
       "      <td>236.379102</td>\n",
       "    </tr>\n",
       "    <tr>\n",
       "      <th>25%</th>\n",
       "      <td>1998.000000</td>\n",
       "      <td>2.583140e+05</td>\n",
       "      <td>2.186305e+06</td>\n",
       "      <td>1.893540e+05</td>\n",
       "      <td>1.153097e+06</td>\n",
       "      <td>7.158345e+05</td>\n",
       "      <td>2.165404e+06</td>\n",
       "      <td>1.168032e+06</td>\n",
       "      <td>6.357900e+05</td>\n",
       "      <td>1.028310e+05</td>\n",
       "      <td>...</td>\n",
       "      <td>13739.000000</td>\n",
       "      <td>13342.000000</td>\n",
       "      <td>10919.00000</td>\n",
       "      <td>1.106260e+05</td>\n",
       "      <td>5.147100e+04</td>\n",
       "      <td>1.810650e+05</td>\n",
       "      <td>229.694352</td>\n",
       "      <td>272.761598</td>\n",
       "      <td>214.663401</td>\n",
       "      <td>259.533171</td>\n",
       "    </tr>\n",
       "    <tr>\n",
       "      <th>50%</th>\n",
       "      <td>2004.000000</td>\n",
       "      <td>6.483130e+05</td>\n",
       "      <td>5.079546e+06</td>\n",
       "      <td>4.033765e+05</td>\n",
       "      <td>2.537074e+06</td>\n",
       "      <td>2.055780e+06</td>\n",
       "      <td>5.234506e+06</td>\n",
       "      <td>2.657452e+06</td>\n",
       "      <td>1.525406e+06</td>\n",
       "      <td>2.715960e+05</td>\n",
       "      <td>...</td>\n",
       "      <td>43272.000000</td>\n",
       "      <td>43339.000000</td>\n",
       "      <td>36735.00000</td>\n",
       "      <td>3.457750e+05</td>\n",
       "      <td>1.642600e+05</td>\n",
       "      <td>5.503420e+05</td>\n",
       "      <td>237.238552</td>\n",
       "      <td>280.618803</td>\n",
       "      <td>220.416034</td>\n",
       "      <td>265.010912</td>\n",
       "    </tr>\n",
       "    <tr>\n",
       "      <th>75%</th>\n",
       "      <td>2011.000000</td>\n",
       "      <td>1.014528e+06</td>\n",
       "      <td>1.085985e+07</td>\n",
       "      <td>8.289660e+05</td>\n",
       "      <td>5.080939e+06</td>\n",
       "      <td>4.768680e+06</td>\n",
       "      <td>1.074519e+07</td>\n",
       "      <td>5.568028e+06</td>\n",
       "      <td>3.229651e+06</td>\n",
       "      <td>5.186000e+05</td>\n",
       "      <td>...</td>\n",
       "      <td>75481.000000</td>\n",
       "      <td>76566.000000</td>\n",
       "      <td>67460.00000</td>\n",
       "      <td>6.119050e+05</td>\n",
       "      <td>2.905020e+05</td>\n",
       "      <td>9.282755e+05</td>\n",
       "      <td>241.995486</td>\n",
       "      <td>285.347428</td>\n",
       "      <td>223.999337</td>\n",
       "      <td>268.190121</td>\n",
       "    </tr>\n",
       "    <tr>\n",
       "      <th>max</th>\n",
       "      <td>2017.000000</td>\n",
       "      <td>6.307022e+06</td>\n",
       "      <td>8.921726e+07</td>\n",
       "      <td>9.990221e+06</td>\n",
       "      <td>5.090457e+07</td>\n",
       "      <td>3.610526e+07</td>\n",
       "      <td>8.532013e+07</td>\n",
       "      <td>4.396452e+07</td>\n",
       "      <td>2.605802e+07</td>\n",
       "      <td>3.995951e+06</td>\n",
       "      <td>...</td>\n",
       "      <td>493415.000000</td>\n",
       "      <td>500143.000000</td>\n",
       "      <td>498403.00000</td>\n",
       "      <td>3.929869e+06</td>\n",
       "      <td>2.013687e+06</td>\n",
       "      <td>5.944746e+06</td>\n",
       "      <td>253.420961</td>\n",
       "      <td>300.568235</td>\n",
       "      <td>236.773867</td>\n",
       "      <td>280.499130</td>\n",
       "    </tr>\n",
       "  </tbody>\n",
       "</table>\n",
       "<p>8 rows × 23 columns</p>\n",
       "</div>"
      ],
      "text/plain": [
       "              YEAR        ENROLL  TOTAL_REVENUE  FEDERAL_REVENUE  \\\n",
       "count  1492.000000  1.229000e+03   1.280000e+03     1.280000e+03   \n",
       "mean   2004.433646  9.159308e+05   9.092082e+06     7.663723e+05   \n",
       "std       7.393983  1.065280e+06   1.174519e+07     1.145242e+06   \n",
       "min    1992.000000  4.386600e+04   4.656500e+05     3.102000e+04   \n",
       "25%    1998.000000  2.583140e+05   2.186305e+06     1.893540e+05   \n",
       "50%    2004.000000  6.483130e+05   5.079546e+06     4.033765e+05   \n",
       "75%    2011.000000  1.014528e+06   1.085985e+07     8.289660e+05   \n",
       "max    2017.000000  6.307022e+06   8.921726e+07     9.990221e+06   \n",
       "\n",
       "       STATE_REVENUE  LOCAL_REVENUE  TOTAL_EXPENDITURE  \\\n",
       "count   1.280000e+03   1.280000e+03       1.280000e+03   \n",
       "mean    4.216553e+06   4.109157e+06       9.196681e+06   \n",
       "std     5.543072e+06   5.482971e+06       1.197813e+07   \n",
       "min     0.000000e+00   2.209300e+04       4.816650e+05   \n",
       "25%     1.153097e+06   7.158345e+05       2.165404e+06   \n",
       "50%     2.537074e+06   2.055780e+06       5.234506e+06   \n",
       "75%     5.080939e+06   4.768680e+06       1.074519e+07   \n",
       "max     5.090457e+07   3.610526e+07       8.532013e+07   \n",
       "\n",
       "       INSTRUCTION_EXPENDITURE  SUPPORT_SERVICES_EXPENDITURE  \\\n",
       "count             1.280000e+03                  1.280000e+03   \n",
       "mean              4.762966e+06                  2.680331e+06   \n",
       "std               6.293004e+06                  3.353349e+06   \n",
       "min               2.655490e+05                  1.399630e+05   \n",
       "25%               1.168032e+06                  6.357900e+05   \n",
       "50%               2.657452e+06                  1.525406e+06   \n",
       "75%               5.568028e+06                  3.229651e+06   \n",
       "max               4.396452e+07                  2.605802e+07   \n",
       "\n",
       "       OTHER_EXPENDITURE  ...     GRADES_4_G     GRADES_8_G   GRADES_12_G  \\\n",
       "count       1.229000e+03  ...    1361.000000    1361.000000    1361.00000   \n",
       "mean        4.292046e+05  ...   64538.927259   64271.057311   54268.92432   \n",
       "std         5.340693e+05  ...   80293.387625   78910.545776   67889.27623   \n",
       "min         1.154100e+04  ...     633.000000     437.000000     311.00000   \n",
       "25%         1.028310e+05  ...   13739.000000   13342.000000   10919.00000   \n",
       "50%         2.715960e+05  ...   43272.000000   43339.000000   36735.00000   \n",
       "75%         5.186000e+05  ...   75481.000000   76566.000000   67460.00000   \n",
       "max         3.995951e+06  ...  493415.000000  500143.000000  498403.00000   \n",
       "\n",
       "       GRADES_1_8_G  GRADES_9_12_G  GRADES_ALL_G  AVG_MATH_4_SCORE  \\\n",
       "count  1.361000e+03   1.361000e+03  1.319000e+03        536.000000   \n",
       "mean   5.192140e+05   2.470714e+05  8.024415e+05        234.768293   \n",
       "std    6.436384e+05   3.077056e+05  9.707031e+05         10.221511   \n",
       "min    4.878000e+03   1.808000e+03  7.254000e+03        187.134670   \n",
       "25%    1.106260e+05   5.147100e+04  1.810650e+05        229.694352   \n",
       "50%    3.457750e+05   1.642600e+05  5.503420e+05        237.238552   \n",
       "75%    6.119050e+05   2.905020e+05  9.282755e+05        241.995486   \n",
       "max    3.929869e+06   2.013687e+06  5.944746e+06        253.420961   \n",
       "\n",
       "       AVG_MATH_8_SCORE  AVG_READING_4_SCORE  AVG_READING_8_SCORE  \n",
       "count        532.000000           533.000000           498.000000  \n",
       "mean         278.414711           218.866154           263.661132  \n",
       "std           10.159722             7.769616             6.803725  \n",
       "min          232.831510           178.557612           236.379102  \n",
       "25%          272.761598           214.663401           259.533171  \n",
       "50%          280.618803           220.416034           265.010912  \n",
       "75%          285.347428           223.999337           268.190121  \n",
       "max          300.568235           236.773867           280.499130  \n",
       "\n",
       "[8 rows x 23 columns]"
      ]
     },
     "execution_count": 9,
     "metadata": {},
     "output_type": "execute_result"
    }
   ],
   "source": [
    "df.describe()"
   ]
  },
  {
   "cell_type": "code",
   "execution_count": 10,
   "metadata": {},
   "outputs": [
    {
     "data": {
      "text/plain": [
       "{1991, 1995, 1999, 2002, 2004, 2006, 2008, 2010, 2012, 2014, 2016}"
      ]
     },
     "execution_count": 10,
     "metadata": {},
     "output_type": "execute_result"
    }
   ],
   "source": [
    "set(df[df['AVG_MATH_4_SCORE']>0]['YEAR'].subtract(1).tolist())"
   ]
  },
  {
   "cell_type": "code",
   "execution_count": 11,
   "metadata": {},
   "outputs": [
    {
     "name": "stdout",
     "output_type": "stream",
     "text": [
      "(23, 23)\n"
     ]
    },
    {
     "data": {
      "text/plain": [
       "<matplotlib.axes._subplots.AxesSubplot at 0x105dbc390>"
      ]
     },
     "execution_count": 11,
     "metadata": {},
     "output_type": "execute_result"
    },
    {
     "data": {
      "image/png": "[encoded data removed]",
      "text/plain": [
       "<Figure size 864x720 with 2 Axes>"
      ]
     },
     "metadata": {
      "needs_background": "light"
     },
     "output_type": "display_data"
    }
   ],
   "source": [
    "#plt.figure(figsize=(15,15))\n",
    "corr = df.corr()\n",
    "print(corr.shape)\n",
    "fig, ax = plt.subplots(figsize=(12, 10))\n",
    "sns.heatmap(corr)"
   ]
  },
  {
   "cell_type": "code",
   "execution_count": 12,
   "metadata": {},
   "outputs": [],
   "source": [
    "# sns.pairplot(df)"
   ]
  },
  {
   "cell_type": "code",
   "execution_count": 13,
   "metadata": {},
   "outputs": [
    {
     "name": "stdout",
     "output_type": "stream",
     "text": [
      "PCA(copy=True, iterated_power='auto', n_components=None, random_state=None,\n",
      "  svd_solver='auto', tol=0.0, whiten=False)\n",
      "(1492, 25)\n",
      "(413, 25)\n"
     ]
    },
    {
     "data": {
      "text/plain": [
       "PCA(copy=True, iterated_power='auto', n_components=None, random_state=None,\n",
       "  svd_solver='auto', tol=0.0, whiten=False)"
      ]
     },
     "execution_count": 13,
     "metadata": {},
     "output_type": "execute_result"
    }
   ],
   "source": [
    "# PCA\n",
    "\n",
    "from sklearn.decomposition import PCA\n",
    "pca = PCA()\n",
    "print(pca)\n",
    "\n",
    "print(df.shape)\n",
    "print(df.dropna(axis=0).shape)\n",
    "\n",
    "df1 = df.dropna(axis=0)\n",
    "df1 = pd.get_dummies(df1, columns=['STATE'])\n",
    "drop_cols = ['PRIMARY_KEY', 'YEAR', 'ENROLL', \\\n",
    "             'TOTAL_REVENUE', 'FEDERAL_REVENUE', 'STATE_REVENUE', 'LOCAL_REVENUE', \\\n",
    "             'TOTAL_EXPENDITURE', 'INSTRUCTION_EXPENDITURE', 'SUPPORT_SERVICES_EXPENDITURE', 'OTHER_EXPENDITURE', \\\n",
    "             'CAPITAL_OUTLAY_EXPENDITURE', \\\n",
    "             'GRADES_PK_G', 'GRADES_KG_G', 'GRADES_4_G', 'GRADES_8_G', 'GRADES_12_G', \\\n",
    "             'GRADES_1_8_G', 'GRADES_9_12_G', 'GRADES_ALL_G']\n",
    "df1 = df1.drop(drop_cols, axis=1)\n",
    "df1 = df1.drop('AVG_MATH_4_SCORE', axis=1)\n",
    "pca.fit(df1)"
   ]
  },
  {
   "cell_type": "code",
   "execution_count": 14,
   "metadata": {},
   "outputs": [
    {
     "data": {
      "text/plain": [
       "Text(0, 0.5, 'Explained Variance')"
      ]
     },
     "execution_count": 14,
     "metadata": {},
     "output_type": "execute_result"
    },
    {
     "data": {
      "image/png": "[encoded data removed]",
      "text/plain": [
       "<Figure size 432x288 with 1 Axes>"
      ]
     },
     "metadata": {
      "needs_background": "light"
     },
     "output_type": "display_data"
    }
   ],
   "source": [
    "ax = sns.barplot(x=np.arange(20), y=pca.explained_variance_[0:20]/sum(pca.explained_variance_[0:20]))\n",
    "ax.set_xlabel('Principal Component')\n",
    "ax.set_ylabel('Explained Variance')"
   ]
  },
  {
   "cell_type": "code",
   "execution_count": 15,
   "metadata": {},
   "outputs": [
    {
     "data": {
      "text/plain": [
       "<matplotlib.axes._subplots.AxesSubplot at 0x10633c390>"
      ]
     },
     "execution_count": 15,
     "metadata": {},
     "output_type": "execute_result"
    },
    {
     "data": {
      "image/png": "[encoded data removed]",
      "text/plain": [
       "<Figure size 576x576 with 4 Axes>"
      ]
     },
     "metadata": {
      "needs_background": "light"
     },
     "output_type": "display_data"
    }
   ],
   "source": [
    "X_pca = pca.fit(df1).transform(df1)\n",
    "plt.figure(figsize=(8,8))\n",
    "plt.subplot(2,2,1)\n",
    "sns.scatterplot(X_pca[:,0], X_pca[:,1])\n",
    "plt.subplot(2,2,2)\n",
    "sns.scatterplot(X_pca[:,2], X_pca[:,3])\n",
    "plt.subplot(2,2,3)\n",
    "sns.scatterplot(X_pca[:,4], X_pca[:,5])\n",
    "plt.subplot(2,2,4)\n",
    "sns.scatterplot(X_pca[:,6], X_pca[:,7])"
   ]
  },
  {
   "cell_type": "code",
   "execution_count": 16,
   "metadata": {},
   "outputs": [
    {
     "name": "stdout",
     "output_type": "stream",
     "text": [
      "(413, 54)\n",
      "(1492, 25)\n"
     ]
    },
    {
     "data": {
      "text/html": [
       "<div>\n",
       "<style scoped>\n",
       "    .dataframe tbody tr th:only-of-type {\n",
       "        vertical-align: middle;\n",
       "    }\n",
       "\n",
       "    .dataframe tbody tr th {\n",
       "        vertical-align: top;\n",
       "    }\n",
       "\n",
       "    .dataframe thead th {\n",
       "        text-align: right;\n",
       "    }\n",
       "</style>\n",
       "<table border=\"1\" class=\"dataframe\">\n",
       "  <thead>\n",
       "    <tr style=\"text-align: right;\">\n",
       "      <th></th>\n",
       "      <th>0</th>\n",
       "      <th>1</th>\n",
       "      <th>2</th>\n",
       "      <th>3</th>\n",
       "      <th>4</th>\n",
       "      <th>5</th>\n",
       "      <th>6</th>\n",
       "      <th>7</th>\n",
       "      <th>8</th>\n",
       "      <th>9</th>\n",
       "      <th>...</th>\n",
       "      <th>44</th>\n",
       "      <th>45</th>\n",
       "      <th>46</th>\n",
       "      <th>47</th>\n",
       "      <th>48</th>\n",
       "      <th>49</th>\n",
       "      <th>50</th>\n",
       "      <th>51</th>\n",
       "      <th>52</th>\n",
       "      <th>53</th>\n",
       "    </tr>\n",
       "  </thead>\n",
       "  <tbody>\n",
       "    <tr>\n",
       "      <th>0</th>\n",
       "      <td>23.571524</td>\n",
       "      <td>1.784596</td>\n",
       "      <td>-7.054729</td>\n",
       "      <td>-0.243378</td>\n",
       "      <td>-1.212814e-01</td>\n",
       "      <td>2.152192e-01</td>\n",
       "      <td>-4.345837e-02</td>\n",
       "      <td>-7.110527e-02</td>\n",
       "      <td>3.366180e-02</td>\n",
       "      <td>1.048736e-01</td>\n",
       "      <td>...</td>\n",
       "      <td>2.971782e-16</td>\n",
       "      <td>-9.736713e-16</td>\n",
       "      <td>-1.155702e-14</td>\n",
       "      <td>-8.437576e-16</td>\n",
       "      <td>5.757654e-15</td>\n",
       "      <td>-1.064386e-15</td>\n",
       "      <td>-0.029130</td>\n",
       "      <td>0.000845</td>\n",
       "      <td>-0.026965</td>\n",
       "      <td>-1.092591e-16</td>\n",
       "    </tr>\n",
       "    <tr>\n",
       "      <th>1</th>\n",
       "      <td>16.997771</td>\n",
       "      <td>-1.303508</td>\n",
       "      <td>3.099418</td>\n",
       "      <td>-0.123219</td>\n",
       "      <td>-1.590266e-02</td>\n",
       "      <td>-1.142258e-01</td>\n",
       "      <td>3.750142e-03</td>\n",
       "      <td>3.396099e-02</td>\n",
       "      <td>1.684512e-02</td>\n",
       "      <td>1.633815e-01</td>\n",
       "      <td>...</td>\n",
       "      <td>2.434017e-16</td>\n",
       "      <td>-3.665181e-16</td>\n",
       "      <td>1.661489e-14</td>\n",
       "      <td>2.439140e-16</td>\n",
       "      <td>1.381814e-15</td>\n",
       "      <td>7.792960e-17</td>\n",
       "      <td>0.003047</td>\n",
       "      <td>0.160101</td>\n",
       "      <td>-0.033734</td>\n",
       "      <td>1.763242e-18</td>\n",
       "    </tr>\n",
       "    <tr>\n",
       "      <th>2</th>\n",
       "      <td>19.852474</td>\n",
       "      <td>-9.767561</td>\n",
       "      <td>-3.024893</td>\n",
       "      <td>-0.146795</td>\n",
       "      <td>-9.121913e-04</td>\n",
       "      <td>8.322984e-02</td>\n",
       "      <td>-2.282784e-02</td>\n",
       "      <td>8.382454e-02</td>\n",
       "      <td>-4.181189e-02</td>\n",
       "      <td>4.780973e-02</td>\n",
       "      <td>...</td>\n",
       "      <td>7.915743e-16</td>\n",
       "      <td>-1.479429e-16</td>\n",
       "      <td>4.913402e-14</td>\n",
       "      <td>1.034948e-15</td>\n",
       "      <td>-3.494404e-16</td>\n",
       "      <td>5.364347e-17</td>\n",
       "      <td>0.020388</td>\n",
       "      <td>0.003369</td>\n",
       "      <td>-0.112199</td>\n",
       "      <td>-2.599233e-17</td>\n",
       "    </tr>\n",
       "    <tr>\n",
       "      <th>3</th>\n",
       "      <td>23.343371</td>\n",
       "      <td>-7.784619</td>\n",
       "      <td>3.309397</td>\n",
       "      <td>-0.088741</td>\n",
       "      <td>1.298310e-18</td>\n",
       "      <td>-2.737616e-16</td>\n",
       "      <td>-3.686777e-15</td>\n",
       "      <td>2.660320e-15</td>\n",
       "      <td>-9.921324e-16</td>\n",
       "      <td>-1.472343e-15</td>\n",
       "      <td>...</td>\n",
       "      <td>-7.037573e-16</td>\n",
       "      <td>-5.070307e-16</td>\n",
       "      <td>4.134191e-17</td>\n",
       "      <td>5.995323e-16</td>\n",
       "      <td>-5.090350e-16</td>\n",
       "      <td>-3.107023e-15</td>\n",
       "      <td>0.062406</td>\n",
       "      <td>0.017595</td>\n",
       "      <td>-0.069523</td>\n",
       "      <td>-1.092591e-16</td>\n",
       "    </tr>\n",
       "    <tr>\n",
       "      <th>4</th>\n",
       "      <td>1.355439</td>\n",
       "      <td>-4.462846</td>\n",
       "      <td>-4.506652</td>\n",
       "      <td>0.010422</td>\n",
       "      <td>-1.625872e-15</td>\n",
       "      <td>1.257999e-15</td>\n",
       "      <td>5.788283e-15</td>\n",
       "      <td>1.492851e-15</td>\n",
       "      <td>-4.301985e-15</td>\n",
       "      <td>1.417706e-15</td>\n",
       "      <td>...</td>\n",
       "      <td>-3.637515e-16</td>\n",
       "      <td>1.278781e-16</td>\n",
       "      <td>1.956477e-15</td>\n",
       "      <td>2.369751e-16</td>\n",
       "      <td>-5.229128e-16</td>\n",
       "      <td>1.999136e-15</td>\n",
       "      <td>0.066994</td>\n",
       "      <td>0.147651</td>\n",
       "      <td>-0.071759</td>\n",
       "      <td>-9.538127e-17</td>\n",
       "    </tr>\n",
       "  </tbody>\n",
       "</table>\n",
       "<p>5 rows × 54 columns</p>\n",
       "</div>"
      ],
      "text/plain": [
       "          0         1         2         3             4             5   \\\n",
       "0  23.571524  1.784596 -7.054729 -0.243378 -1.212814e-01  2.152192e-01   \n",
       "1  16.997771 -1.303508  3.099418 -0.123219 -1.590266e-02 -1.142258e-01   \n",
       "2  19.852474 -9.767561 -3.024893 -0.146795 -9.121913e-04  8.322984e-02   \n",
       "3  23.343371 -7.784619  3.309397 -0.088741  1.298310e-18 -2.737616e-16   \n",
       "4   1.355439 -4.462846 -4.506652  0.010422 -1.625872e-15  1.257999e-15   \n",
       "\n",
       "             6             7             8             9   ...            44  \\\n",
       "0 -4.345837e-02 -7.110527e-02  3.366180e-02  1.048736e-01  ...  2.971782e-16   \n",
       "1  3.750142e-03  3.396099e-02  1.684512e-02  1.633815e-01  ...  2.434017e-16   \n",
       "2 -2.282784e-02  8.382454e-02 -4.181189e-02  4.780973e-02  ...  7.915743e-16   \n",
       "3 -3.686777e-15  2.660320e-15 -9.921324e-16 -1.472343e-15  ... -7.037573e-16   \n",
       "4  5.788283e-15  1.492851e-15 -4.301985e-15  1.417706e-15  ... -3.637515e-16   \n",
       "\n",
       "             45            46            47            48            49  \\\n",
       "0 -9.736713e-16 -1.155702e-14 -8.437576e-16  5.757654e-15 -1.064386e-15   \n",
       "1 -3.665181e-16  1.661489e-14  2.439140e-16  1.381814e-15  7.792960e-17   \n",
       "2 -1.479429e-16  4.913402e-14  1.034948e-15 -3.494404e-16  5.364347e-17   \n",
       "3 -5.070307e-16  4.134191e-17  5.995323e-16 -5.090350e-16 -3.107023e-15   \n",
       "4  1.278781e-16  1.956477e-15  2.369751e-16 -5.229128e-16  1.999136e-15   \n",
       "\n",
       "         50        51        52            53  \n",
       "0 -0.029130  0.000845 -0.026965 -1.092591e-16  \n",
       "1  0.003047  0.160101 -0.033734  1.763242e-18  \n",
       "2  0.020388  0.003369 -0.112199 -2.599233e-17  \n",
       "3  0.062406  0.017595 -0.069523 -1.092591e-16  \n",
       "4  0.066994  0.147651 -0.071759 -9.538127e-17  \n",
       "\n",
       "[5 rows x 54 columns]"
      ]
     },
     "execution_count": 16,
     "metadata": {},
     "output_type": "execute_result"
    }
   ],
   "source": [
    "X_pca_df = pd.DataFrame(X_pca)\n",
    "print(X_pca_df.shape)\n",
    "print(df.shape)\n",
    "X_pca_df.head(5)"
   ]
  },
  {
   "cell_type": "code",
   "execution_count": 17,
   "metadata": {},
   "outputs": [],
   "source": [
    "# sns.pairplot(X_pca_df)"
   ]
  },
  {
   "cell_type": "code",
   "execution_count": null,
   "metadata": {},
   "outputs": [],
   "source": []
  },
  {
   "cell_type": "code",
   "execution_count": 18,
   "metadata": {},
   "outputs": [
    {
     "data": {
      "text/plain": [
       "<seaborn.axisgrid.PairGrid at 0x1a1b9a32b0>"
      ]
     },
     "execution_count": 18,
     "metadata": {},
     "output_type": "execute_result"
    },
    {
     "data": {
      "image/png": "[encoded data removed]",
      "text/plain": [
       "<Figure size 900x900 with 30 Axes>"
      ]
     },
     "metadata": {
      "needs_background": "light"
     },
     "output_type": "display_data"
    }
   ],
   "source": [
    "sns.pairplot(X_pca_df.iloc[:,0:5], kind='reg')"
   ]
  },
  {
   "cell_type": "code",
   "execution_count": 19,
   "metadata": {},
   "outputs": [],
   "source": [
    "shift_cols= ['PRIMARY_KEY', 'YEAR', 'STATE', 'AVG_MATH_4_SCORE']\n"
   ]
  },
  {
   "cell_type": "code",
   "execution_count": 30,
   "metadata": {},
   "outputs": [],
   "source": [
    "# Function to return most recent test result\n",
    "def most_recent_test(cur_yr, state, df, new_cols):\n",
    "    most_recent_value= pd.DataFrame(data=None, index=new_cols)\n",
    "    print(most_recent_value)\n",
    "    df_scratch= df # .copy()\n",
    "    df_scratch= df_scratch[df_scratch['STATE']==state]\n",
    "    df_scratch= df_scratch[df_scratch['YEAR']<cur_yr]\n",
    "    df_scratch.sort_values(by='YEAR')\n",
    "    \n",
    "    for new_col in new_cols:\n",
    "        df_scratch2= df_scratch[df_scratch[new_col].notna()]\n",
    "        if df_scratch2.notna().any().any(): \n",
    "            most_recent_value[new_col]= df_scratch2[new_col].iloc[-1]\n",
    "        else:\n",
    "            most_recent_value[new_col]= np.nan #Should handle these cases better\n",
    "    return most_recent_value"
   ]
  },
  {
   "cell_type": "code",
   "execution_count": 39,
   "metadata": {},
   "outputs": [
    {
     "name": "stdout",
     "output_type": "stream",
     "text": [
      "2017\n",
      "Empty DataFrame\n",
      "Columns: []\n",
      "Index: [AVG_MATH_4_SCORE, YEAR, AVG_MATH_8_SCORE, ENROLL]\n"
     ]
    },
    {
     "data": {
      "text/html": [
       "<div>\n",
       "<style scoped>\n",
       "    .dataframe tbody tr th:only-of-type {\n",
       "        vertical-align: middle;\n",
       "    }\n",
       "\n",
       "    .dataframe tbody tr th {\n",
       "        vertical-align: top;\n",
       "    }\n",
       "\n",
       "    .dataframe thead th {\n",
       "        text-align: right;\n",
       "    }\n",
       "</style>\n",
       "<table border=\"1\" class=\"dataframe\">\n",
       "  <thead>\n",
       "    <tr style=\"text-align: right;\">\n",
       "      <th></th>\n",
       "      <th>AVG_MATH_4_SCORE</th>\n",
       "      <th>YEAR</th>\n",
       "      <th>AVG_MATH_8_SCORE</th>\n",
       "      <th>ENROLL</th>\n",
       "    </tr>\n",
       "  </thead>\n",
       "  <tbody>\n",
       "    <tr>\n",
       "      <th>AVG_MATH_4_SCORE</th>\n",
       "      <td>231.781601</td>\n",
       "      <td>2008</td>\n",
       "      <td>270.804024</td>\n",
       "      <td>428776.0</td>\n",
       "    </tr>\n",
       "    <tr>\n",
       "      <th>YEAR</th>\n",
       "      <td>231.781601</td>\n",
       "      <td>2008</td>\n",
       "      <td>270.804024</td>\n",
       "      <td>428776.0</td>\n",
       "    </tr>\n",
       "    <tr>\n",
       "      <th>AVG_MATH_8_SCORE</th>\n",
       "      <td>231.781601</td>\n",
       "      <td>2008</td>\n",
       "      <td>270.804024</td>\n",
       "      <td>428776.0</td>\n",
       "    </tr>\n",
       "    <tr>\n",
       "      <th>ENROLL</th>\n",
       "      <td>231.781601</td>\n",
       "      <td>2008</td>\n",
       "      <td>270.804024</td>\n",
       "      <td>428776.0</td>\n",
       "    </tr>\n",
       "  </tbody>\n",
       "</table>\n",
       "</div>"
      ],
      "text/plain": [
       "                  AVG_MATH_4_SCORE  YEAR  AVG_MATH_8_SCORE    ENROLL\n",
       "AVG_MATH_4_SCORE        231.781601  2008        270.804024  428776.0\n",
       "YEAR                    231.781601  2008        270.804024  428776.0\n",
       "AVG_MATH_8_SCORE        231.781601  2008        270.804024  428776.0\n",
       "ENROLL                  231.781601  2008        270.804024  428776.0"
      ]
     },
     "execution_count": 39,
     "metadata": {},
     "output_type": "execute_result"
    }
   ],
   "source": [
    "print(df['YEAR'].iloc[-1])\n",
    "\n",
    "most_recent_test(2009, 'NEVADA', df, ['AVG_MATH_4_SCORE', 'YEAR', 'AVG_MATH_8_SCORE', 'ENROLL'])\n"
   ]
  },
  {
   "cell_type": "code",
   "execution_count": 38,
   "metadata": {},
   "outputs": [
    {
     "ename": "SyntaxError",
     "evalue": "invalid syntax (<ipython-input-38-d60d0454fe06>, line 9)",
     "output_type": "error",
     "traceback": [
      "\u001b[0;36m  File \u001b[0;32m\"<ipython-input-38-d60d0454fe06>\"\u001b[0;36m, line \u001b[0;32m9\u001b[0m\n\u001b[0;31m    data['recent_{}'.format(i)] for i in cols_add_recent = recent_test[cols]\u001b[0m\n\u001b[0m                                  ^\u001b[0m\n\u001b[0;31mSyntaxError\u001b[0m\u001b[0;31m:\u001b[0m invalid syntax\n"
     ]
    }
   ],
   "source": [
    "# Add recent_ features\n",
    "\n",
    "cols_add_recent = ['AVG_MATH_4_SCORE', 'AVG_READING_8_SCORE']\n",
    "for cols in cols_add_recent: \n",
    "    df['recent_{}'.format(cols)] = np.zeros(len(df))\n",
    "\n",
    "for index, data in df.iterrows(): \n",
    "    recent_test= most_recent_test(cur_yr=data['YEAR'], state=data['STATE'], df=df, new_cols=cols_add_recent)\n",
    "    data['recent_{}'.format(i)] for i in cols_add_recent = recent_test[cols]\n",
    "print('recent_ features added')\n"
   ]
  },
  {
   "cell_type": "code",
   "execution_count": null,
   "metadata": {},
   "outputs": [],
   "source": [
    "# Add recent_AVG_MATH_4_SCORE\n",
    "df['recent_AVG_MATH_4_SCORE'] = np.zeros(len(df))\n",
    "#new_cols= ['']\n",
    "for index, data in df.iterrows(): \n",
    "    recent_test= most_recent_test(cur_yr=data['YEAR'], state=data['STATE'], df=df)\n",
    "    df.loc[index, 'recent_AVG_MATH_4_SCORE']= recent_test\n",
    "print('recent_AVG_MATH_4_SCORE added')\n"
   ]
  },
  {
   "cell_type": "code",
   "execution_count": null,
   "metadata": {},
   "outputs": [],
   "source": [
    "# Function to return most recent test result\n",
    "def most_recent_test(cur_yr, state, df):\n",
    "    df_scratch= df # .copy()\n",
    "    df_scratch= df_scratch[df_scratch['STATE']==state]\n",
    "    df_scratch= df_scratch[df_scratch['YEAR']<cur_yr]\n",
    "    df_scratch.sort_values(by='YEAR')\n",
    "\n",
    "    df_scratch2= df_scratch[df_scratch['AVG_MATH_4_SCORE'].notna()]\n",
    "    if df_scratch2.notna().any().any(): \n",
    "        most_recent_value= df_scratch2['AVG_MATH_4_SCORE'].iloc[-1]\n",
    "    else:\n",
    "        most_recent_value= np.nan #Should handle these cases better\n",
    "    return most_recent_value"
   ]
  },
  {
   "cell_type": "code",
   "execution_count": null,
   "metadata": {},
   "outputs": [],
   "source": [
    "most_recent_test(2009, 'VIRGINIA', df)"
   ]
  },
  {
   "cell_type": "code",
   "execution_count": null,
   "metadata": {},
   "outputs": [],
   "source": [
    "#most_recent_test(2009, 'VIRGINIA', df, ['AVG_MATH_4_SCORE', 'YEAR'])"
   ]
  },
  {
   "cell_type": "code",
   "execution_count": null,
   "metadata": {},
   "outputs": [],
   "source": [
    "df[df['STATE']=='VIRGINIA'][df['YEAR'] <1997][['YEAR', 'AVG_MATH_4_SCORE']]"
   ]
  },
  {
   "cell_type": "code",
   "execution_count": null,
   "metadata": {},
   "outputs": [],
   "source": []
  },
  {
   "cell_type": "code",
   "execution_count": null,
   "metadata": {},
   "outputs": [],
   "source": []
  },
  {
   "cell_type": "code",
   "execution_count": null,
   "metadata": {},
   "outputs": [],
   "source": [
    "\"\"\"Failed attempts to make new recent_AVG_MATH_4_SCORE\n",
    "\n",
    "shift_cols= ['PRIMARY_KEY', 'YEAR', 'STATE', 'AVG_MATH_4_SCORE']\n",
    "df_shift= df[shift_cols].copy()\n",
    "# print(df.shape, df_shift.shape)\n",
    "\n",
    "year= df_shift['YEAR']\n",
    "df_shift.loc['YEAR']= year-1\n",
    "df_shift['YEAR'] = df_shift['YEAR'].astype(int)\n",
    "\n",
    "df_shift.loc['PRIMARY_KEY']= \"{}_{}\".format(df_shift['YEAR'], df_shift['STATE'])\n",
    "df_join= df.join(df_shift, on='PRIMARY_KEY', rsuffix='_shift')\n",
    "\"\"\"\n",
    "\n",
    "'''\n",
    "print(df_join.shape)\n",
    "print(df_shift['AVG_MATH_4_SCORE'].notna().sum())\n",
    "print(df_join['AVG_MATH_4_SCORE_shift'].notna().sum())\n",
    "print(df_join['AVG_MATH_4_SCORE'].notna().sum())\n",
    "\n",
    "print(df_join['STATE_shift'].notna().sum())\n",
    "\n",
    "print(df_shift['PRIMARY_KEY'])\n",
    "'''\n",
    "\n",
    "# df_join['recent_AVG_MATH_4_SCORE'] = df_join['AVG_MATH_4_SCORE_shift']\n",
    "# df_join= df_join.drop(labels=['PRIMARY_KEY_shift', 'YEAR_shift', 'STATE_shift', 'AVG_MATH_4_SCORE_shift'], axis=1)\n",
    "\n",
    "# print(df_join.shape, '\\n', df_join)\n",
    "# print(df_join['recent_AVG_MATH_4_SCORE'])\n",
    "# print(df_join['AVG_MATH_4_SCORE'])"
   ]
  },
  {
   "cell_type": "code",
   "execution_count": null,
   "metadata": {},
   "outputs": [],
   "source": [
    "print(np.count_nonzero(~np.isnan(df['recent_AVG_MATH_4_SCORE'])))\n",
    "print(np.shape(df['recent_AVG_MATH_4_SCORE']))\n",
    "\n",
    "# print(df['recent_AVG_MATH_4_SCORE'].value_counts())"
   ]
  },
  {
   "cell_type": "code",
   "execution_count": null,
   "metadata": {},
   "outputs": [],
   "source": [
    "\"\"\"print(key, lag_key)\n",
    "print(df[df['PRIMARY_KEY']==key]['GRADES_12_G'])\n",
    "print()\n",
    "print(df[df['PRIMARY_KEY']==lag_key]['GRADES_8_G'])\n",
    "\"\"\""
   ]
  },
  {
   "cell_type": "code",
   "execution_count": null,
   "metadata": {},
   "outputs": [],
   "source": [
    "#Normalize expenditures to fraction of total expenditures\n",
    "expenditure_cols = ['INSTRUCTION_EXPENDITURE',\n",
    " 'SUPPORT_SERVICES_EXPENDITURE',\n",
    " 'OTHER_EXPENDITURE',\n",
    " 'CAPITAL_OUTLAY_EXPENDITURE']\n",
    "\n",
    "for col in expenditure_cols:\n",
    "    df['fracn_exp_{}'.format(col)] = df[col] / df['TOTAL_EXPENDITURE']\n",
    "    #df=df.drop(col, axis=1)\n",
    "    print('fracn_exp_{}'.format(col))"
   ]
  },
  {
   "cell_type": "code",
   "execution_count": null,
   "metadata": {},
   "outputs": [],
   "source": [
    "#Normalize revenue to fraction of total revenue\n",
    "revenue_cols = ['FEDERAL_REVENUE',\n",
    " 'STATE_REVENUE',\n",
    " 'LOCAL_REVENUE']\n",
    "\n",
    "for col in revenue_cols:\n",
    "    df['fracn_rev_{}'.format(col)] = df[col] / df['TOTAL_REVENUE']\n",
    "    #df=df.drop(col, axis=1)\n",
    "    print('fracn_rev_{}'.format(col))"
   ]
  },
  {
   "cell_type": "code",
   "execution_count": null,
   "metadata": {},
   "outputs": [],
   "source": [
    "#Normalize students enrolled to fraction of enrolled population\n",
    "fracn_enroll_cols = ['GRADES_PK_G', 'GRADES_KG_G',\n",
    "       'GRADES_4_G', 'GRADES_8_G', 'GRADES_12_G', 'GRADES_1_8_G',\n",
    "       'GRADES_9_12_G']\n",
    "\n",
    "for col in fracn_enroll_cols:\n",
    "    df['fracn_enroll_{}'.format(col)] = df[col] / df['GRADES_ALL_G']\n",
    "    print('fracn_enroll_{}'.format(col))\n",
    "    #df = df.drop(col, axis=1) "
   ]
  },
  {
   "cell_type": "code",
   "execution_count": null,
   "metadata": {},
   "outputs": [],
   "source": [
    "df['avg_total_revenue']=df['TOTAL_REVENUE']/df['GRADES_ALL_G']\n",
    "df['avg_total_expenditure'] = df['TOTAL_EXPENDITURE'] / df['GRADES_ALL_G']\n",
    "\n",
    "df['fracn_schoolage'] = df['GRADES_ALL_G']/df['ENROLL']\n",
    "df['rev_per_person'] = df['TOTAL_REVENUE'] / df['ENROLL']\n",
    "df['exp_per_rev'] = df['TOTAL_EXPENDITURE'] / df['TOTAL_REVENUE']\n",
    "\n",
    "#Models want to know about drop-out rate\n",
    "df['fracn_GRADES_12div8_G'] = np.zeros(len(df))\n",
    "#Subtract take ratio GRADES_12_G(YEAR)/GRADES_8_G(YEAR-4)\n",
    "for state in set(df['STATE'].tolist()):\n",
    "    for year in set(df['YEAR'].tolist()):\n",
    "        key= \"{}_{}\".format(year, state)\n",
    "        lag_year = year-4\n",
    "        lag_key= \"{}_{}\".format(lag_year, state)\n",
    "        if np.any(df['PRIMARY_KEY']==lag_key):\n",
    "            df.loc[df['PRIMARY_KEY']==key, ['fracn_GRADES_12div8_G']]= np.divide( \\\n",
    "                df[df['PRIMARY_KEY']==key]['GRADES_12_G'], np.median(df[df['PRIMARY_KEY']==lag_key]['GRADES_8_G']))"
   ]
  },
  {
   "cell_type": "code",
   "execution_count": null,
   "metadata": {},
   "outputs": [],
   "source": [
    "print(df.shape)\n",
    "print(np.count_nonzero(df['fracn_GRADES_12div8_G'].notna()))\n",
    "df['fracn_GRADES_12div8_G'].describe()"
   ]
  },
  {
   "cell_type": "code",
   "execution_count": null,
   "metadata": {},
   "outputs": [],
   "source": [
    "df.describe()"
   ]
  },
  {
   "cell_type": "code",
   "execution_count": null,
   "metadata": {},
   "outputs": [],
   "source": [
    "#sns.pairplot(df, kind='scatter')"
   ]
  },
  {
   "cell_type": "code",
   "execution_count": null,
   "metadata": {},
   "outputs": [],
   "source": [
    "#plt.figure(figsize=(15,15))\n",
    "corr = df.corr()\n",
    "print(corr.shape)\n",
    "fig, ax = plt.subplots(figsize=(20, 10))\n",
    "sns.heatmap(corr)"
   ]
  },
  {
   "cell_type": "code",
   "execution_count": null,
   "metadata": {},
   "outputs": [],
   "source": [
    "# KMeans Clustering\n",
    "\n",
    "from sklearn.cluster import KMeans\n",
    "# df.drop(['AVG_MATH_4_SCORE'], axis=1)\n",
    "print(df.shape)\n",
    "print(df.dropna(axis=0).shape)\n",
    "\n",
    "df1 = df.dropna(axis=0)\n",
    "df1 = pd.get_dummies(df1, columns=['STATE'])\n",
    "drop_cols = ['PRIMARY_KEY', 'YEAR', 'ENROLL', \\\n",
    "             'TOTAL_REVENUE', 'FEDERAL_REVENUE', 'STATE_REVENUE', 'LOCAL_REVENUE', \\\n",
    "             'TOTAL_EXPENDITURE', 'INSTRUCTION_EXPENDITURE', 'SUPPORT_SERVICES_EXPENDITURE', 'OTHER_EXPENDITURE', \\\n",
    "             'CAPITAL_OUTLAY_EXPENDITURE', \\\n",
    "             'GRADES_PK_G', 'GRADES_KG_G', 'GRADES_4_G', 'GRADES_8_G', 'GRADES_12_G', \\\n",
    "             'GRADES_1_8_G', 'GRADES_9_12_G', 'GRADES_ALL_G']\n",
    "df1 = df1.drop(drop_cols, axis=1)\n",
    "\n",
    "kmeans = KMeans(n_clusters=10)\n",
    "y_pred = kmeans.fit_predict(df1)"
   ]
  },
  {
   "cell_type": "code",
   "execution_count": null,
   "metadata": {},
   "outputs": [],
   "source": [
    "print(df1.columns)"
   ]
  },
  {
   "cell_type": "code",
   "execution_count": null,
   "metadata": {},
   "outputs": [],
   "source": [
    "kmeans.cluster_centers_\n",
    "centers = pd.DataFrame(data=kmeans.cluster_centers_, columns=df1.columns)\n",
    "centers.sort_values('AVG_MATH_4_SCORE')"
   ]
  },
  {
   "cell_type": "code",
   "execution_count": null,
   "metadata": {},
   "outputs": [],
   "source": [
    "centers['AVG_MATH_4_SCORE']"
   ]
  },
  {
   "cell_type": "code",
   "execution_count": null,
   "metadata": {},
   "outputs": [],
   "source": [
    "centers.describe()"
   ]
  },
  {
   "cell_type": "code",
   "execution_count": null,
   "metadata": {},
   "outputs": [],
   "source": [
    "print(y_pred)"
   ]
  },
  {
   "cell_type": "code",
   "execution_count": null,
   "metadata": {},
   "outputs": [],
   "source": [
    "sns.scatterplot('avg_total_revenue', 'AVG_MATH_4_SCORE' , hue=y_pred.astype(np.int), data=df1, \\\n",
    "                legend='full', palette=\"Paired\", bac)"
   ]
  },
  {
   "cell_type": "code",
   "execution_count": null,
   "metadata": {},
   "outputs": [],
   "source": [
    "# Affinity Propagation Clustering\n",
    "\n",
    "from sklearn.cluster import AffinityPropagation\n",
    "# df.drop(['AVG_MATH_4_SCORE'], axis=1)\n",
    "print(df.shape)\n",
    "print(df.dropna(axis=0).shape)\n",
    "\n",
    "df1 = df.dropna(axis=0)\n",
    "df1 = pd.get_dummies(df1, columns=['STATE'])\n",
    "drop_cols = ['PRIMARY_KEY', 'YEAR', 'ENROLL', \\\n",
    "             'TOTAL_REVENUE', 'FEDERAL_REVENUE', 'STATE_REVENUE', 'LOCAL_REVENUE', \\\n",
    "             'TOTAL_EXPENDITURE', 'INSTRUCTION_EXPENDITURE', 'SUPPORT_SERVICES_EXPENDITURE', 'OTHER_EXPENDITURE', \\\n",
    "             'CAPITAL_OUTLAY_EXPENDITURE', \\\n",
    "             'GRADES_PK_G', 'GRADES_KG_G', 'GRADES_4_G', 'GRADES_8_G', 'GRADES_12_G', \\\n",
    "             'GRADES_1_8_G', 'GRADES_9_12_G', 'GRADES_ALL_G']\n",
    "df1 = df1.drop(drop_cols, axis=1)\n",
    "\n",
    "aff_prop = AffinityPropagation()\n",
    "y_aff_prop = aff_prop.fit_predict(df1)"
   ]
  },
  {
   "cell_type": "code",
   "execution_count": null,
   "metadata": {},
   "outputs": [],
   "source": [
    "aff_prop.cluster_centers_\n",
    "centers = pd.DataFrame(data=aff_prop.cluster_centers_, columns=df1.columns)\n",
    "centers.sort_values('AVG_MATH_4_SCORE')"
   ]
  },
  {
   "cell_type": "code",
   "execution_count": null,
   "metadata": {},
   "outputs": [],
   "source": [
    "sns.scatterplot('avg_total_revenue', 'AVG_MATH_4_SCORE' , hue=y_aff_prop.astype(np.int), data=df1, \\\n",
    "                legend='full', palette=\"Paired\")"
   ]
  },
  {
   "cell_type": "code",
   "execution_count": null,
   "metadata": {},
   "outputs": [],
   "source": []
  },
  {
   "cell_type": "code",
   "execution_count": null,
   "metadata": {},
   "outputs": [],
   "source": [
    "# PCA\n",
    "\n",
    "from sklearn.decomposition import PCA\n",
    "pca = PCA()\n",
    "print(pca)\n",
    "\n",
    "print(df.shape)\n",
    "print(df.dropna(axis=0).shape)\n",
    "\n",
    "df1 = df.dropna(axis=0)\n",
    "df1 = pd.get_dummies(df1, columns=['STATE'])\n",
    "drop_cols = ['PRIMARY_KEY', 'YEAR', 'ENROLL', \\\n",
    "             'TOTAL_REVENUE', 'FEDERAL_REVENUE', 'STATE_REVENUE', 'LOCAL_REVENUE', \\\n",
    "             'TOTAL_EXPENDITURE', 'INSTRUCTION_EXPENDITURE', 'SUPPORT_SERVICES_EXPENDITURE', 'OTHER_EXPENDITURE', \\\n",
    "             'CAPITAL_OUTLAY_EXPENDITURE', \\\n",
    "             'GRADES_PK_G', 'GRADES_KG_G', 'GRADES_4_G', 'GRADES_8_G', 'GRADES_12_G', \\\n",
    "             'GRADES_1_8_G', 'GRADES_9_12_G', 'GRADES_ALL_G']\n",
    "df1 = df1.drop(drop_cols, axis=1)\n",
    "df1 = df1.drop('AVG_MATH_4_SCORE', axis=1)\n",
    "pca.fit(df1)"
   ]
  },
  {
   "cell_type": "code",
   "execution_count": null,
   "metadata": {},
   "outputs": [],
   "source": [
    "ax = sns.barplot(x=np.arange(20), y=pca.explained_variance_[0:20]/sum(pca.explained_variance_[0:20]))\n",
    "ax.set_xlabel('Principal Component')\n",
    "ax.set_ylabel('Explained Variance')"
   ]
  },
  {
   "cell_type": "code",
   "execution_count": null,
   "metadata": {},
   "outputs": [],
   "source": [
    "X_pca = pca.fit(df1).transform(df1)\n",
    "plt.figure(figsize=(8,8))\n",
    "plt.subplot(2,2,1)\n",
    "sns.scatterplot(X_pca[:,0], X_pca[:,1])\n",
    "plt.subplot(2,2,2)\n",
    "sns.scatterplot(X_pca[:,2], X_pca[:,3])\n",
    "plt.subplot(2,2,3)\n",
    "sns.scatterplot(X_pca[:,4], X_pca[:,5])\n",
    "plt.subplot(2,2,4)\n",
    "sns.scatterplot(X_pca[:,6], X_pca[:,7])"
   ]
  },
  {
   "cell_type": "code",
   "execution_count": null,
   "metadata": {},
   "outputs": [],
   "source": [
    "kill script"
   ]
  },
  {
   "cell_type": "code",
   "execution_count": null,
   "metadata": {},
   "outputs": [],
   "source": [
    "g = sns.FacetGrid(df, row=\"STATE\") \n",
    "g.map(plt.scatter, 'YEAR', 'AVG_MATH_4_SCORE')"
   ]
  },
  {
   "cell_type": "code",
   "execution_count": null,
   "metadata": {},
   "outputs": [],
   "source": [
    "sns.lmplot(x=\"YEAR\", y=\"AVG_MATH_4_SCORE\", hue=\"STATE\", data=df.dropna(), legend_out=True);"
   ]
  },
  {
   "cell_type": "code",
   "execution_count": null,
   "metadata": {},
   "outputs": [],
   "source": [
    "plt.hist('avg_total_expenditure', bins=50, log=True, data=df);"
   ]
  },
  {
   "cell_type": "code",
   "execution_count": null,
   "metadata": {},
   "outputs": [],
   "source": [
    "#For some reason VIRGINIA has 3 entries for 2008 and 2 of them have increicbly high avg_instruction_expenditure\n",
    "df[df['avg_total_expenditure'] > 100]"
   ]
  },
  {
   "cell_type": "code",
   "execution_count": null,
   "metadata": {},
   "outputs": [],
   "source": []
  },
  {
   "cell_type": "code",
   "execution_count": null,
   "metadata": {},
   "outputs": [],
   "source": []
  },
  {
   "cell_type": "code",
   "execution_count": null,
   "metadata": {},
   "outputs": [],
   "source": [
    "df['AVG_MATH_4_SCORE'].dropna().hist(density=True, cumulative=True)\n",
    "plt.show()\n",
    "df['AVG_MATH_4_SCORE'].dropna().hist()"
   ]
  },
  {
   "cell_type": "code",
   "execution_count": null,
   "metadata": {},
   "outputs": [],
   "source": [
    "sns.jointplot(\"YEAR\", \"AVG_MATH_4_SCORE\", data=df, kind=\"reg\")\n",
    "sns.jointplot(\"YEAR\", \"AVG_READING_4_SCORE\", data=df, kind=\"reg\")"
   ]
  },
  {
   "cell_type": "code",
   "execution_count": null,
   "metadata": {},
   "outputs": [],
   "source": [
    "sns.jointplot(\"avg_total_revenue\", \"AVG_READING_4_SCORE\", data=df, kind=\"reg\")"
   ]
  },
  {
   "cell_type": "code",
   "execution_count": null,
   "metadata": {},
   "outputs": [],
   "source": [
    "sns.jointplot(\"avg_total_expenditure\", \"AVG_MATH_4_SCORE\", data=df, kind=\"reg\")"
   ]
  },
  {
   "cell_type": "code",
   "execution_count": null,
   "metadata": {},
   "outputs": [],
   "source": [
    "sns.jointplot(\"AVG_READING_4_SCORE\", \"AVG_MATH_4_SCORE\", data=df, kind=\"reg\")"
   ]
  },
  {
   "cell_type": "code",
   "execution_count": null,
   "metadata": {},
   "outputs": [],
   "source": [
    "sns.jointplot(\"AVG_MATH_8_SCORE\", \"AVG_MATH_4_SCORE\", data=df, kind=\"reg\")"
   ]
  },
  {
   "cell_type": "code",
   "execution_count": null,
   "metadata": {},
   "outputs": [],
   "source": [
    "df1=df.drop(['PRIMARY_KEY','AVG_MATH_8_SCORE','AVG_READING_4_SCORE','AVG_READING_8_SCORE','ENROLL'],axis=1)\n",
    "df1 = df1.dropna()\n",
    "print(df1.columns)\n",
    "df1 = pd.get_dummies(df1, columns=['STATE'])\n",
    "\n",
    "y=df1.loc[:,'AVG_MATH_4_SCORE'].values\n",
    "X=df1.drop(['AVG_MATH_4_SCORE'],axis=1).loc[:,:].values\n",
    "X_cols=df1.drop(['AVG_MATH_4_SCORE'],axis=1).columns\n",
    "\n",
    "ts_cv = TimeSeriesSplit(n_splits=5)\n",
    "print(ts_cv)\n",
    "for train_index, test_index in ts_cv.split(X):\n",
    "    X_train, X_test = X[train_index], X[test_index]\n",
    "    y_train, y_test = y[train_index], y[test_index]\n",
    "\n",
    "\"\"\"\n",
    "PredefinedSplit won't work because it folds in future data\n",
    "\n",
    "test_fold = df1.loc[:,'YEAR'].values\n",
    "ps = PredefinedSplit(test_fold)\n",
    "print(ps.get_n_splits())\n",
    "for train_index, test_index in ps.split():\n",
    "    print(\"Train:\", train_index, \"Test:\", test_index)\n",
    "    X_train, X_test = X[train_index], X[test_index]\n",
    "    y_train, y_test = y[train_index], y[test_index]    \n",
    "\"\"\""
   ]
  },
  {
   "cell_type": "code",
   "execution_count": null,
   "metadata": {},
   "outputs": [],
   "source": [
    "n_splits=20\n",
    "ts_cv = TimeSeriesSplit(n_splits=n_splits)\n",
    "rf_model = RandomForestRegressor(n_estimators=100, n_jobs=-1)\n",
    "\n",
    "index=0\n",
    "train_score = np.zeros(n_splits)\n",
    "test_score = np.zeros(n_splits)\n",
    "\n",
    "for train_index, test_index in ts_cv.split(X):\n",
    "    X_train, X_test = X[train_index], X[test_index]\n",
    "    y_train, y_test = y[train_index], y[test_index]   \n",
    "    \n",
    "    rf_model.fit(X_train, y_train) \n",
    "    Y_rf=rf_model.predict(X_test)\n",
    "    train_score[index]=rf_model.score(X_train,y_train) #Train score\n",
    "    test_score[index]=rf_model.score(X_test,y_test) #Test score\n",
    "    index+=1\n",
    "index_list=np.arange(index)"
   ]
  },
  {
   "cell_type": "code",
   "execution_count": null,
   "metadata": {},
   "outputs": [],
   "source": [
    "print(index)\n",
    "print(index_list)\n",
    "print(train_score)\n",
    "print(test_score)"
   ]
  },
  {
   "cell_type": "code",
   "execution_count": null,
   "metadata": {},
   "outputs": [],
   "source": [
    "plt.plot(index_list,train_score,'o', label=\"Train\")\n",
    "plt.plot(index_list,test_score,'o', label=\"Test\")\n",
    "plt.xlabel(\"Split\")\n",
    "plt.ylabel(\"R^2 Score\")\n",
    "plt.legend(loc=\"best\")"
   ]
  },
  {
   "cell_type": "code",
   "execution_count": null,
   "metadata": {},
   "outputs": [],
   "source": [
    "model=RandomForestRegressor()\n",
    "\n",
    "num_splits=30\n",
    "ts_cv=TimeSeriesSplit(n_splits=num_splits) #.split(X)\n",
    "\n",
    "\"\"\"\n",
    "param_search = [\n",
    "  {'n_estimators': [1, 10, 20, 100]}\n",
    "]\n",
    "gsrch_rf_model=GridSearchCV(estimator=model, param_grid=param_search, cv=ts_cv, n_jobs=-1)\n",
    "gsrch_rf_model.fit(X,y)\n",
    "\"\"\"\n",
    "\n",
    "#train_sizes, train_scores, test_scores = \\\n",
    "#    learning_curve(estimator=model, X=X, y=y, train_sizes=np.linspace(0.1,1.0,num=10), cv=ts_cv, n_jobs=-1)\n",
    "\n",
    "param_range=[4,5,6,7,8,9,10,20,30,40,50,60]\n",
    "train_scores_vc, test_scores_vc = \\\n",
    "    validation_curve(estimator=model, X=X, y=y, param_name=\"n_estimators\", param_range=param_range, cv=ts_cv, n_jobs=-1)"
   ]
  },
  {
   "cell_type": "code",
   "execution_count": null,
   "metadata": {},
   "outputs": [],
   "source": [
    "train_scores_mean = np.mean(train_scores_vc, axis=1)\n",
    "train_scores_std = np.std(train_scores_vc, axis=1)\n",
    "test_scores_mean = np.mean(test_scores_vc, axis=1)\n",
    "test_scores_std = np.std(test_scores_vc, axis=1)\n",
    "\n",
    "plt.figure()\n",
    "plt.plot(param_range,train_scores_mean,'o',label=\"Train\")\n",
    "plt.plot(param_range,test_scores_mean,'o',label=\"Test\")\n",
    "plt.xlabel(\"n_estimators\")\n",
    "plt.ylabel(\"Score\")\n",
    "plt.title(\"Validation Curves\")\n",
    "plt.legend(loc=\"best\")"
   ]
  },
  {
   "cell_type": "code",
   "execution_count": null,
   "metadata": {},
   "outputs": [],
   "source": [
    "model=RandomForestRegressor(n_estimators=20)\n",
    "\n",
    "num_splits=30\n",
    "ts_cv=TimeSeriesSplit(n_splits=num_splits) #.split(X)\n",
    "\n",
    "train_sizes, train_scores, test_scores = \\\n",
    "    learning_curve(estimator=model, X=X, y=y, train_sizes=np.linspace(0.1,1.0,num=30), cv=ts_cv, n_jobs=-1)"
   ]
  },
  {
   "cell_type": "code",
   "execution_count": null,
   "metadata": {},
   "outputs": [],
   "source": [
    "plt.figure()\n",
    "plt.plot(train_sizes, -train_scores.mean(1), 'o-', color=\"g\",\n",
    "         label=\"Train\")\n",
    "plt.plot(train_sizes, -test_scores.mean(1), 'o-', color=\"r\",\n",
    "         label=\"Test\")\n",
    "plt.xlabel(\"Train Size\")\n",
    "plt.ylabel(\"Score\")\n",
    "plt.title(\"Learning Curves\")\n",
    "plt.legend(loc=\"best\")"
   ]
  },
  {
   "cell_type": "code",
   "execution_count": null,
   "metadata": {},
   "outputs": [],
   "source": [
    "rf_model = RandomForestRegressor(n_estimators=100)\n",
    "rf_model.fit(X, y)  "
   ]
  },
  {
   "cell_type": "code",
   "execution_count": null,
   "metadata": {},
   "outputs": [],
   "source": [
    "Y_rf=rf_model.predict(X)\n",
    "plt.plot(Y_rf, y, 'ro')\n",
    "plt.show()"
   ]
  },
  {
   "cell_type": "code",
   "execution_count": null,
   "metadata": {},
   "outputs": [],
   "source": [
    "rf_model.score(X,y)"
   ]
  },
  {
   "cell_type": "code",
   "execution_count": null,
   "metadata": {},
   "outputs": [],
   "source": [
    "feature_importances_rf = pd.DataFrame(rf_model.feature_importances_, index = df1.drop(['AVG_MATH_4_SCORE'],axis=1).columns, columns=['importance']).sort_values('importance',ascending=False)\n",
    "feature_importances_rf.head(10)"
   ]
  },
  {
   "cell_type": "code",
   "execution_count": null,
   "metadata": {},
   "outputs": [],
   "source": [
    "sns.jointplot(x='YEAR', y='AVG_MATH_4_SCORE', data=df, kind='reg')\n",
    "sns.jointplot(x='fracn_enroll_GRADES_12_G', y='AVG_MATH_4_SCORE', data=df, kind='reg')\n",
    "sns.jointplot(x='fracn_rev_FEDERAL_REVENUE', y='AVG_MATH_4_SCORE', data=df, kind='reg')"
   ]
  },
  {
   "cell_type": "code",
   "execution_count": null,
   "metadata": {},
   "outputs": [],
   "source": []
  },
  {
   "cell_type": "code",
   "execution_count": null,
   "metadata": {},
   "outputs": [],
   "source": [
    "from sklearn import svm\n",
    "svm_model = svm.SVR(gamma='scale')\n",
    "svm_model.fit(X, y)  "
   ]
  },
  {
   "cell_type": "code",
   "execution_count": null,
   "metadata": {},
   "outputs": [],
   "source": [
    "Y_svm=svm_model.predict(X)\n",
    "plt.plot(Y_svm, y, 'ro')\n",
    "plt.show()"
   ]
  },
  {
   "cell_type": "markdown",
   "metadata": {},
   "source": [
    "# Lasso"
   ]
  },
  {
   "cell_type": "code",
   "execution_count": null,
   "metadata": {},
   "outputs": [],
   "source": [
    "model=linear_model.Lasso(normalize=True)\n",
    "param_search = [\n",
    "  {'alpha': [0.00001,0.0001,0.001,0.01,0.1,1]}\n",
    " ]\n",
    "\n",
    "num_splits=30\n",
    "ts_cv=TimeSeriesSplit(n_splits=num_splits) #.split(X)\n",
    "\n",
    "#gsrch_rf_model=GridSearchCV(estimator=model, param_grid=param_search, cv=ts_cv, n_jobs=-1)\n",
    "#gsrch_rf_model.fit(X,y)\n",
    "\n",
    "#train_sizes, train_scores, test_scores = \\\n",
    "#    learning_curve(estimator=model, X=X, y=y, train_sizes=np.linspace(0.1,1.0,num=10), cv=ts_cv, n_jobs=-1)\n",
    "\n",
    "param_range=[0.00001,0.0001,0.001,0.005,0.01,0.02,0.05,0.1,0.2,0.3,0.5,1]\n",
    "train_scores_vc, test_scores_vc = \\\n",
    "    validation_curve(estimator=model, X=X, y=y, param_name=\"alpha\", param_range=param_range, cv=ts_cv, n_jobs=-1)\n",
    "\n",
    "train_scores_mean = np.mean(train_scores_vc, axis=1)\n",
    "train_scores_std = np.std(train_scores_vc, axis=1)\n",
    "test_scores_mean = np.mean(test_scores_vc, axis=1)\n",
    "test_scores_std = np.std(test_scores_vc, axis=1)\n",
    "\n",
    "plt.figure()\n",
    "plt.semilogx(param_range,train_scores_mean,'o',label=\"Train\")\n",
    "plt.semilogx(param_range,test_scores_mean,'o',label=\"Test\")\n",
    "plt.semilogx(param_range,test_scores_mean,label=\"Test_curve\")\n",
    "plt.xlabel(\"alpha\")\n",
    "plt.ylabel(\"Score\")\n",
    "plt.title(\"Validation Curves\")\n",
    "plt.legend(loc=\"best\")"
   ]
  },
  {
   "cell_type": "code",
   "execution_count": null,
   "metadata": {},
   "outputs": [],
   "source": [
    "model=linear_model.Lasso(alpha=0.01, normalize=True)\n",
    "#lasso_model.fit(X, y)  \n",
    "#Y_lasso=lasso_model.predict(X)\n",
    "\n",
    "num_splits=5\n",
    "ts_cv=TimeSeriesSplit(n_splits=num_splits) #.split(X)\n",
    "\n",
    "train_sizes, train_scores, test_scores = \\\n",
    "    learning_curve(estimator=model, X=X, y=y, train_sizes=np.linspace(0.1,1.0,num=30), cv=ts_cv, n_jobs=-1)\n",
    "\n",
    "print(train_sizes.shape,train_scores.shape, test_scores.shape)\n",
    "\n",
    "train_scores_mean = np.mean(train_scores, axis=1)\n",
    "train_scores_std = np.std(train_scores, axis=1)\n",
    "test_scores_mean = np.mean(test_scores, axis=1)\n",
    "test_scores_std = np.std(test_scores, axis=1)\n",
    "\n",
    "plt.figure()\n",
    "plt.plot(train_sizes,train_scores_mean,'o',label=\"Train\")\n",
    "plt.plot(train_sizes,test_scores_mean,'o',label=\"Test\")\n",
    "plt.xlabel(\"Train Sizes\")\n",
    "plt.ylabel(\"Score\")\n",
    "plt.title(\"Learning Curves\")\n",
    "plt.legend(loc=\"best\")"
   ]
  },
  {
   "cell_type": "code",
   "execution_count": null,
   "metadata": {},
   "outputs": [],
   "source": [
    "\"\"\"Plot test data fit\"\"\""
   ]
  },
  {
   "cell_type": "code",
   "execution_count": null,
   "metadata": {},
   "outputs": [],
   "source": [
    "\n",
    "lasso_model=linear_model.Lasso(alpha=0.01, normalize=True)\n",
    "lasso_model.fit(X, y)  \n",
    "Y_lasso=lasso_model.predict(X)\n",
    "plt.plot(Y_lasso, y, 'ro')\n",
    "\n",
    "# Generated linear fit\n",
    "slope, intercept, r_value, p_value, std_err = stats.linregress(Y_lasso,y)\n",
    "line = slope*Y_lasso+intercept\n",
    "\n",
    "plt.plot(Y_lasso,y,'o',Y_lasso,line,Y_lasso,Y_lasso)\n",
    "plt.legend((\"y\",\"fit_lasso\",\"y=x\"),loc='best')\n",
    "plt.xlabel(\"Y_lasso\")\n",
    "plt.ylabel(\"y\")"
   ]
  },
  {
   "cell_type": "code",
   "execution_count": null,
   "metadata": {},
   "outputs": [],
   "source": [
    "lasso_coef_ = lasso_model.coef_\n",
    "print(X_cols.shape)\n",
    "#print(X_cols)\n",
    "print(lasso_coef_.shape)\n",
    "print(np.round(lasso_coef_))\n",
    "#print(lasso_coef_)\n",
    "X_cols[np.abs(lasso_coef_)>10]\n",
    "\n",
    "sorted(zip(lasso_coef_.round(), X_cols))"
   ]
  },
  {
   "cell_type": "code",
   "execution_count": null,
   "metadata": {
    "scrolled": true
   },
   "outputs": [],
   "source": [
    "scaler=StandardScaler()\n",
    "X_transformed = scaler.fit_transform(X)\n",
    "\n",
    "model=linear_model.Lasso(alpha=0.01, normalize=True)\n",
    "lasso_model.fit(X_transformed, y)  \n",
    "Y_lasso=lasso_model.predict(X_transformed)\n",
    "\n",
    "lasso_coef_ = lasso_model.coef_\n",
    "print(X_cols.shape)\n",
    "#print(X_cols)\n",
    "print(lasso_coef_.shape)\n",
    "print(np.round(lasso_coef_))\n",
    "#print(lasso_coef_)\n",
    "X_cols[np.abs(lasso_coef_)>10]\n",
    "\n",
    "sorted(zip(lasso_coef_, X_cols))"
   ]
  },
  {
   "cell_type": "code",
   "execution_count": null,
   "metadata": {},
   "outputs": [],
   "source": [
    "\"\"\"fracn_GRADES_12div8_G\n",
    "is not chosen by Lasso. RandomForest says it's #2 tho. Why?\n",
    "Plot.\n",
    "\"\"\"\n",
    "plt.figure(figsize=[7,7])\n",
    "x1=df1.loc[:,'fracn_GRADES_12div8_G'].values\n",
    "plt.plot(x1,y,'o')\n",
    "plt.plot(x1,Y_lasso, alpha=0.7)\n",
    "plt.legend((\"y\",\"fit_lasso\"),loc=(0.7,0.2))\n",
    "plt.xlabel(\"fracn_GRADES_12div8_G\")\n",
    "plt.ylabel(\"y\")"
   ]
  },
  {
   "cell_type": "code",
   "execution_count": null,
   "metadata": {},
   "outputs": [],
   "source": [
    "plt.figure(figsize=[20,10])\n",
    "\n",
    "plt.subplot(2, 2, 1)\n",
    "x1=df1.loc[:,'fracn_enroll_GRADES_12_G'].values\n",
    "print(y.shape,np.shape(lasso_coef_*X),x1.shape)\n",
    "plt.plot(x1,y,'o',x1,Y_lasso, alpha=0.7)\n",
    "plt.legend((\"y\",\"fit_lasso\"),loc=(0.7,0.2))\n",
    "plt.xlabel(\"fracn_enroll_GRADES_12_G\")\n",
    "plt.ylabel(\"y\")\n",
    "\n",
    "plt.subplot(2, 2, 2)\n",
    "x1=df1.loc[:,'fracn_enroll_GRADES_9_12_G'].values\n",
    "print(y.shape,np.shape(lasso_coef_*X),x1.shape)\n",
    "plt.plot(x1,y,'o',x1,Y_lasso, alpha=0.7)\n",
    "plt.legend((\"y\",\"fit_lasso\"),loc=(0.7,0.2))\n",
    "plt.xlabel(\"fracn_enroll_GRADES_9_12_G\")\n",
    "plt.ylabel(\"y\")\n",
    "\n",
    "plt.subplot(2, 2, 3)\n",
    "x1=df1.loc[:,'YEAR'].values\n",
    "print(y.shape,np.shape(lasso_coef_*X),x1.shape)\n",
    "plt.plot(x1,y,'o',x1,Y_lasso, alpha=0.7)\n",
    "plt.legend((\"y\",\"fit_lasso\"),loc=(0.7,0.2))\n",
    "plt.xlabel(\"YEAR\")\n",
    "plt.ylabel(\"y\")\n",
    "\n",
    "plt.subplot(2, 2, 4)\n",
    "x1=df1.loc[:,'STATE_DISTRICT_OF_COLUMBIA'].values\n",
    "print(y.shape,np.shape(lasso_coef_*X),x1.shape)\n",
    "plt.plot(x1,y,'o',x1,Y_lasso, alpha=0.7)\n",
    "plt.legend((\"y\",\"fit_lasso\"),loc=(0.7,0.2))\n",
    "plt.xlabel(\"STATE_DISTRICT_OF_COLUMBIA\")\n",
    "plt.ylabel(\"y\")"
   ]
  },
  {
   "cell_type": "code",
   "execution_count": null,
   "metadata": {},
   "outputs": [],
   "source": [
    "plt.figure(figsize=[15,10])\n",
    "\n",
    "plt.subplot(2, 2, 1)\n",
    "plt.plot(Y_lasso,y,'o',Y_lasso,line,Y_lasso,Y_lasso)\n",
    "plt.legend((\"y\",\"fit_lasso\",\"y=x\"),loc='best')\n",
    "plt.xlabel(\"Y_lasso\")\n",
    "plt.ylabel(\"y\")"
   ]
  },
  {
   "cell_type": "code",
   "execution_count": null,
   "metadata": {},
   "outputs": [],
   "source": [
    "# Generated linear fit\n",
    "slope, intercept, r_value, p_value, std_err = stats.linregress(Y_lasso,y)\n",
    "line = slope*Y_lasso+intercept\n",
    "\n",
    "#need to make analysis_df that has y,Y_lasso\n",
    "\n",
    "#Plot\n",
    "#grid=sns.JointGrid(x=Y_lasso,y=y)\n",
    "#g=grid.plot_joint(sns.scatterplot) #, hue='smoker'\n",
    "#sns.scatterplot(Y_lasso,line, ax=g.ax_marg_x, legend=False)\n",
    "#sns.lmplot(Y_lasso,Y_lasso,ax=g.ax_marg_x,legend=False)\n",
    "\n",
    "#plt.subplot(1,2,1)\n",
    "ax1 = sns.jointplot(x=Y_lasso,y=y,kind=\"kde\")\n",
    "#plt.subplot(1,2,2)\n",
    "ax2 = sns.jointplot(x=Y_lasso,y=y,kind=\"resid\")"
   ]
  },
  {
   "cell_type": "code",
   "execution_count": null,
   "metadata": {},
   "outputs": [],
   "source": [
    "\"\"\"The largest coefficients are\"\"\"\n",
    "X_cols[np.abs(lasso_coef_)>0.5]\n",
    "\"\"\". Plot them with fits.\"\"\"\n",
    "\n",
    "plt.plot(Y_svm, y, 'ro')(\"YEAR\", \"AVG_MATH_4_SCORE\", data=df, kind=\"reg\")\n",
    "sns.jointplot(\"YEAR\", \"AVG_MATH_4_SCORE\", data=df, kind=\"reg\")\n"
   ]
  },
  {
   "cell_type": "code",
   "execution_count": null,
   "metadata": {},
   "outputs": [],
   "source": []
  },
  {
   "cell_type": "code",
   "execution_count": null,
   "metadata": {},
   "outputs": [],
   "source": [
    "\"\"\"\n",
    "Can I predict test scores for a year?\n",
    "\n",
    "Handle time better. Time_series_split\n",
    "\n",
    "Time trends: \n",
    "-Scores\n",
    "-Populations\n",
    "-Revenues\n",
    "-Expenditures\n",
    "\n",
    "Delta from previous time point as feature?\n",
    "\n",
    "Features:\n",
    "-Elite? financials, location, \n",
    "-Good school? school history, tax rev, district\n",
    "-Trends in time? Deltas in time. more money, more students, higher scores, ...\n",
    "\n",
    "\n",
    "\"\"\""
   ]
  },
  {
   "cell_type": "code",
   "execution_count": null,
   "metadata": {},
   "outputs": [],
   "source": []
  }
 ],
 "metadata": {
  "kernelspec": {
   "display_name": "Python 3",
   "language": "python",
   "name": "python3"
  }
 },
 "nbformat": 4,
 "nbformat_minor": 2
}
