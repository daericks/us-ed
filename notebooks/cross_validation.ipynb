{
 "cells": [
  {
   "cell_type": "code",
   "execution_count": 1,
   "metadata": {},
   "outputs": [],
   "source": [
    "%matplotlib inline"
   ]
  },
  {
   "cell_type": "code",
   "execution_count": 2,
   "metadata": {},
   "outputs": [],
   "source": [
    "import numpy as np\n",
    "from scipy import stats\n",
    "import pandas as pd\n",
    "import matplotlib.pyplot as plt\n",
    "import seaborn as sns\n",
    "from sklearn import linear_model\n",
    "from sklearn.preprocessing import StandardScaler\n",
    "from sklearn.ensemble import RandomForestRegressor\n",
    "from sklearn.model_selection import TimeSeriesSplit, GridSearchCV, learning_curve, validation_curve"
   ]
  },
  {
   "cell_type": "code",
   "execution_count": 3,
   "metadata": {},
   "outputs": [],
   "source": [
    "df = pd.read_csv(\"~/projects/us-education-datasets-unification-project/data/us-education-datasets-unification-project/states_all.csv\")"
   ]
  },
  {
   "cell_type": "code",
   "execution_count": 4,
   "metadata": {},
   "outputs": [
    {
     "data": {
      "text/plain": [
       "(1492, 25)"
      ]
     },
     "execution_count": 4,
     "metadata": {},
     "output_type": "execute_result"
    }
   ],
   "source": [
    "df.shape"
   ]
  },
  {
   "cell_type": "code",
   "execution_count": 5,
   "metadata": {},
   "outputs": [
    {
     "data": {
      "text/plain": [
       "29.84"
      ]
     },
     "execution_count": 5,
     "metadata": {},
     "output_type": "execute_result"
    }
   ],
   "source": [
    "np.sqrt(df.shape[0])\n",
    "df.shape[0]/50"
   ]
  },
  {
   "cell_type": "code",
   "execution_count": 6,
   "metadata": {},
   "outputs": [
    {
     "data": {
      "text/html": [
       "<div>\n",
       "<style scoped>\n",
       "    .dataframe tbody tr th:only-of-type {\n",
       "        vertical-align: middle;\n",
       "    }\n",
       "\n",
       "    .dataframe tbody tr th {\n",
       "        vertical-align: top;\n",
       "    }\n",
       "\n",
       "    .dataframe thead th {\n",
       "        text-align: right;\n",
       "    }\n",
       "</style>\n",
       "<table border=\"1\" class=\"dataframe\">\n",
       "  <thead>\n",
       "    <tr style=\"text-align: right;\">\n",
       "      <th></th>\n",
       "      <th>PRIMARY_KEY</th>\n",
       "      <th>STATE</th>\n",
       "      <th>YEAR</th>\n",
       "      <th>ENROLL</th>\n",
       "      <th>TOTAL_REVENUE</th>\n",
       "      <th>FEDERAL_REVENUE</th>\n",
       "      <th>STATE_REVENUE</th>\n",
       "      <th>LOCAL_REVENUE</th>\n",
       "      <th>TOTAL_EXPENDITURE</th>\n",
       "      <th>INSTRUCTION_EXPENDITURE</th>\n",
       "      <th>...</th>\n",
       "      <th>GRADES_4_G</th>\n",
       "      <th>GRADES_8_G</th>\n",
       "      <th>GRADES_12_G</th>\n",
       "      <th>GRADES_1_8_G</th>\n",
       "      <th>GRADES_9_12_G</th>\n",
       "      <th>GRADES_ALL_G</th>\n",
       "      <th>AVG_MATH_4_SCORE</th>\n",
       "      <th>AVG_MATH_8_SCORE</th>\n",
       "      <th>AVG_READING_4_SCORE</th>\n",
       "      <th>AVG_READING_8_SCORE</th>\n",
       "    </tr>\n",
       "  </thead>\n",
       "  <tbody>\n",
       "    <tr>\n",
       "      <th>0</th>\n",
       "      <td>1992_ALABAMA</td>\n",
       "      <td>ALABAMA</td>\n",
       "      <td>1992</td>\n",
       "      <td>NaN</td>\n",
       "      <td>2678885.0</td>\n",
       "      <td>304177.0</td>\n",
       "      <td>1659028.0</td>\n",
       "      <td>715680.0</td>\n",
       "      <td>2653798.0</td>\n",
       "      <td>1481703.0</td>\n",
       "      <td>...</td>\n",
       "      <td>57948.0</td>\n",
       "      <td>58025.0</td>\n",
       "      <td>41167.0</td>\n",
       "      <td>471564.0</td>\n",
       "      <td>196386.0</td>\n",
       "      <td>676174.0</td>\n",
       "      <td>208.327876</td>\n",
       "      <td>252.187522</td>\n",
       "      <td>207.963517</td>\n",
       "      <td>NaN</td>\n",
       "    </tr>\n",
       "    <tr>\n",
       "      <th>1</th>\n",
       "      <td>1992_ALASKA</td>\n",
       "      <td>ALASKA</td>\n",
       "      <td>1992</td>\n",
       "      <td>NaN</td>\n",
       "      <td>1049591.0</td>\n",
       "      <td>106780.0</td>\n",
       "      <td>720711.0</td>\n",
       "      <td>222100.0</td>\n",
       "      <td>972488.0</td>\n",
       "      <td>498362.0</td>\n",
       "      <td>...</td>\n",
       "      <td>9748.0</td>\n",
       "      <td>8789.0</td>\n",
       "      <td>6714.0</td>\n",
       "      <td>79117.0</td>\n",
       "      <td>30847.0</td>\n",
       "      <td>112335.0</td>\n",
       "      <td>NaN</td>\n",
       "      <td>NaN</td>\n",
       "      <td>NaN</td>\n",
       "      <td>258.859712</td>\n",
       "    </tr>\n",
       "    <tr>\n",
       "      <th>2</th>\n",
       "      <td>1992_ARIZONA</td>\n",
       "      <td>ARIZONA</td>\n",
       "      <td>1992</td>\n",
       "      <td>NaN</td>\n",
       "      <td>3258079.0</td>\n",
       "      <td>297888.0</td>\n",
       "      <td>1369815.0</td>\n",
       "      <td>1590376.0</td>\n",
       "      <td>3401580.0</td>\n",
       "      <td>1435908.0</td>\n",
       "      <td>...</td>\n",
       "      <td>55433.0</td>\n",
       "      <td>49081.0</td>\n",
       "      <td>37410.0</td>\n",
       "      <td>437127.0</td>\n",
       "      <td>175210.0</td>\n",
       "      <td>614881.0</td>\n",
       "      <td>215.253932</td>\n",
       "      <td>265.366278</td>\n",
       "      <td>206.212716</td>\n",
       "      <td>262.169895</td>\n",
       "    </tr>\n",
       "    <tr>\n",
       "      <th>3</th>\n",
       "      <td>1992_ARKANSAS</td>\n",
       "      <td>ARKANSAS</td>\n",
       "      <td>1992</td>\n",
       "      <td>NaN</td>\n",
       "      <td>1711959.0</td>\n",
       "      <td>178571.0</td>\n",
       "      <td>958785.0</td>\n",
       "      <td>574603.0</td>\n",
       "      <td>1743022.0</td>\n",
       "      <td>964323.0</td>\n",
       "      <td>...</td>\n",
       "      <td>34632.0</td>\n",
       "      <td>36011.0</td>\n",
       "      <td>27651.0</td>\n",
       "      <td>281338.0</td>\n",
       "      <td>123113.0</td>\n",
       "      <td>405259.0</td>\n",
       "      <td>210.206028</td>\n",
       "      <td>256.312090</td>\n",
       "      <td>208.634458</td>\n",
       "      <td>264.619665</td>\n",
       "    </tr>\n",
       "    <tr>\n",
       "      <th>4</th>\n",
       "      <td>1992_CALIFORNIA</td>\n",
       "      <td>CALIFORNIA</td>\n",
       "      <td>1992</td>\n",
       "      <td>NaN</td>\n",
       "      <td>26260025.0</td>\n",
       "      <td>2072470.0</td>\n",
       "      <td>16546514.0</td>\n",
       "      <td>7641041.0</td>\n",
       "      <td>27138832.0</td>\n",
       "      <td>14358922.0</td>\n",
       "      <td>...</td>\n",
       "      <td>418418.0</td>\n",
       "      <td>363296.0</td>\n",
       "      <td>270675.0</td>\n",
       "      <td>3286034.0</td>\n",
       "      <td>1372011.0</td>\n",
       "      <td>4717112.0</td>\n",
       "      <td>208.398961</td>\n",
       "      <td>260.892247</td>\n",
       "      <td>196.764414</td>\n",
       "      <td>NaN</td>\n",
       "    </tr>\n",
       "  </tbody>\n",
       "</table>\n",
       "<p>5 rows × 25 columns</p>\n",
       "</div>"
      ],
      "text/plain": [
       "       PRIMARY_KEY       STATE  YEAR  ENROLL  TOTAL_REVENUE  FEDERAL_REVENUE  \\\n",
       "0     1992_ALABAMA     ALABAMA  1992     NaN      2678885.0         304177.0   \n",
       "1      1992_ALASKA      ALASKA  1992     NaN      1049591.0         106780.0   \n",
       "2     1992_ARIZONA     ARIZONA  1992     NaN      3258079.0         297888.0   \n",
       "3    1992_ARKANSAS    ARKANSAS  1992     NaN      1711959.0         178571.0   \n",
       "4  1992_CALIFORNIA  CALIFORNIA  1992     NaN     26260025.0        2072470.0   \n",
       "\n",
       "   STATE_REVENUE  LOCAL_REVENUE  TOTAL_EXPENDITURE  INSTRUCTION_EXPENDITURE  \\\n",
       "0      1659028.0       715680.0          2653798.0                1481703.0   \n",
       "1       720711.0       222100.0           972488.0                 498362.0   \n",
       "2      1369815.0      1590376.0          3401580.0                1435908.0   \n",
       "3       958785.0       574603.0          1743022.0                 964323.0   \n",
       "4     16546514.0      7641041.0         27138832.0               14358922.0   \n",
       "\n",
       "   ...  GRADES_4_G  GRADES_8_G  GRADES_12_G  GRADES_1_8_G  GRADES_9_12_G  \\\n",
       "0  ...     57948.0     58025.0      41167.0      471564.0       196386.0   \n",
       "1  ...      9748.0      8789.0       6714.0       79117.0        30847.0   \n",
       "2  ...     55433.0     49081.0      37410.0      437127.0       175210.0   \n",
       "3  ...     34632.0     36011.0      27651.0      281338.0       123113.0   \n",
       "4  ...    418418.0    363296.0     270675.0     3286034.0      1372011.0   \n",
       "\n",
       "   GRADES_ALL_G  AVG_MATH_4_SCORE  AVG_MATH_8_SCORE  AVG_READING_4_SCORE  \\\n",
       "0      676174.0        208.327876        252.187522           207.963517   \n",
       "1      112335.0               NaN               NaN                  NaN   \n",
       "2      614881.0        215.253932        265.366278           206.212716   \n",
       "3      405259.0        210.206028        256.312090           208.634458   \n",
       "4     4717112.0        208.398961        260.892247           196.764414   \n",
       "\n",
       "   AVG_READING_8_SCORE  \n",
       "0                  NaN  \n",
       "1           258.859712  \n",
       "2           262.169895  \n",
       "3           264.619665  \n",
       "4                  NaN  \n",
       "\n",
       "[5 rows x 25 columns]"
      ]
     },
     "execution_count": 6,
     "metadata": {},
     "output_type": "execute_result"
    }
   ],
   "source": [
    "df.head(5)"
   ]
  },
  {
   "cell_type": "code",
   "execution_count": 7,
   "metadata": {},
   "outputs": [
    {
     "data": {
      "text/plain": [
       "['PRIMARY_KEY',\n",
       " 'STATE',\n",
       " 'YEAR',\n",
       " 'ENROLL',\n",
       " 'TOTAL_REVENUE',\n",
       " 'FEDERAL_REVENUE',\n",
       " 'STATE_REVENUE',\n",
       " 'LOCAL_REVENUE',\n",
       " 'TOTAL_EXPENDITURE',\n",
       " 'INSTRUCTION_EXPENDITURE',\n",
       " 'SUPPORT_SERVICES_EXPENDITURE',\n",
       " 'OTHER_EXPENDITURE',\n",
       " 'CAPITAL_OUTLAY_EXPENDITURE',\n",
       " 'GRADES_PK_G',\n",
       " 'GRADES_KG_G',\n",
       " 'GRADES_4_G',\n",
       " 'GRADES_8_G',\n",
       " 'GRADES_12_G',\n",
       " 'GRADES_1_8_G',\n",
       " 'GRADES_9_12_G',\n",
       " 'GRADES_ALL_G',\n",
       " 'AVG_MATH_4_SCORE',\n",
       " 'AVG_MATH_8_SCORE',\n",
       " 'AVG_READING_4_SCORE',\n",
       " 'AVG_READING_8_SCORE']"
      ]
     },
     "execution_count": 7,
     "metadata": {},
     "output_type": "execute_result"
    }
   ],
   "source": [
    "df.columns.tolist()"
   ]
  },
  {
   "cell_type": "code",
   "execution_count": 8,
   "metadata": {},
   "outputs": [
    {
     "data": {
      "text/plain": [
       "{1991, 1995, 1999, 2002, 2004, 2006, 2008, 2010, 2012, 2014, 2016}"
      ]
     },
     "execution_count": 8,
     "metadata": {},
     "output_type": "execute_result"
    }
   ],
   "source": [
    "set(df[df['AVG_MATH_4_SCORE']>0]['YEAR'].subtract(1).tolist())"
   ]
  },
  {
   "cell_type": "code",
   "execution_count": 9,
   "metadata": {},
   "outputs": [],
   "source": [
    "shift_cols= ['PRIMARY_KEY', 'YEAR', 'STATE', 'AVG_MATH_4_SCORE']\n"
   ]
  },
  {
   "cell_type": "code",
   "execution_count": 10,
   "metadata": {},
   "outputs": [
    {
     "data": {
      "text/plain": [
       "True"
      ]
     },
     "execution_count": 10,
     "metadata": {},
     "output_type": "execute_result"
    }
   ],
   "source": [
    "df.notna().any().any()"
   ]
  },
  {
   "cell_type": "code",
   "execution_count": 28,
   "metadata": {},
   "outputs": [],
   "source": [
    "# Function to return most recent test result\n",
    "def most_recent_test(cur_yr, state, df, new_cols):\n",
    "    df_scratch= df # .copy()\n",
    "    df_scratch= df_scratch[df_scratch['STATE']==state]\n",
    "    df_scratch= df_scratch[df_scratch['YEAR']<cur_yr]\n",
    "    df_scratch.sort_values(by='YEAR')\n",
    "    \n",
    "    for new_col in new_cols:\n",
    "        df_scratch2= df_scratch[df_scratch[new_col].notna()]\n",
    "        if df_scratch2.notna().any().any(): \n",
    "            most_recent_value[new_col]= df_scratch2[new_col].iloc[-1]\n",
    "        else:\n",
    "            most_recent_value[new_col]= np.nan #Should handle these cases better\n",
    "    return most_recent_test"
   ]
  },
  {
   "cell_type": "code",
   "execution_count": 29,
   "metadata": {},
   "outputs": [
    {
     "ename": "NameError",
     "evalue": "name 'most_recent_value' is not defined",
     "output_type": "error",
     "traceback": [
      "\u001b[0;31m---------------------------------------------------------------------------\u001b[0m",
      "\u001b[0;31mNameError\u001b[0m                                 Traceback (most recent call last)",
      "\u001b[0;32m<ipython-input-29-f04f4fbdb635>\u001b[0m in \u001b[0;36m<module>\u001b[0;34m\u001b[0m\n\u001b[0;32m----> 1\u001b[0;31m \u001b[0mmost_recent_test\u001b[0m\u001b[0;34m(\u001b[0m\u001b[0;36m2009\u001b[0m\u001b[0;34m,\u001b[0m \u001b[0;34m'VIRGINIA'\u001b[0m\u001b[0;34m,\u001b[0m \u001b[0mdf\u001b[0m\u001b[0;34m,\u001b[0m \u001b[0;34m[\u001b[0m\u001b[0;34m'AVG_MATH_4_SCORE'\u001b[0m\u001b[0;34m,\u001b[0m \u001b[0;34m'AVG_MATH_8_SCORE'\u001b[0m\u001b[0;34m]\u001b[0m\u001b[0;34m)\u001b[0m\u001b[0;34m\u001b[0m\u001b[0;34m\u001b[0m\u001b[0m\n\u001b[0m",
      "\u001b[0;32m<ipython-input-28-d966b9b6d500>\u001b[0m in \u001b[0;36mmost_recent_test\u001b[0;34m(cur_yr, state, df, new_cols)\u001b[0m\n\u001b[1;32m      9\u001b[0m         \u001b[0mdf_scratch2\u001b[0m\u001b[0;34m=\u001b[0m \u001b[0mdf_scratch\u001b[0m\u001b[0;34m[\u001b[0m\u001b[0mdf_scratch\u001b[0m\u001b[0;34m[\u001b[0m\u001b[0mnew_col\u001b[0m\u001b[0;34m]\u001b[0m\u001b[0;34m.\u001b[0m\u001b[0mnotna\u001b[0m\u001b[0;34m(\u001b[0m\u001b[0;34m)\u001b[0m\u001b[0;34m]\u001b[0m\u001b[0;34m\u001b[0m\u001b[0;34m\u001b[0m\u001b[0m\n\u001b[1;32m     10\u001b[0m         \u001b[0;32mif\u001b[0m \u001b[0mdf_scratch2\u001b[0m\u001b[0;34m.\u001b[0m\u001b[0mnotna\u001b[0m\u001b[0;34m(\u001b[0m\u001b[0;34m)\u001b[0m\u001b[0;34m.\u001b[0m\u001b[0many\u001b[0m\u001b[0;34m(\u001b[0m\u001b[0;34m)\u001b[0m\u001b[0;34m.\u001b[0m\u001b[0many\u001b[0m\u001b[0;34m(\u001b[0m\u001b[0;34m)\u001b[0m\u001b[0;34m:\u001b[0m\u001b[0;34m\u001b[0m\u001b[0;34m\u001b[0m\u001b[0m\n\u001b[0;32m---> 11\u001b[0;31m             \u001b[0mmost_recent_value\u001b[0m\u001b[0;34m[\u001b[0m\u001b[0mnew_col\u001b[0m\u001b[0;34m]\u001b[0m\u001b[0;34m=\u001b[0m \u001b[0mdf_scratch2\u001b[0m\u001b[0;34m[\u001b[0m\u001b[0mnew_col\u001b[0m\u001b[0;34m]\u001b[0m\u001b[0;34m.\u001b[0m\u001b[0miloc\u001b[0m\u001b[0;34m[\u001b[0m\u001b[0;34m-\u001b[0m\u001b[0;36m1\u001b[0m\u001b[0;34m]\u001b[0m\u001b[0;34m\u001b[0m\u001b[0;34m\u001b[0m\u001b[0m\n\u001b[0m\u001b[1;32m     12\u001b[0m         \u001b[0;32melse\u001b[0m\u001b[0;34m:\u001b[0m\u001b[0;34m\u001b[0m\u001b[0;34m\u001b[0m\u001b[0m\n\u001b[1;32m     13\u001b[0m             \u001b[0mmost_recent_value\u001b[0m\u001b[0;34m[\u001b[0m\u001b[0mnew_col\u001b[0m\u001b[0;34m]\u001b[0m\u001b[0;34m=\u001b[0m \u001b[0mnp\u001b[0m\u001b[0;34m.\u001b[0m\u001b[0mnan\u001b[0m \u001b[0;31m#Should handle these cases better\u001b[0m\u001b[0;34m\u001b[0m\u001b[0;34m\u001b[0m\u001b[0m\n",
      "\u001b[0;31mNameError\u001b[0m: name 'most_recent_value' is not defined"
     ]
    }
   ],
   "source": [
    "most_recent_test(2009, 'VIRGINIA', df, ['AVG_MATH_4_SCORE', 'AVG_MATH_8_SCORE'])"
   ]
  },
  {
   "cell_type": "code",
   "execution_count": 13,
   "metadata": {},
   "outputs": [
    {
     "data": {
      "text/plain": [
       "AVG_MATH_4_SCORE       NaN\n",
       "YEAR                2008.0\n",
       "Name: 865, dtype: float64"
      ]
     },
     "execution_count": 13,
     "metadata": {},
     "output_type": "execute_result"
    }
   ],
   "source": [
    "most_recent_test(2009, 'VIRGINIA', df, ['AVG_MATH_4_SCORE', 'YEAR'])"
   ]
  },
  {
   "cell_type": "code",
   "execution_count": 14,
   "metadata": {},
   "outputs": [
    {
     "name": "stderr",
     "output_type": "stream",
     "text": [
      "/Users/daviderickson/anaconda3/lib/python3.7/site-packages/ipykernel_launcher.py:1: UserWarning: Boolean Series key will be reindexed to match DataFrame index.\n",
      "  \"\"\"Entry point for launching an IPython kernel.\n"
     ]
    },
    {
     "data": {
      "text/html": [
       "<div>\n",
       "<style scoped>\n",
       "    .dataframe tbody tr th:only-of-type {\n",
       "        vertical-align: middle;\n",
       "    }\n",
       "\n",
       "    .dataframe tbody tr th {\n",
       "        vertical-align: top;\n",
       "    }\n",
       "\n",
       "    .dataframe thead th {\n",
       "        text-align: right;\n",
       "    }\n",
       "</style>\n",
       "<table border=\"1\" class=\"dataframe\">\n",
       "  <thead>\n",
       "    <tr style=\"text-align: right;\">\n",
       "      <th></th>\n",
       "      <th>YEAR</th>\n",
       "      <th>AVG_MATH_4_SCORE</th>\n",
       "    </tr>\n",
       "  </thead>\n",
       "  <tbody>\n",
       "    <tr>\n",
       "      <th>46</th>\n",
       "      <td>1992</td>\n",
       "      <td>220.762964</td>\n",
       "    </tr>\n",
       "    <tr>\n",
       "      <th>97</th>\n",
       "      <td>1993</td>\n",
       "      <td>NaN</td>\n",
       "    </tr>\n",
       "    <tr>\n",
       "      <th>148</th>\n",
       "      <td>1994</td>\n",
       "      <td>NaN</td>\n",
       "    </tr>\n",
       "    <tr>\n",
       "      <th>199</th>\n",
       "      <td>1995</td>\n",
       "      <td>NaN</td>\n",
       "    </tr>\n",
       "    <tr>\n",
       "      <th>250</th>\n",
       "      <td>1996</td>\n",
       "      <td>222.643213</td>\n",
       "    </tr>\n",
       "  </tbody>\n",
       "</table>\n",
       "</div>"
      ],
      "text/plain": [
       "     YEAR  AVG_MATH_4_SCORE\n",
       "46   1992        220.762964\n",
       "97   1993               NaN\n",
       "148  1994               NaN\n",
       "199  1995               NaN\n",
       "250  1996        222.643213"
      ]
     },
     "execution_count": 14,
     "metadata": {},
     "output_type": "execute_result"
    }
   ],
   "source": [
    "df[df['STATE']=='VIRGINIA'][df['YEAR'] <1997][['YEAR', 'AVG_MATH_4_SCORE']]"
   ]
  },
  {
   "cell_type": "code",
   "execution_count": null,
   "metadata": {},
   "outputs": [],
   "source": []
  },
  {
   "cell_type": "code",
   "execution_count": 18,
   "metadata": {},
   "outputs": [
    {
     "ename": "ValueError",
     "evalue": "Incompatible indexer with Series",
     "output_type": "error",
     "traceback": [
      "\u001b[0;31m---------------------------------------------------------------------------\u001b[0m",
      "\u001b[0;31mValueError\u001b[0m                                Traceback (most recent call last)",
      "\u001b[0;32m<ipython-input-18-1ec9a893e3b0>\u001b[0m in \u001b[0;36m<module>\u001b[0;34m\u001b[0m\n\u001b[1;32m      4\u001b[0m \u001b[0;32mfor\u001b[0m \u001b[0mindex\u001b[0m\u001b[0;34m,\u001b[0m \u001b[0mdata\u001b[0m \u001b[0;32min\u001b[0m \u001b[0mdf\u001b[0m\u001b[0;34m.\u001b[0m\u001b[0miterrows\u001b[0m\u001b[0;34m(\u001b[0m\u001b[0;34m)\u001b[0m\u001b[0;34m:\u001b[0m\u001b[0;34m\u001b[0m\u001b[0;34m\u001b[0m\u001b[0m\n\u001b[1;32m      5\u001b[0m     \u001b[0mrecent_test\u001b[0m\u001b[0;34m=\u001b[0m \u001b[0mmost_recent_test\u001b[0m\u001b[0;34m(\u001b[0m\u001b[0mcur_yr\u001b[0m\u001b[0;34m=\u001b[0m\u001b[0mdata\u001b[0m\u001b[0;34m[\u001b[0m\u001b[0;34m'YEAR'\u001b[0m\u001b[0;34m]\u001b[0m\u001b[0;34m,\u001b[0m \u001b[0mstate\u001b[0m\u001b[0;34m=\u001b[0m\u001b[0mdata\u001b[0m\u001b[0;34m[\u001b[0m\u001b[0;34m'STATE'\u001b[0m\u001b[0;34m]\u001b[0m\u001b[0;34m,\u001b[0m \u001b[0mdf\u001b[0m\u001b[0;34m=\u001b[0m\u001b[0mdf\u001b[0m\u001b[0;34m,\u001b[0m \u001b[0mnew_cols\u001b[0m\u001b[0;34m=\u001b[0m\u001b[0;34m[\u001b[0m\u001b[0;34m'AVG_MATH_4_SCORE'\u001b[0m\u001b[0;34m]\u001b[0m\u001b[0;34m)\u001b[0m\u001b[0;34m\u001b[0m\u001b[0;34m\u001b[0m\u001b[0m\n\u001b[0;32m----> 6\u001b[0;31m     \u001b[0mdf\u001b[0m\u001b[0;34m.\u001b[0m\u001b[0mloc\u001b[0m\u001b[0;34m[\u001b[0m\u001b[0mindex\u001b[0m\u001b[0;34m,\u001b[0m \u001b[0;34m'recent_AVG_MATH_4_SCORE'\u001b[0m\u001b[0;34m]\u001b[0m\u001b[0;34m=\u001b[0m \u001b[0mrecent_test\u001b[0m\u001b[0;34m\u001b[0m\u001b[0;34m\u001b[0m\u001b[0m\n\u001b[0m\u001b[1;32m      7\u001b[0m \u001b[0;34m\u001b[0m\u001b[0m\n",
      "\u001b[0;32m~/anaconda3/lib/python3.7/site-packages/pandas/core/indexing.py\u001b[0m in \u001b[0;36m__setitem__\u001b[0;34m(self, key, value)\u001b[0m\n\u001b[1;32m    188\u001b[0m             \u001b[0mkey\u001b[0m \u001b[0;34m=\u001b[0m \u001b[0mcom\u001b[0m\u001b[0;34m.\u001b[0m\u001b[0mapply_if_callable\u001b[0m\u001b[0;34m(\u001b[0m\u001b[0mkey\u001b[0m\u001b[0;34m,\u001b[0m \u001b[0mself\u001b[0m\u001b[0;34m.\u001b[0m\u001b[0mobj\u001b[0m\u001b[0;34m)\u001b[0m\u001b[0;34m\u001b[0m\u001b[0;34m\u001b[0m\u001b[0m\n\u001b[1;32m    189\u001b[0m         \u001b[0mindexer\u001b[0m \u001b[0;34m=\u001b[0m \u001b[0mself\u001b[0m\u001b[0;34m.\u001b[0m\u001b[0m_get_setitem_indexer\u001b[0m\u001b[0;34m(\u001b[0m\u001b[0mkey\u001b[0m\u001b[0;34m)\u001b[0m\u001b[0;34m\u001b[0m\u001b[0;34m\u001b[0m\u001b[0m\n\u001b[0;32m--> 190\u001b[0;31m         \u001b[0mself\u001b[0m\u001b[0;34m.\u001b[0m\u001b[0m_setitem_with_indexer\u001b[0m\u001b[0;34m(\u001b[0m\u001b[0mindexer\u001b[0m\u001b[0;34m,\u001b[0m \u001b[0mvalue\u001b[0m\u001b[0;34m)\u001b[0m\u001b[0;34m\u001b[0m\u001b[0;34m\u001b[0m\u001b[0m\n\u001b[0m\u001b[1;32m    191\u001b[0m \u001b[0;34m\u001b[0m\u001b[0m\n\u001b[1;32m    192\u001b[0m     \u001b[0;32mdef\u001b[0m \u001b[0m_validate_key\u001b[0m\u001b[0;34m(\u001b[0m\u001b[0mself\u001b[0m\u001b[0;34m,\u001b[0m \u001b[0mkey\u001b[0m\u001b[0;34m,\u001b[0m \u001b[0maxis\u001b[0m\u001b[0;34m)\u001b[0m\u001b[0;34m:\u001b[0m\u001b[0;34m\u001b[0m\u001b[0;34m\u001b[0m\u001b[0m\n",
      "\u001b[0;32m~/anaconda3/lib/python3.7/site-packages/pandas/core/indexing.py\u001b[0m in \u001b[0;36m_setitem_with_indexer\u001b[0;34m(self, indexer, value)\u001b[0m\n\u001b[1;32m    467\u001b[0m \u001b[0;34m\u001b[0m\u001b[0m\n\u001b[1;32m    468\u001b[0m             \u001b[0;32mif\u001b[0m \u001b[0misinstance\u001b[0m\u001b[0;34m(\u001b[0m\u001b[0mvalue\u001b[0m\u001b[0;34m,\u001b[0m \u001b[0mABCSeries\u001b[0m\u001b[0;34m)\u001b[0m\u001b[0;34m:\u001b[0m\u001b[0;34m\u001b[0m\u001b[0;34m\u001b[0m\u001b[0m\n\u001b[0;32m--> 469\u001b[0;31m                 \u001b[0mvalue\u001b[0m \u001b[0;34m=\u001b[0m \u001b[0mself\u001b[0m\u001b[0;34m.\u001b[0m\u001b[0m_align_series\u001b[0m\u001b[0;34m(\u001b[0m\u001b[0mindexer\u001b[0m\u001b[0;34m,\u001b[0m \u001b[0mvalue\u001b[0m\u001b[0;34m)\u001b[0m\u001b[0;34m\u001b[0m\u001b[0;34m\u001b[0m\u001b[0m\n\u001b[0m\u001b[1;32m    470\u001b[0m \u001b[0;34m\u001b[0m\u001b[0m\n\u001b[1;32m    471\u001b[0m             \u001b[0minfo_idx\u001b[0m \u001b[0;34m=\u001b[0m \u001b[0mindexer\u001b[0m\u001b[0;34m[\u001b[0m\u001b[0minfo_axis\u001b[0m\u001b[0;34m]\u001b[0m\u001b[0;34m\u001b[0m\u001b[0;34m\u001b[0m\u001b[0m\n",
      "\u001b[0;32m~/anaconda3/lib/python3.7/site-packages/pandas/core/indexing.py\u001b[0m in \u001b[0;36m_align_series\u001b[0;34m(self, indexer, ser, multiindex_indexer)\u001b[0m\n\u001b[1;32m    781\u001b[0m             \u001b[0;32mreturn\u001b[0m \u001b[0mser\u001b[0m\u001b[0;34m.\u001b[0m\u001b[0mreindex\u001b[0m\u001b[0;34m(\u001b[0m\u001b[0max\u001b[0m\u001b[0;34m)\u001b[0m\u001b[0;34m.\u001b[0m\u001b[0m_values\u001b[0m\u001b[0;34m\u001b[0m\u001b[0;34m\u001b[0m\u001b[0m\n\u001b[1;32m    782\u001b[0m \u001b[0;34m\u001b[0m\u001b[0m\n\u001b[0;32m--> 783\u001b[0;31m         \u001b[0;32mraise\u001b[0m \u001b[0mValueError\u001b[0m\u001b[0;34m(\u001b[0m\u001b[0;34m'Incompatible indexer with Series'\u001b[0m\u001b[0;34m)\u001b[0m\u001b[0;34m\u001b[0m\u001b[0;34m\u001b[0m\u001b[0m\n\u001b[0m\u001b[1;32m    784\u001b[0m \u001b[0;34m\u001b[0m\u001b[0m\n\u001b[1;32m    785\u001b[0m     \u001b[0;32mdef\u001b[0m \u001b[0m_align_frame\u001b[0m\u001b[0;34m(\u001b[0m\u001b[0mself\u001b[0m\u001b[0;34m,\u001b[0m \u001b[0mindexer\u001b[0m\u001b[0;34m,\u001b[0m \u001b[0mdf\u001b[0m\u001b[0;34m)\u001b[0m\u001b[0;34m:\u001b[0m\u001b[0;34m\u001b[0m\u001b[0;34m\u001b[0m\u001b[0m\n",
      "\u001b[0;31mValueError\u001b[0m: Incompatible indexer with Series"
     ]
    }
   ],
   "source": [
    "# Add recent_AVG_MATH_4_SCORE\n",
    "df['recent_AVG_MATH_4_SCORE'] = np.zeros(len(df))\n",
    "new_cols= ['']\n",
    "for index, data in df.iterrows(): \n",
    "    recent_test= most_recent_test(cur_yr=data['YEAR'], state=data['STATE'], df=df, new_cols=['AVG_MATH_4_SCORE'])\n",
    "    df.loc[index, 'recent_AVG_MATH_4_SCORE']= recent_test\n",
    "\n"
   ]
  },
  {
   "cell_type": "code",
   "execution_count": null,
   "metadata": {},
   "outputs": [],
   "source": [
    "\"\"\"Failed attempts to make new recent_AVG_MATH_4_SCORE\n",
    "\n",
    "shift_cols= ['PRIMARY_KEY', 'YEAR', 'STATE', 'AVG_MATH_4_SCORE']\n",
    "df_shift= df[shift_cols].copy()\n",
    "# print(df.shape, df_shift.shape)\n",
    "\n",
    "year= df_shift['YEAR']\n",
    "df_shift.loc['YEAR']= year-1\n",
    "df_shift['YEAR'] = df_shift['YEAR'].astype(int)\n",
    "\n",
    "df_shift.loc['PRIMARY_KEY']= \"{}_{}\".format(df_shift['YEAR'], df_shift['STATE'])\n",
    "df_join= df.join(df_shift, on='PRIMARY_KEY', rsuffix='_shift')\n",
    "\"\"\"\n",
    "\n",
    "'''\n",
    "print(df_join.shape)\n",
    "print(df_shift['AVG_MATH_4_SCORE'].notna().sum())\n",
    "print(df_join['AVG_MATH_4_SCORE_shift'].notna().sum())\n",
    "print(df_join['AVG_MATH_4_SCORE'].notna().sum())\n",
    "\n",
    "print(df_join['STATE_shift'].notna().sum())\n",
    "\n",
    "print(df_shift['PRIMARY_KEY'])\n",
    "'''\n",
    "\n",
    "# df_join['recent_AVG_MATH_4_SCORE'] = df_join['AVG_MATH_4_SCORE_shift']\n",
    "# df_join= df_join.drop(labels=['PRIMARY_KEY_shift', 'YEAR_shift', 'STATE_shift', 'AVG_MATH_4_SCORE_shift'], axis=1)\n",
    "\n",
    "# print(df_join.shape, '\\n', df_join)\n",
    "# print(df_join['recent_AVG_MATH_4_SCORE'])\n",
    "# print(df_join['AVG_MATH_4_SCORE'])"
   ]
  },
  {
   "cell_type": "code",
   "execution_count": null,
   "metadata": {},
   "outputs": [],
   "source": [
    "print(np.count_nonzero(~np.isnan(df['recent_AVG_MATH_4_SCORE'])))\n",
    "print(np.shape(df['recent_AVG_MATH_4_SCORE']))\n",
    "\n",
    "print(df['recent_AVG_MATH_4_SCORE'].value_counts())\n"
   ]
  },
  {
   "cell_type": "code",
   "execution_count": null,
   "metadata": {},
   "outputs": [],
   "source": [
    "\"\"\"print(key, lag_key)\n",
    "print(df[df['PRIMARY_KEY']==key]['GRADES_12_G'])\n",
    "print()\n",
    "print(df[df['PRIMARY_KEY']==lag_key]['GRADES_8_G'])\n",
    "\"\"\""
   ]
  },
  {
   "cell_type": "code",
   "execution_count": null,
   "metadata": {},
   "outputs": [],
   "source": [
    "#Normalize expenditures to fraction of total expenditures\n",
    "expenditure_cols = ['INSTRUCTION_EXPENDITURE',\n",
    " 'SUPPORT_SERVICES_EXPENDITURE',\n",
    " 'OTHER_EXPENDITURE',\n",
    " 'CAPITAL_OUTLAY_EXPENDITURE']\n",
    "\n",
    "for col in expenditure_cols:\n",
    "    df['fracn_exp_{}'.format(col)] = df[col] / df['TOTAL_EXPENDITURE']\n",
    "    #df=df.drop(col, axis=1)\n",
    "    print('fracn_exp_{}'.format(col))"
   ]
  },
  {
   "cell_type": "code",
   "execution_count": null,
   "metadata": {},
   "outputs": [],
   "source": [
    "#Normalize revenue to fraction of total revenue\n",
    "revenue_cols = ['FEDERAL_REVENUE',\n",
    " 'STATE_REVENUE',\n",
    " 'LOCAL_REVENUE']\n",
    "\n",
    "for col in revenue_cols:\n",
    "    df['fracn_rev_{}'.format(col)] = df[col] / df['TOTAL_REVENUE']\n",
    "    #df=df.drop(col, axis=1)\n",
    "    print('fracn_rev_{}'.format(col))"
   ]
  },
  {
   "cell_type": "code",
   "execution_count": null,
   "metadata": {},
   "outputs": [],
   "source": [
    "#Normalize students enrolled to fraction of enrolled population\n",
    "fracn_enroll_cols = ['GRADES_PK_G', 'GRADES_KG_G',\n",
    "       'GRADES_4_G', 'GRADES_8_G', 'GRADES_12_G', 'GRADES_1_8_G',\n",
    "       'GRADES_9_12_G']\n",
    "\n",
    "for col in fracn_enroll_cols:\n",
    "    df['fracn_enroll_{}'.format(col)] = df[col] / df['GRADES_ALL_G']\n",
    "    print('fracn_enroll_{}'.format(col))\n",
    "    #df = df.drop(col, axis=1) "
   ]
  },
  {
   "cell_type": "code",
   "execution_count": null,
   "metadata": {},
   "outputs": [],
   "source": [
    "df['avg_total_revenue']=df['TOTAL_REVENUE']/df['GRADES_ALL_G']\n",
    "df['avg_total_expenditure'] = df['TOTAL_EXPENDITURE'] / df['GRADES_ALL_G']\n",
    "\n",
    "df['fracn_schoolage'] = df['GRADES_ALL_G']/df['ENROLL']\n",
    "df['rev_per_person'] = df['TOTAL_REVENUE'] / df['ENROLL']\n",
    "df['exp_per_rev'] = df['TOTAL_EXPENDITURE'] / df['TOTAL_REVENUE']\n",
    "\n",
    "#Models want to know about drop-out rate\n",
    "df['fracn_GRADES_12div8_G'] = np.zeros(len(df))\n",
    "#Subtract take ratio GRADES_12_G(YEAR)/GRADES_8_G(YEAR-4)\n",
    "for state in set(df['STATE'].tolist()):\n",
    "    for year in set(df['YEAR'].tolist()):\n",
    "        key= \"{}_{}\".format(year, state)\n",
    "        lag_year = year-4\n",
    "        lag_key= \"{}_{}\".format(lag_year, state)\n",
    "        if np.any(df['PRIMARY_KEY']==lag_key):\n",
    "            df.loc[df['PRIMARY_KEY']==key, ['fracn_GRADES_12div8_G']]= np.divide( \\\n",
    "                df[df['PRIMARY_KEY']==key]['GRADES_12_G'], np.median(df[df['PRIMARY_KEY']==lag_key]['GRADES_8_G']))"
   ]
  },
  {
   "cell_type": "code",
   "execution_count": null,
   "metadata": {},
   "outputs": [],
   "source": [
    "df.describe()"
   ]
  },
  {
   "cell_type": "code",
   "execution_count": null,
   "metadata": {},
   "outputs": [],
   "source": [
    "#sns.pairplot(df, kind='scatter')"
   ]
  },
  {
   "cell_type": "code",
   "execution_count": null,
   "metadata": {},
   "outputs": [],
   "source": [
    "#plt.figure(figsize=(15,15))\n",
    "corr = df.corr()\n",
    "print(corr.shape)\n",
    "fig, ax = plt.subplots(figsize=(20, 10))\n",
    "sns.heatmap(corr)"
   ]
  },
  {
   "cell_type": "code",
   "execution_count": null,
   "metadata": {},
   "outputs": [],
   "source": []
  },
  {
   "cell_type": "code",
   "execution_count": null,
   "metadata": {},
   "outputs": [],
   "source": [
    "g = sns.FacetGrid(df, row=\"STATE\") \n",
    "g.map(plt.scatter, 'YEAR', 'AVG_MATH_4_SCORE')"
   ]
  },
  {
   "cell_type": "code",
   "execution_count": null,
   "metadata": {},
   "outputs": [],
   "source": [
    "sns.lmplot(x=\"YEAR\", y=\"AVG_MATH_4_SCORE\", hue=\"STATE\", data=df.dropna(), legend_out=True);"
   ]
  },
  {
   "cell_type": "code",
   "execution_count": null,
   "metadata": {},
   "outputs": [],
   "source": [
    "plt.hist('avg_total_expenditure', bins=50, log=True, data=df);"
   ]
  },
  {
   "cell_type": "code",
   "execution_count": null,
   "metadata": {},
   "outputs": [],
   "source": [
    "#For some reason VIRGINIA has 3 entries for 2008 and 2 of them have increicbly high avg_instruction_expenditure\n",
    "df[df['avg_total_expenditure'] > 100]"
   ]
  },
  {
   "cell_type": "code",
   "execution_count": null,
   "metadata": {},
   "outputs": [],
   "source": [
    "df['AVG_MATH_4_SCORE'].dropna().hist(density=True, cumulative=True)\n",
    "plt.show()\n",
    "df['AVG_MATH_4_SCORE'].dropna().hist()"
   ]
  },
  {
   "cell_type": "code",
   "execution_count": null,
   "metadata": {},
   "outputs": [],
   "source": [
    "sns.jointplot(\"YEAR\", \"AVG_MATH_4_SCORE\", data=df, kind=\"reg\")\n",
    "sns.jointplot(\"YEAR\", \"AVG_READING_4_SCORE\", data=df, kind=\"reg\")"
   ]
  },
  {
   "cell_type": "code",
   "execution_count": null,
   "metadata": {},
   "outputs": [],
   "source": [
    "sns.jointplot(\"avg_total_revenue\", \"AVG_READING_4_SCORE\", data=df, kind=\"reg\")"
   ]
  },
  {
   "cell_type": "code",
   "execution_count": null,
   "metadata": {},
   "outputs": [],
   "source": [
    "sns.jointplot(\"avg_total_expenditure\", \"AVG_MATH_4_SCORE\", data=df, kind=\"reg\")"
   ]
  },
  {
   "cell_type": "code",
   "execution_count": null,
   "metadata": {},
   "outputs": [],
   "source": [
    "sns.jointplot(\"AVG_READING_4_SCORE\", \"AVG_MATH_4_SCORE\", data=df, kind=\"reg\")"
   ]
  },
  {
   "cell_type": "code",
   "execution_count": null,
   "metadata": {},
   "outputs": [],
   "source": [
    "sns.jointplot(\"AVG_MATH_8_SCORE\", \"AVG_MATH_4_SCORE\", data=df, kind=\"reg\")"
   ]
  },
  {
   "cell_type": "code",
   "execution_count": null,
   "metadata": {},
   "outputs": [],
   "source": [
    "df1=df.drop(['PRIMARY_KEY','AVG_MATH_8_SCORE','AVG_READING_4_SCORE','AVG_READING_8_SCORE','ENROLL'],axis=1)\n",
    "df1 = df1.dropna()\n",
    "print(df1.columns)\n",
    "df1 = pd.get_dummies(df1, columns=['STATE'])\n",
    "\n",
    "y=df1.loc[:,'AVG_MATH_4_SCORE'].values\n",
    "X=df1.drop(['AVG_MATH_4_SCORE'],axis=1).loc[:,:].values\n",
    "X_cols=df1.drop(['AVG_MATH_4_SCORE'],axis=1).columns\n",
    "\n",
    "ts_cv = TimeSeriesSplit(n_splits=5)\n",
    "print(ts_cv)\n",
    "for train_index, test_index in ts_cv.split(X):\n",
    "    X_train, X_test = X[train_index], X[test_index]\n",
    "    y_train, y_test = y[train_index], y[test_index]\n",
    "\n",
    "\"\"\"\n",
    "PredefinedSplit won't work because it folds in future data\n",
    "\n",
    "test_fold = df1.loc[:,'YEAR'].values\n",
    "ps = PredefinedSplit(test_fold)\n",
    "print(ps.get_n_splits())\n",
    "for train_index, test_index in ps.split():\n",
    "    print(\"Train:\", train_index, \"Test:\", test_index)\n",
    "    X_train, X_test = X[train_index], X[test_index]\n",
    "    y_train, y_test = y[train_index], y[test_index]    \n",
    "\"\"\""
   ]
  },
  {
   "cell_type": "code",
   "execution_count": null,
   "metadata": {},
   "outputs": [],
   "source": [
    "n_splits=20\n",
    "ts_cv = TimeSeriesSplit(n_splits=n_splits)\n",
    "rf_model = RandomForestRegressor(n_estimators=100, n_jobs=-1)\n",
    "\n",
    "index=0\n",
    "train_score = np.zeros(n_splits)\n",
    "test_score = np.zeros(n_splits)\n",
    "\n",
    "for train_index, test_index in ts_cv.split(X):\n",
    "    X_train, X_test = X[train_index], X[test_index]\n",
    "    y_train, y_test = y[train_index], y[test_index]   \n",
    "    \n",
    "    rf_model.fit(X_train, y_train) \n",
    "    Y_rf=rf_model.predict(X_test)\n",
    "    train_score[index]=rf_model.score(X_train,y_train) #Train score\n",
    "    test_score[index]=rf_model.score(X_test,y_test) #Test score\n",
    "    index+=1\n",
    "index_list=np.arange(index)"
   ]
  },
  {
   "cell_type": "code",
   "execution_count": null,
   "metadata": {},
   "outputs": [],
   "source": [
    "print(index)\n",
    "print(index_list)\n",
    "print(train_score)\n",
    "print(test_score)"
   ]
  },
  {
   "cell_type": "code",
   "execution_count": null,
   "metadata": {},
   "outputs": [],
   "source": [
    "plt.plot(index_list,train_score,'o', label=\"Train\")\n",
    "plt.plot(index_list,test_score,'o', label=\"Test\")\n",
    "plt.xlabel(\"Split\")\n",
    "plt.ylabel(\"R^2 Score\")\n",
    "plt.legend(loc=\"best\")"
   ]
  },
  {
   "cell_type": "code",
   "execution_count": null,
   "metadata": {},
   "outputs": [],
   "source": [
    "model=RandomForestRegressor()\n",
    "\n",
    "num_splits=30\n",
    "ts_cv=TimeSeriesSplit(n_splits=num_splits) #.split(X)\n",
    "\n",
    "\"\"\"\n",
    "param_search = [\n",
    "  {'n_estimators': [1, 10, 20, 100]}\n",
    "]\n",
    "gsrch_rf_model=GridSearchCV(estimator=model, param_grid=param_search, cv=ts_cv, n_jobs=-1)\n",
    "gsrch_rf_model.fit(X,y)\n",
    "\"\"\"\n",
    "\n",
    "#train_sizes, train_scores, test_scores = \\\n",
    "#    learning_curve(estimator=model, X=X, y=y, train_sizes=np.linspace(0.1,1.0,num=10), cv=ts_cv, n_jobs=-1)\n",
    "\n",
    "param_range=[4,5,6,7,8,9,10,20,30,40,50,60]\n",
    "train_scores_vc, test_scores_vc = \\\n",
    "    validation_curve(estimator=model, X=X, y=y, param_name=\"n_estimators\", param_range=param_range, cv=ts_cv, n_jobs=-1)"
   ]
  },
  {
   "cell_type": "code",
   "execution_count": null,
   "metadata": {},
   "outputs": [],
   "source": [
    "train_scores_mean = np.mean(train_scores_vc, axis=1)\n",
    "train_scores_std = np.std(train_scores_vc, axis=1)\n",
    "test_scores_mean = np.mean(test_scores_vc, axis=1)\n",
    "test_scores_std = np.std(test_scores_vc, axis=1)\n",
    "\n",
    "plt.figure()\n",
    "plt.plot(param_range,train_scores_mean,'o',label=\"Train\")\n",
    "plt.plot(param_range,test_scores_mean,'o',label=\"Test\")\n",
    "plt.xlabel(\"n_estimators\")\n",
    "plt.ylabel(\"Score\")\n",
    "plt.title(\"Validation Curves\")\n",
    "plt.legend(loc=\"best\")"
   ]
  },
  {
   "cell_type": "code",
   "execution_count": null,
   "metadata": {},
   "outputs": [],
   "source": [
    "model=RandomForestRegressor(n_estimators=20)\n",
    "\n",
    "num_splits=30\n",
    "ts_cv=TimeSeriesSplit(n_splits=num_splits) #.split(X)\n",
    "\n",
    "train_sizes, train_scores, test_scores = \\\n",
    "    learning_curve(estimator=model, X=X, y=y, train_sizes=np.linspace(0.1,1.0,num=30), cv=ts_cv, n_jobs=-1)"
   ]
  },
  {
   "cell_type": "code",
   "execution_count": null,
   "metadata": {},
   "outputs": [],
   "source": [
    "plt.figure()\n",
    "plt.plot(train_sizes, -train_scores.mean(1), 'o-', color=\"g\",\n",
    "         label=\"Train\")\n",
    "plt.plot(train_sizes, -test_scores.mean(1), 'o-', color=\"r\",\n",
    "         label=\"Test\")\n",
    "plt.xlabel(\"Train Size\")\n",
    "plt.ylabel(\"Score\")\n",
    "plt.title(\"Learning Curves\")\n",
    "plt.legend(loc=\"best\")"
   ]
  },
  {
   "cell_type": "code",
   "execution_count": null,
   "metadata": {},
   "outputs": [],
   "source": [
    "rf_model = RandomForestRegressor(n_estimators=100)\n",
    "rf_model.fit(X, y)  "
   ]
  },
  {
   "cell_type": "code",
   "execution_count": null,
   "metadata": {},
   "outputs": [],
   "source": [
    "Y_rf=rf_model.predict(X)\n",
    "plt.plot(Y_rf, y, 'ro')\n",
    "plt.show()"
   ]
  },
  {
   "cell_type": "code",
   "execution_count": null,
   "metadata": {},
   "outputs": [],
   "source": [
    "rf_model.score(X,y)"
   ]
  },
  {
   "cell_type": "code",
   "execution_count": null,
   "metadata": {},
   "outputs": [],
   "source": [
    "feature_importances_rf = pd.DataFrame(rf_model.feature_importances_, index = df1.drop(['AVG_MATH_4_SCORE'],axis=1).columns, columns=['importance']).sort_values('importance',ascending=False)\n",
    "feature_importances_rf.head(10)"
   ]
  },
  {
   "cell_type": "code",
   "execution_count": null,
   "metadata": {},
   "outputs": [],
   "source": [
    "sns.jointplot(x='YEAR', y='AVG_MATH_4_SCORE', data=df, kind='reg')\n",
    "sns.jointplot(x='fracn_enroll_GRADES_12_G', y='AVG_MATH_4_SCORE', data=df, kind='reg')\n",
    "sns.jointplot(x='fracn_rev_FEDERAL_REVENUE', y='AVG_MATH_4_SCORE', data=df, kind='reg')"
   ]
  },
  {
   "cell_type": "code",
   "execution_count": null,
   "metadata": {},
   "outputs": [],
   "source": []
  },
  {
   "cell_type": "code",
   "execution_count": null,
   "metadata": {},
   "outputs": [],
   "source": [
    "from sklearn import svm\n",
    "svm_model = svm.SVR(gamma='scale')\n",
    "svm_model.fit(X, y)  "
   ]
  },
  {
   "cell_type": "code",
   "execution_count": null,
   "metadata": {},
   "outputs": [],
   "source": [
    "Y_svm=svm_model.predict(X)\n",
    "plt.plot(Y_svm, y, 'ro')\n",
    "plt.show()"
   ]
  },
  {
   "cell_type": "markdown",
   "metadata": {},
   "source": [
    "# Lasso"
   ]
  },
  {
   "cell_type": "code",
   "execution_count": null,
   "metadata": {},
   "outputs": [],
   "source": [
    "model=linear_model.Lasso(normalize=True)\n",
    "param_search = [\n",
    "  {'alpha': [0.00001,0.0001,0.001,0.01,0.1,1]}\n",
    " ]\n",
    "\n",
    "num_splits=30\n",
    "ts_cv=TimeSeriesSplit(n_splits=num_splits) #.split(X)\n",
    "\n",
    "#gsrch_rf_model=GridSearchCV(estimator=model, param_grid=param_search, cv=ts_cv, n_jobs=-1)\n",
    "#gsrch_rf_model.fit(X,y)\n",
    "\n",
    "#train_sizes, train_scores, test_scores = \\\n",
    "#    learning_curve(estimator=model, X=X, y=y, train_sizes=np.linspace(0.1,1.0,num=10), cv=ts_cv, n_jobs=-1)\n",
    "\n",
    "param_range=[0.00001,0.0001,0.001,0.005,0.01,0.02,0.05,0.1,0.2,0.3,0.5,1]\n",
    "train_scores_vc, test_scores_vc = \\\n",
    "    validation_curve(estimator=model, X=X, y=y, param_name=\"alpha\", param_range=param_range, cv=ts_cv, n_jobs=-1)\n",
    "\n",
    "train_scores_mean = np.mean(train_scores_vc, axis=1)\n",
    "train_scores_std = np.std(train_scores_vc, axis=1)\n",
    "test_scores_mean = np.mean(test_scores_vc, axis=1)\n",
    "test_scores_std = np.std(test_scores_vc, axis=1)\n",
    "\n",
    "plt.figure()\n",
    "plt.semilogx(param_range,train_scores_mean,'o',label=\"Train\")\n",
    "plt.semilogx(param_range,test_scores_mean,'o',label=\"Test\")\n",
    "plt.semilogx(param_range,test_scores_mean,label=\"Test_curve\")\n",
    "plt.xlabel(\"alpha\")\n",
    "plt.ylabel(\"Score\")\n",
    "plt.title(\"Validation Curves\")\n",
    "plt.legend(loc=\"best\")"
   ]
  },
  {
   "cell_type": "code",
   "execution_count": null,
   "metadata": {},
   "outputs": [],
   "source": [
    "model=linear_model.Lasso(alpha=0.01, normalize=True)\n",
    "#lasso_model.fit(X, y)  \n",
    "#Y_lasso=lasso_model.predict(X)\n",
    "\n",
    "num_splits=5\n",
    "ts_cv=TimeSeriesSplit(n_splits=num_splits) #.split(X)\n",
    "\n",
    "train_sizes, train_scores, test_scores = \\\n",
    "    learning_curve(estimator=model, X=X, y=y, train_sizes=np.linspace(0.1,1.0,num=30), cv=ts_cv, n_jobs=-1)\n",
    "\n",
    "print(train_sizes.shape,train_scores.shape, test_scores.shape)\n",
    "\n",
    "train_scores_mean = np.mean(train_scores, axis=1)\n",
    "train_scores_std = np.std(train_scores, axis=1)\n",
    "test_scores_mean = np.mean(test_scores, axis=1)\n",
    "test_scores_std = np.std(test_scores, axis=1)\n",
    "\n",
    "plt.figure()\n",
    "plt.plot(train_sizes,train_scores_mean,'o',label=\"Train\")\n",
    "plt.plot(train_sizes,test_scores_mean,'o',label=\"Test\")\n",
    "plt.xlabel(\"Train Sizes\")\n",
    "plt.ylabel(\"Score\")\n",
    "plt.title(\"Learning Curves\")\n",
    "plt.legend(loc=\"best\")"
   ]
  },
  {
   "cell_type": "code",
   "execution_count": null,
   "metadata": {},
   "outputs": [],
   "source": [
    "\"\"\"Plot test data fit\"\"\""
   ]
  },
  {
   "cell_type": "code",
   "execution_count": null,
   "metadata": {},
   "outputs": [],
   "source": [
    "\n",
    "lasso_model=linear_model.Lasso(alpha=0.01, normalize=True)\n",
    "lasso_model.fit(X, y)  \n",
    "Y_lasso=lasso_model.predict(X)\n",
    "plt.plot(Y_lasso, y, 'ro')\n",
    "\n",
    "# Generated linear fit\n",
    "slope, intercept, r_value, p_value, std_err = stats.linregress(Y_lasso,y)\n",
    "line = slope*Y_lasso+intercept\n",
    "\n",
    "plt.plot(Y_lasso,y,'o',Y_lasso,line,Y_lasso,Y_lasso)\n",
    "plt.legend((\"y\",\"fit_lasso\",\"y=x\"),loc='best')\n",
    "plt.xlabel(\"Y_lasso\")\n",
    "plt.ylabel(\"y\")"
   ]
  },
  {
   "cell_type": "code",
   "execution_count": null,
   "metadata": {},
   "outputs": [],
   "source": [
    "lasso_coef_ = lasso_model.coef_\n",
    "print(X_cols.shape)\n",
    "#print(X_cols)\n",
    "print(lasso_coef_.shape)\n",
    "print(np.round(lasso_coef_))\n",
    "#print(lasso_coef_)\n",
    "X_cols[np.abs(lasso_coef_)>10]\n",
    "\n",
    "sorted(zip(lasso_coef_.round(), X_cols))"
   ]
  },
  {
   "cell_type": "code",
   "execution_count": null,
   "metadata": {},
   "outputs": [],
   "source": [
    "scaler=StandardScaler()\n",
    "X_transformed = scaler.fit_transform(X)\n",
    "\n",
    "model=linear_model.Lasso(alpha=0.01, normalize=True)\n",
    "lasso_model.fit(X_transformed, y)  \n",
    "Y_lasso=lasso_model.predict(X_transformed)\n",
    "\n",
    "lasso_coef_ = lasso_model.coef_\n",
    "print(X_cols.shape)\n",
    "#print(X_cols)\n",
    "print(lasso_coef_.shape)\n",
    "print(np.round(lasso_coef_))\n",
    "#print(lasso_coef_)\n",
    "X_cols[np.abs(lasso_coef_)>10]\n",
    "\n",
    "sorted(zip(lasso_coef_, X_cols))"
   ]
  },
  {
   "cell_type": "code",
   "execution_count": null,
   "metadata": {},
   "outputs": [],
   "source": [
    "\"\"\"fracn_GRADES_12div8_G\n",
    "is not chosen by Lasso. RandomForest says it's #2 tho. Why?\n",
    "Plot.\n",
    "\"\"\"\n",
    "plt.figure(figsize=[7,7])\n",
    "x1=df1.loc[:,'fracn_GRADES_12div8_G'].values\n",
    "plt.plot(x1,y,'o')\n",
    "plt.plot(x1,Y_lasso, alpha=0.7)\n",
    "plt.legend((\"y\",\"fit_lasso\"),loc=(0.7,0.2))\n",
    "plt.xlabel(\"fracn_GRADES_12div8_G\")\n",
    "plt.ylabel(\"y\")"
   ]
  },
  {
   "cell_type": "code",
   "execution_count": null,
   "metadata": {},
   "outputs": [],
   "source": [
    "plt.figure(figsize=[20,10])\n",
    "\n",
    "plt.subplot(2, 2, 1)\n",
    "x1=df1.loc[:,'fracn_enroll_GRADES_12_G'].values\n",
    "print(y.shape,np.shape(lasso_coef_*X),x1.shape)\n",
    "plt.plot(x1,y,'o',x1,Y_lasso, alpha=0.7)\n",
    "plt.legend((\"y\",\"fit_lasso\"),loc=(0.7,0.2))\n",
    "plt.xlabel(\"fracn_enroll_GRADES_12_G\")\n",
    "plt.ylabel(\"y\")\n",
    "\n",
    "plt.subplot(2, 2, 2)\n",
    "x1=df1.loc[:,'fracn_enroll_GRADES_9_12_G'].values\n",
    "print(y.shape,np.shape(lasso_coef_*X),x1.shape)\n",
    "plt.plot(x1,y,'o',x1,Y_lasso, alpha=0.7)\n",
    "plt.legend((\"y\",\"fit_lasso\"),loc=(0.7,0.2))\n",
    "plt.xlabel(\"fracn_enroll_GRADES_9_12_G\")\n",
    "plt.ylabel(\"y\")\n",
    "\n",
    "plt.subplot(2, 2, 3)\n",
    "x1=df1.loc[:,'YEAR'].values\n",
    "print(y.shape,np.shape(lasso_coef_*X),x1.shape)\n",
    "plt.plot(x1,y,'o',x1,Y_lasso, alpha=0.7)\n",
    "plt.legend((\"y\",\"fit_lasso\"),loc=(0.7,0.2))\n",
    "plt.xlabel(\"YEAR\")\n",
    "plt.ylabel(\"y\")\n",
    "\n",
    "plt.subplot(2, 2, 4)\n",
    "x1=df1.loc[:,'STATE_DISTRICT_OF_COLUMBIA'].values\n",
    "print(y.shape,np.shape(lasso_coef_*X),x1.shape)\n",
    "plt.plot(x1,y,'o',x1,Y_lasso, alpha=0.7)\n",
    "plt.legend((\"y\",\"fit_lasso\"),loc=(0.7,0.2))\n",
    "plt.xlabel(\"STATE_DISTRICT_OF_COLUMBIA\")\n",
    "plt.ylabel(\"y\")"
   ]
  },
  {
   "cell_type": "code",
   "execution_count": null,
   "metadata": {},
   "outputs": [],
   "source": [
    "plt.figure(figsize=[15,10])\n",
    "\n",
    "plt.subplot(2, 2, 1)\n",
    "plt.plot(Y_lasso,y,'o',Y_lasso,line,Y_lasso,Y_lasso)\n",
    "plt.legend((\"y\",\"fit_lasso\",\"y=x\"),loc='best')\n",
    "plt.xlabel(\"Y_lasso\")\n",
    "plt.ylabel(\"y\")"
   ]
  },
  {
   "cell_type": "code",
   "execution_count": null,
   "metadata": {},
   "outputs": [],
   "source": [
    "# Generated linear fit\n",
    "slope, intercept, r_value, p_value, std_err = stats.linregress(Y_lasso,y)\n",
    "line = slope*Y_lasso+intercept\n",
    "\n",
    "#need to make analysis_df that has y,Y_lasso\n",
    "\n",
    "#Plot\n",
    "#grid=sns.JointGrid(x=Y_lasso,y=y)\n",
    "#g=grid.plot_joint(sns.scatterplot) #, hue='smoker'\n",
    "#sns.scatterplot(Y_lasso,line, ax=g.ax_marg_x, legend=False)\n",
    "#sns.lmplot(Y_lasso,Y_lasso,ax=g.ax_marg_x,legend=False)\n",
    "\n",
    "#plt.subplot(1,2,1)\n",
    "ax1 = sns.jointplot(x=Y_lasso,y=y,kind=\"kde\")\n",
    "#plt.subplot(1,2,2)\n",
    "ax2 = sns.jointplot(x=Y_lasso,y=y,kind=\"resid\")"
   ]
  },
  {
   "cell_type": "code",
   "execution_count": null,
   "metadata": {},
   "outputs": [],
   "source": [
    "\"\"\"The largest coefficients are\"\"\"\n",
    "X_cols[np.abs(lasso_coef_)>0.5]\n",
    "\"\"\". Plot them with fits.\"\"\"\n",
    "\n",
    "plt.plot(Y_svm, y, 'ro')(\"YEAR\", \"AVG_MATH_4_SCORE\", data=df, kind=\"reg\")\n",
    "sns.jointplot(\"YEAR\", \"AVG_MATH_4_SCORE\", data=df, kind=\"reg\")\n"
   ]
  },
  {
   "cell_type": "code",
   "execution_count": null,
   "metadata": {},
   "outputs": [],
   "source": []
  },
  {
   "cell_type": "code",
   "execution_count": null,
   "metadata": {},
   "outputs": [],
   "source": [
    "\"\"\"\n",
    "Can I predict test scores for a year?\n",
    "\n",
    "Handle time better. Time_series_split\n",
    "\n",
    "Time trends: \n",
    "-Scores\n",
    "-Populations\n",
    "-Revenues\n",
    "-Expenditures\n",
    "\n",
    "Delta from previous time point as feature?\n",
    "\n",
    "Features:\n",
    "-Elite? financials, location, \n",
    "-Good school? school history, tax rev, district\n",
    "-Trends in time? Deltas in time. more money, more students, higher scores, ...\n",
    "\n",
    "\n",
    "\"\"\""
   ]
  },
  {
   "cell_type": "code",
   "execution_count": null,
   "metadata": {},
   "outputs": [],
   "source": []
  }
 ],
 "metadata": {
  "kernelspec": {
   "display_name": "Python 3",
   "language": "python",
   "name": "python3"
  },
  "language_info": {
   "codemirror_mode": {
    "name": "ipython",
    "version": 3
   },
   "file_extension": ".py",
   "mimetype": "text/x-python",
   "name": "python",
   "nbconvert_exporter": "python",
   "pygments_lexer": "ipython3",
   "version": "3.7.3"
  }
 },
 "nbformat": 4,
 "nbformat_minor": 2
}
