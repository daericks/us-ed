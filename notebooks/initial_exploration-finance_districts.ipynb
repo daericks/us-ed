{
 "cells": [
  {
   "cell_type": "code",
   "execution_count": 1,
   "metadata": {},
   "outputs": [],
   "source": [
    "%matplotlib inline"
   ]
  },
  {
   "cell_type": "code",
   "execution_count": 2,
   "metadata": {},
   "outputs": [],
   "source": [
    "import numpy as np\n",
    "import pandas as pd\n",
    "import matplotlib.pyplot as plt\n",
    "import seaborn as sns\n",
    "from sklearn.ensemble import RandomForestRegressor"
   ]
  },
  {
   "cell_type": "code",
   "execution_count": 3,
   "metadata": {},
   "outputs": [],
   "source": [
    "df = pd.read_csv(\"/Users/daviderickson/projects/us-education-datasets-unification-project/data/us-education-datasets-unification-project/Aggregates/finance_districts.csv\")\n"
   ]
  },
  {
   "cell_type": "code",
   "execution_count": 4,
   "metadata": {},
   "outputs": [
    {
     "data": {
      "text/plain": [
       "(374161, 13)"
      ]
     },
     "execution_count": 4,
     "metadata": {},
     "output_type": "execute_result"
    }
   ],
   "source": [
    "df.shape"
   ]
  },
  {
   "cell_type": "code",
   "execution_count": 5,
   "metadata": {},
   "outputs": [
    {
     "data": {
      "text/plain": [
       "7483.22"
      ]
     },
     "execution_count": 5,
     "metadata": {},
     "output_type": "execute_result"
    }
   ],
   "source": [
    "np.sqrt(df.shape[0])\n",
    "df.shape[0]/50"
   ]
  },
  {
   "cell_type": "code",
   "execution_count": 6,
   "metadata": {},
   "outputs": [
    {
     "data": {
      "text/html": [
       "<div>\n",
       "<style scoped>\n",
       "    .dataframe tbody tr th:only-of-type {\n",
       "        vertical-align: middle;\n",
       "    }\n",
       "\n",
       "    .dataframe tbody tr th {\n",
       "        vertical-align: top;\n",
       "    }\n",
       "\n",
       "    .dataframe thead th {\n",
       "        text-align: right;\n",
       "    }\n",
       "</style>\n",
       "<table border=\"1\" class=\"dataframe\">\n",
       "  <thead>\n",
       "    <tr style=\"text-align: right;\">\n",
       "      <th></th>\n",
       "      <th>STATE</th>\n",
       "      <th>ENROLL</th>\n",
       "      <th>NAME</th>\n",
       "      <th>YRDATA</th>\n",
       "      <th>TOTALREV</th>\n",
       "      <th>TFEDREV</th>\n",
       "      <th>TSTREV</th>\n",
       "      <th>TLOCREV</th>\n",
       "      <th>TOTALEXP</th>\n",
       "      <th>TCURINST</th>\n",
       "      <th>TCURSSVC</th>\n",
       "      <th>TCURONON</th>\n",
       "      <th>TCAPOUT</th>\n",
       "    </tr>\n",
       "  </thead>\n",
       "  <tbody>\n",
       "    <tr>\n",
       "      <th>0</th>\n",
       "      <td>ALABAMA</td>\n",
       "      <td>9609.0</td>\n",
       "      <td>AUTAUGA COUNTY SCHOOL DISTRICT</td>\n",
       "      <td>2016</td>\n",
       "      <td>80867</td>\n",
       "      <td>7447</td>\n",
       "      <td>53842</td>\n",
       "      <td>19578</td>\n",
       "      <td>76672</td>\n",
       "      <td>43843</td>\n",
       "      <td>23941</td>\n",
       "      <td>6401.0</td>\n",
       "      <td>1506</td>\n",
       "    </tr>\n",
       "    <tr>\n",
       "      <th>1</th>\n",
       "      <td>ALABAMA</td>\n",
       "      <td>30931.0</td>\n",
       "      <td>BALDWIN COUNTY SCHOOL DISTRICT</td>\n",
       "      <td>2016</td>\n",
       "      <td>338236</td>\n",
       "      <td>23710</td>\n",
       "      <td>145180</td>\n",
       "      <td>169346</td>\n",
       "      <td>299880</td>\n",
       "      <td>164977</td>\n",
       "      <td>97231</td>\n",
       "      <td>19439.0</td>\n",
       "      <td>9749</td>\n",
       "    </tr>\n",
       "    <tr>\n",
       "      <th>2</th>\n",
       "      <td>ALABAMA</td>\n",
       "      <td>912.0</td>\n",
       "      <td>BARBOUR COUNTY SCHOOL DISTRICT</td>\n",
       "      <td>2016</td>\n",
       "      <td>10116</td>\n",
       "      <td>2342</td>\n",
       "      <td>5434</td>\n",
       "      <td>2340</td>\n",
       "      <td>10070</td>\n",
       "      <td>4907</td>\n",
       "      <td>3896</td>\n",
       "      <td>975.0</td>\n",
       "      <td>110</td>\n",
       "    </tr>\n",
       "    <tr>\n",
       "      <th>3</th>\n",
       "      <td>ALABAMA</td>\n",
       "      <td>2842.0</td>\n",
       "      <td>EUFAULA CITY SCHOOL DISTRICT</td>\n",
       "      <td>2016</td>\n",
       "      <td>26182</td>\n",
       "      <td>3558</td>\n",
       "      <td>15900</td>\n",
       "      <td>6724</td>\n",
       "      <td>29843</td>\n",
       "      <td>15302</td>\n",
       "      <td>7901</td>\n",
       "      <td>2274.0</td>\n",
       "      <td>4133</td>\n",
       "    </tr>\n",
       "    <tr>\n",
       "      <th>4</th>\n",
       "      <td>ALABAMA</td>\n",
       "      <td>3322.0</td>\n",
       "      <td>BIBB COUNTY SCHOOL DISTRICT</td>\n",
       "      <td>2016</td>\n",
       "      <td>32486</td>\n",
       "      <td>3664</td>\n",
       "      <td>21846</td>\n",
       "      <td>6976</td>\n",
       "      <td>31662</td>\n",
       "      <td>16407</td>\n",
       "      <td>11087</td>\n",
       "      <td>3122.0</td>\n",
       "      <td>486</td>\n",
       "    </tr>\n",
       "  </tbody>\n",
       "</table>\n",
       "</div>"
      ],
      "text/plain": [
       "     STATE   ENROLL                            NAME  YRDATA  TOTALREV  \\\n",
       "0  ALABAMA   9609.0  AUTAUGA COUNTY SCHOOL DISTRICT    2016     80867   \n",
       "1  ALABAMA  30931.0  BALDWIN COUNTY SCHOOL DISTRICT    2016    338236   \n",
       "2  ALABAMA    912.0  BARBOUR COUNTY SCHOOL DISTRICT    2016     10116   \n",
       "3  ALABAMA   2842.0    EUFAULA CITY SCHOOL DISTRICT    2016     26182   \n",
       "4  ALABAMA   3322.0     BIBB COUNTY SCHOOL DISTRICT    2016     32486   \n",
       "\n",
       "   TFEDREV  TSTREV  TLOCREV  TOTALEXP  TCURINST  TCURSSVC  TCURONON  TCAPOUT  \n",
       "0     7447   53842    19578     76672     43843     23941    6401.0     1506  \n",
       "1    23710  145180   169346    299880    164977     97231   19439.0     9749  \n",
       "2     2342    5434     2340     10070      4907      3896     975.0      110  \n",
       "3     3558   15900     6724     29843     15302      7901    2274.0     4133  \n",
       "4     3664   21846     6976     31662     16407     11087    3122.0      486  "
      ]
     },
     "execution_count": 6,
     "metadata": {},
     "output_type": "execute_result"
    }
   ],
   "source": [
    "df.head(5)"
   ]
  },
  {
   "cell_type": "code",
   "execution_count": 7,
   "metadata": {},
   "outputs": [
    {
     "data": {
      "text/plain": [
       "['STATE',\n",
       " 'ENROLL',\n",
       " 'NAME',\n",
       " 'YRDATA',\n",
       " 'TOTALREV',\n",
       " 'TFEDREV',\n",
       " 'TSTREV',\n",
       " 'TLOCREV',\n",
       " 'TOTALEXP',\n",
       " 'TCURINST',\n",
       " 'TCURSSVC',\n",
       " 'TCURONON',\n",
       " 'TCAPOUT']"
      ]
     },
     "execution_count": 7,
     "metadata": {},
     "output_type": "execute_result"
    }
   ],
   "source": [
    "df.columns.tolist()"
   ]
  },
  {
   "cell_type": "code",
   "execution_count": 11,
   "metadata": {},
   "outputs": [
    {
     "data": {
      "text/plain": [
       "1992"
      ]
     },
     "execution_count": 11,
     "metadata": {},
     "output_type": "execute_result"
    }
   ],
   "source": [
    "df['YRDATA'].min()"
   ]
  },
  {
   "cell_type": "code",
   "execution_count": null,
   "metadata": {},
   "outputs": [],
   "source": [
    "\"\"\"\n",
    "This data can be used to construct district-level data to be fed into the state-level data \n",
    "and used to predict academic performance. \n",
    "\n",
    "Interesting features: \n",
    "-Median revenue\n",
    "-Inequality measures\n",
    "-Fracn in wealthy, middle class, low-income districts\n",
    "\"\"\""
   ]
  },
  {
   "cell_type": "code",
   "execution_count": null,
   "metadata": {},
   "outputs": [],
   "source": []
  },
  {
   "cell_type": "code",
   "execution_count": null,
   "metadata": {},
   "outputs": [],
   "source": []
  },
  {
   "cell_type": "code",
   "execution_count": null,
   "metadata": {},
   "outputs": [],
   "source": []
  },
  {
   "cell_type": "code",
   "execution_count": null,
   "metadata": {},
   "outputs": [],
   "source": []
  },
  {
   "cell_type": "code",
   "execution_count": null,
   "metadata": {},
   "outputs": [],
   "source": []
  },
  {
   "cell_type": "code",
   "execution_count": 9,
   "metadata": {},
   "outputs": [],
   "source": [
    "#sns.pairplot(df, kind='scatter')"
   ]
  },
  {
   "cell_type": "code",
   "execution_count": 10,
   "metadata": {},
   "outputs": [
    {
     "name": "stdout",
     "output_type": "stream",
     "text": [
      "(11, 11)\n"
     ]
    },
    {
     "data": {
      "text/plain": [
       "<matplotlib.axes._subplots.AxesSubplot at 0x1a24169518>"
      ]
     },
     "execution_count": 10,
     "metadata": {},
     "output_type": "execute_result"
    },
    {
     "data": {
      "image/png": "[encoded data removed]",
      "text/plain": [
       "<Figure size 576x432 with 2 Axes>"
      ]
     },
     "metadata": {
      "needs_background": "light"
     },
     "output_type": "display_data"
    }
   ],
   "source": [
    "corr = df.corr()\n",
    "print(corr.shape)\n",
    "fig, ax = plt.subplots(figsize=(8, 6))\n",
    "sns.heatmap(corr)"
   ]
  },
  {
   "cell_type": "code",
   "execution_count": null,
   "metadata": {},
   "outputs": [],
   "source": []
  },
  {
   "cell_type": "code",
   "execution_count": null,
   "metadata": {},
   "outputs": [],
   "source": []
  }
 ],
 "metadata": {
  "kernelspec": {
   "display_name": "Python 3",
   "language": "python",
   "name": "python3"
  },
  "language_info": {
   "codemirror_mode": {
    "name": "ipython",
    "version": 3
   },
   "file_extension": ".py",
   "mimetype": "text/x-python",
   "name": "python",
   "nbconvert_exporter": "python",
   "pygments_lexer": "ipython3",
   "version": "3.7.3"
  }
 },
 "nbformat": 4,
 "nbformat_minor": 2
}
