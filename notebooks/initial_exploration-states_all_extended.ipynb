{
 "cells": [
  {
   "cell_type": "code",
   "execution_count": 1,
   "metadata": {},
   "outputs": [],
   "source": [
    "%matplotlib inline"
   ]
  },
  {
   "cell_type": "code",
   "execution_count": 2,
   "metadata": {},
   "outputs": [],
   "source": [
    "import numpy as np\n",
    "import pandas as pd\n",
    "import matplotlib.pyplot as plt\n",
    "import seaborn as sns\n",
    "from sklearn.ensemble import RandomForestRegressor"
   ]
  },
  {
   "cell_type": "code",
   "execution_count": 3,
   "metadata": {},
   "outputs": [],
   "source": [
    "df = pd.read_csv(\"~/projects/us-education-datasets-unification-project/data/us-education-datasets-unification-project/states_all_extended.csv\")"
   ]
  },
  {
   "cell_type": "code",
   "execution_count": 4,
   "metadata": {},
   "outputs": [
    {
     "data": {
      "text/plain": [
       "(1492, 193)"
      ]
     },
     "execution_count": 4,
     "metadata": {},
     "output_type": "execute_result"
    }
   ],
   "source": [
    "df.shape"
   ]
  },
  {
   "cell_type": "code",
   "execution_count": 5,
   "metadata": {},
   "outputs": [
    {
     "data": {
      "text/plain": [
       "29.84"
      ]
     },
     "execution_count": 5,
     "metadata": {},
     "output_type": "execute_result"
    }
   ],
   "source": [
    "np.sqrt(df.shape[0])\n",
    "df.shape[0]/50"
   ]
  },
  {
   "cell_type": "code",
   "execution_count": 6,
   "metadata": {},
   "outputs": [
    {
     "data": {
      "text/html": [
       "<div>\n",
       "<style scoped>\n",
       "    .dataframe tbody tr th:only-of-type {\n",
       "        vertical-align: middle;\n",
       "    }\n",
       "\n",
       "    .dataframe tbody tr th {\n",
       "        vertical-align: top;\n",
       "    }\n",
       "\n",
       "    .dataframe thead th {\n",
       "        text-align: right;\n",
       "    }\n",
       "</style>\n",
       "<table border=\"1\" class=\"dataframe\">\n",
       "  <thead>\n",
       "    <tr style=\"text-align: right;\">\n",
       "      <th></th>\n",
       "      <th>PRIMARY_KEY</th>\n",
       "      <th>STATE</th>\n",
       "      <th>YEAR</th>\n",
       "      <th>ENROLL</th>\n",
       "      <th>TOTAL_REVENUE</th>\n",
       "      <th>FEDERAL_REVENUE</th>\n",
       "      <th>STATE_REVENUE</th>\n",
       "      <th>LOCAL_REVENUE</th>\n",
       "      <th>TOTAL_EXPENDITURE</th>\n",
       "      <th>INSTRUCTION_EXPENDITURE</th>\n",
       "      <th>...</th>\n",
       "      <th>GRADES_4_TRF</th>\n",
       "      <th>GRADES_8_TRF</th>\n",
       "      <th>GRADES_12_TRF</th>\n",
       "      <th>GRADES_1_8_TRF</th>\n",
       "      <th>GRADES_9_12_TRF</th>\n",
       "      <th>GRADES_ALL_TRF</th>\n",
       "      <th>AVG_MATH_4_SCORE</th>\n",
       "      <th>AVG_MATH_8_SCORE</th>\n",
       "      <th>AVG_READING_4_SCORE</th>\n",
       "      <th>AVG_READING_8_SCORE</th>\n",
       "    </tr>\n",
       "  </thead>\n",
       "  <tbody>\n",
       "    <tr>\n",
       "      <th>0</th>\n",
       "      <td>1992_ALABAMA</td>\n",
       "      <td>ALABAMA</td>\n",
       "      <td>1992</td>\n",
       "      <td>NaN</td>\n",
       "      <td>2678885.0</td>\n",
       "      <td>304177.0</td>\n",
       "      <td>1659028.0</td>\n",
       "      <td>715680.0</td>\n",
       "      <td>2653798.0</td>\n",
       "      <td>1481703.0</td>\n",
       "      <td>...</td>\n",
       "      <td>NaN</td>\n",
       "      <td>NaN</td>\n",
       "      <td>NaN</td>\n",
       "      <td>NaN</td>\n",
       "      <td>NaN</td>\n",
       "      <td>NaN</td>\n",
       "      <td>208.327876</td>\n",
       "      <td>252.187522</td>\n",
       "      <td>207.963517</td>\n",
       "      <td>NaN</td>\n",
       "    </tr>\n",
       "    <tr>\n",
       "      <th>1</th>\n",
       "      <td>1992_ALASKA</td>\n",
       "      <td>ALASKA</td>\n",
       "      <td>1992</td>\n",
       "      <td>NaN</td>\n",
       "      <td>1049591.0</td>\n",
       "      <td>106780.0</td>\n",
       "      <td>720711.0</td>\n",
       "      <td>222100.0</td>\n",
       "      <td>972488.0</td>\n",
       "      <td>498362.0</td>\n",
       "      <td>...</td>\n",
       "      <td>NaN</td>\n",
       "      <td>NaN</td>\n",
       "      <td>NaN</td>\n",
       "      <td>NaN</td>\n",
       "      <td>NaN</td>\n",
       "      <td>NaN</td>\n",
       "      <td>NaN</td>\n",
       "      <td>NaN</td>\n",
       "      <td>NaN</td>\n",
       "      <td>258.859712</td>\n",
       "    </tr>\n",
       "    <tr>\n",
       "      <th>2</th>\n",
       "      <td>1992_ARIZONA</td>\n",
       "      <td>ARIZONA</td>\n",
       "      <td>1992</td>\n",
       "      <td>NaN</td>\n",
       "      <td>3258079.0</td>\n",
       "      <td>297888.0</td>\n",
       "      <td>1369815.0</td>\n",
       "      <td>1590376.0</td>\n",
       "      <td>3401580.0</td>\n",
       "      <td>1435908.0</td>\n",
       "      <td>...</td>\n",
       "      <td>NaN</td>\n",
       "      <td>NaN</td>\n",
       "      <td>NaN</td>\n",
       "      <td>NaN</td>\n",
       "      <td>NaN</td>\n",
       "      <td>NaN</td>\n",
       "      <td>215.253932</td>\n",
       "      <td>265.366278</td>\n",
       "      <td>206.212716</td>\n",
       "      <td>262.169895</td>\n",
       "    </tr>\n",
       "    <tr>\n",
       "      <th>3</th>\n",
       "      <td>1992_ARKANSAS</td>\n",
       "      <td>ARKANSAS</td>\n",
       "      <td>1992</td>\n",
       "      <td>NaN</td>\n",
       "      <td>1711959.0</td>\n",
       "      <td>178571.0</td>\n",
       "      <td>958785.0</td>\n",
       "      <td>574603.0</td>\n",
       "      <td>1743022.0</td>\n",
       "      <td>964323.0</td>\n",
       "      <td>...</td>\n",
       "      <td>NaN</td>\n",
       "      <td>NaN</td>\n",
       "      <td>NaN</td>\n",
       "      <td>NaN</td>\n",
       "      <td>NaN</td>\n",
       "      <td>NaN</td>\n",
       "      <td>210.206028</td>\n",
       "      <td>256.312090</td>\n",
       "      <td>208.634458</td>\n",
       "      <td>264.619665</td>\n",
       "    </tr>\n",
       "    <tr>\n",
       "      <th>4</th>\n",
       "      <td>1992_CALIFORNIA</td>\n",
       "      <td>CALIFORNIA</td>\n",
       "      <td>1992</td>\n",
       "      <td>NaN</td>\n",
       "      <td>26260025.0</td>\n",
       "      <td>2072470.0</td>\n",
       "      <td>16546514.0</td>\n",
       "      <td>7641041.0</td>\n",
       "      <td>27138832.0</td>\n",
       "      <td>14358922.0</td>\n",
       "      <td>...</td>\n",
       "      <td>NaN</td>\n",
       "      <td>NaN</td>\n",
       "      <td>NaN</td>\n",
       "      <td>NaN</td>\n",
       "      <td>NaN</td>\n",
       "      <td>NaN</td>\n",
       "      <td>208.398961</td>\n",
       "      <td>260.892247</td>\n",
       "      <td>196.764414</td>\n",
       "      <td>NaN</td>\n",
       "    </tr>\n",
       "  </tbody>\n",
       "</table>\n",
       "<p>5 rows × 193 columns</p>\n",
       "</div>"
      ],
      "text/plain": [
       "       PRIMARY_KEY       STATE  YEAR  ENROLL  TOTAL_REVENUE  FEDERAL_REVENUE  \\\n",
       "0     1992_ALABAMA     ALABAMA  1992     NaN      2678885.0         304177.0   \n",
       "1      1992_ALASKA      ALASKA  1992     NaN      1049591.0         106780.0   \n",
       "2     1992_ARIZONA     ARIZONA  1992     NaN      3258079.0         297888.0   \n",
       "3    1992_ARKANSAS    ARKANSAS  1992     NaN      1711959.0         178571.0   \n",
       "4  1992_CALIFORNIA  CALIFORNIA  1992     NaN     26260025.0        2072470.0   \n",
       "\n",
       "   STATE_REVENUE  LOCAL_REVENUE  TOTAL_EXPENDITURE  INSTRUCTION_EXPENDITURE  \\\n",
       "0      1659028.0       715680.0          2653798.0                1481703.0   \n",
       "1       720711.0       222100.0           972488.0                 498362.0   \n",
       "2      1369815.0      1590376.0          3401580.0                1435908.0   \n",
       "3       958785.0       574603.0          1743022.0                 964323.0   \n",
       "4     16546514.0      7641041.0         27138832.0               14358922.0   \n",
       "\n",
       "   ...  GRADES_4_TRF  GRADES_8_TRF  GRADES_12_TRF  GRADES_1_8_TRF  \\\n",
       "0  ...           NaN           NaN            NaN             NaN   \n",
       "1  ...           NaN           NaN            NaN             NaN   \n",
       "2  ...           NaN           NaN            NaN             NaN   \n",
       "3  ...           NaN           NaN            NaN             NaN   \n",
       "4  ...           NaN           NaN            NaN             NaN   \n",
       "\n",
       "   GRADES_9_12_TRF  GRADES_ALL_TRF  AVG_MATH_4_SCORE  AVG_MATH_8_SCORE  \\\n",
       "0              NaN             NaN        208.327876        252.187522   \n",
       "1              NaN             NaN               NaN               NaN   \n",
       "2              NaN             NaN        215.253932        265.366278   \n",
       "3              NaN             NaN        210.206028        256.312090   \n",
       "4              NaN             NaN        208.398961        260.892247   \n",
       "\n",
       "   AVG_READING_4_SCORE  AVG_READING_8_SCORE  \n",
       "0           207.963517                  NaN  \n",
       "1                  NaN           258.859712  \n",
       "2           206.212716           262.169895  \n",
       "3           208.634458           264.619665  \n",
       "4           196.764414                  NaN  \n",
       "\n",
       "[5 rows x 193 columns]"
      ]
     },
     "execution_count": 6,
     "metadata": {},
     "output_type": "execute_result"
    }
   ],
   "source": [
    "df.head(5)"
   ]
  },
  {
   "cell_type": "code",
   "execution_count": 7,
   "metadata": {},
   "outputs": [
    {
     "data": {
      "text/plain": [
       "['PRIMARY_KEY',\n",
       " 'STATE',\n",
       " 'YEAR',\n",
       " 'ENROLL',\n",
       " 'TOTAL_REVENUE',\n",
       " 'FEDERAL_REVENUE',\n",
       " 'STATE_REVENUE',\n",
       " 'LOCAL_REVENUE',\n",
       " 'TOTAL_EXPENDITURE',\n",
       " 'INSTRUCTION_EXPENDITURE',\n",
       " 'SUPPORT_SERVICES_EXPENDITURE',\n",
       " 'OTHER_EXPENDITURE',\n",
       " 'CAPITAL_OUTLAY_EXPENDITURE',\n",
       " 'GRADES_PK_G',\n",
       " 'GRADES_KG_G',\n",
       " 'GRADES_4_G',\n",
       " 'GRADES_8_G',\n",
       " 'GRADES_12_G',\n",
       " 'GRADES_1_8_G',\n",
       " 'GRADES_9_12_G',\n",
       " 'GRADES_ALL_G',\n",
       " 'GRADES_PK_AM',\n",
       " 'GRADES_KG_AM',\n",
       " 'GRADES_4_AM',\n",
       " 'GRADES_8_AM',\n",
       " 'GRADES_12_AM',\n",
       " 'GRADES_1_8_AM',\n",
       " 'GRADES_9_12_AM',\n",
       " 'GRADES_ALL_AM',\n",
       " 'GRADES_PK_AS',\n",
       " 'GRADES_KG_AS',\n",
       " 'GRADES_4_AS',\n",
       " 'GRADES_8_AS',\n",
       " 'GRADES_12_AS',\n",
       " 'GRADES_1_8_AS',\n",
       " 'GRADES_9_12_AS',\n",
       " 'GRADES_ALL_AS',\n",
       " 'GRADES_PK_HI',\n",
       " 'GRADES_KG_HI',\n",
       " 'GRADES_4_HI',\n",
       " 'GRADES_8_HI',\n",
       " 'GRADES_12_HI',\n",
       " 'GRADES_1_8_HI',\n",
       " 'GRADES_9_12_HI',\n",
       " 'GRADES_ALL_HI',\n",
       " 'GRADES_PK_BL',\n",
       " 'GRADES_KG_BL',\n",
       " 'GRADES_4_BL',\n",
       " 'GRADES_8_BL',\n",
       " 'GRADES_12_BL',\n",
       " 'GRADES_1_8_BL',\n",
       " 'GRADES_9_12_BL',\n",
       " 'GRADES_ALL_BL',\n",
       " 'GRADES_PK_WH',\n",
       " 'GRADES_KG_WH',\n",
       " 'GRADES_4_WH',\n",
       " 'GRADES_8_WH',\n",
       " 'GRADES_12_WH',\n",
       " 'GRADES_1_8_WH',\n",
       " 'GRADES_9_12_WH',\n",
       " 'GRADES_ALL_WH',\n",
       " 'GRADES_PK_HP',\n",
       " 'GRADES_KG_HP',\n",
       " 'GRADES_4_HP',\n",
       " 'GRADES_8_HP',\n",
       " 'GRADES_12_HP',\n",
       " 'GRADES_1_8_HP',\n",
       " 'GRADES_9_12_HP',\n",
       " 'GRADES_ALL_HP',\n",
       " 'GRADES_PK_TR',\n",
       " 'GRADES_KG_TR',\n",
       " 'GRADES_4_TR',\n",
       " 'GRADES_8_TR',\n",
       " 'GRADES_12_TR',\n",
       " 'GRADES_1_8_TR',\n",
       " 'GRADES_9_12_TR',\n",
       " 'GRADES_ALL_TR',\n",
       " 'GRADES_PK_AMM',\n",
       " 'GRADES_KG_AMM',\n",
       " 'GRADES_4_AMM',\n",
       " 'GRADES_8_AMM',\n",
       " 'GRADES_12_AMM',\n",
       " 'GRADES_1_8_AMM',\n",
       " 'GRADES_9_12_AMM',\n",
       " 'GRADES_ALL_AMM',\n",
       " 'GRADES_PK_AMF',\n",
       " 'GRADES_KG_AMF',\n",
       " 'GRADES_4_AMF',\n",
       " 'GRADES_8_AMF',\n",
       " 'GRADES_12_AMF',\n",
       " 'GRADES_1_8_AMF',\n",
       " 'GRADES_9_12_AMF',\n",
       " 'GRADES_ALL_AMF',\n",
       " 'GRADES_PK_ASM',\n",
       " 'GRADES_KG_ASM',\n",
       " 'GRADES_4_ASM',\n",
       " 'GRADES_8_ASM',\n",
       " 'GRADES_12_ASM',\n",
       " 'GRADES_1_8_ASM',\n",
       " 'GRADES_9_12_ASM',\n",
       " 'GRADES_ALL_ASM',\n",
       " 'GRADES_PK_ASF',\n",
       " 'GRADES_KG_ASF',\n",
       " 'GRADES_4_ASF',\n",
       " 'GRADES_8_ASF',\n",
       " 'GRADES_12_ASF',\n",
       " 'GRADES_1_8_ASF',\n",
       " 'GRADES_9_12_ASF',\n",
       " 'GRADES_ALL_ASF',\n",
       " 'GRADES_PK_HIM',\n",
       " 'GRADES_KG_HIM',\n",
       " 'GRADES_4_HIM',\n",
       " 'GRADES_8_HIM',\n",
       " 'GRADES_12_HIM',\n",
       " 'GRADES_1_8_HIM',\n",
       " 'GRADES_9_12_HIM',\n",
       " 'GRADES_ALL_HIM',\n",
       " 'GRADES_PK_HIF',\n",
       " 'GRADES_KG_HIF',\n",
       " 'GRADES_4_HIF',\n",
       " 'GRADES_8_HIF',\n",
       " 'GRADES_12_HIF',\n",
       " 'GRADES_1_8_HIF',\n",
       " 'GRADES_9_12_HIF',\n",
       " 'GRADES_ALL_HIF',\n",
       " 'GRADES_PK_BLM',\n",
       " 'GRADES_KG_BLM',\n",
       " 'GRADES_4_BLM',\n",
       " 'GRADES_8_BLM',\n",
       " 'GRADES_12_BLM',\n",
       " 'GRADES_1_8_BLM',\n",
       " 'GRADES_9_12_BLM',\n",
       " 'GRADES_ALL_BLM',\n",
       " 'GRADES_PK_BLF',\n",
       " 'GRADES_KG_BLF',\n",
       " 'GRADES_4_BLF',\n",
       " 'GRADES_8_BLF',\n",
       " 'GRADES_12_BLF',\n",
       " 'GRADES_1_8_BLF',\n",
       " 'GRADES_9_12_BLF',\n",
       " 'GRADES_ALL_BLF',\n",
       " 'GRADES_PK_WHM',\n",
       " 'GRADES_KG_WHM',\n",
       " 'GRADES_4_WHM',\n",
       " 'GRADES_8_WHM',\n",
       " 'GRADES_12_WHM',\n",
       " 'GRADES_1_8_WHM',\n",
       " 'GRADES_9_12_WHM',\n",
       " 'GRADES_ALL_WHM',\n",
       " 'GRADES_PK_WHF',\n",
       " 'GRADES_KG_WHF',\n",
       " 'GRADES_4_WHF',\n",
       " 'GRADES_8_WHF',\n",
       " 'GRADES_12_WHF',\n",
       " 'GRADES_1_8_WHF',\n",
       " 'GRADES_9_12_WHF',\n",
       " 'GRADES_ALL_WHF',\n",
       " 'GRADES_PK_HPM',\n",
       " 'GRADES_KG_HPM',\n",
       " 'GRADES_4_HPM',\n",
       " 'GRADES_8_HPM',\n",
       " 'GRADES_12_HPM',\n",
       " 'GRADES_1_8_HPM',\n",
       " 'GRADES_9_12_HPM',\n",
       " 'GRADES_ALL_HPM',\n",
       " 'GRADES_PK_HPF',\n",
       " 'GRADES_KG_HPF',\n",
       " 'GRADES_4_HPF',\n",
       " 'GRADES_8_HPF',\n",
       " 'GRADES_12_HPF',\n",
       " 'GRADES_1_8_HPF',\n",
       " 'GRADES_9_12_HPF',\n",
       " 'GRADES_ALL_HPF',\n",
       " 'GRADES_PK_TRM',\n",
       " 'GRADES_KG_TRM',\n",
       " 'GRADES_4_TRM',\n",
       " 'GRADES_8_TRM',\n",
       " 'GRADES_12_TRM',\n",
       " 'GRADES_1_8_TRM',\n",
       " 'GRADES_9_12_TRM',\n",
       " 'GRADES_ALL_TRM',\n",
       " 'GRADES_PK_TRF',\n",
       " 'GRADES_KG_TRF',\n",
       " 'GRADES_4_TRF',\n",
       " 'GRADES_8_TRF',\n",
       " 'GRADES_12_TRF',\n",
       " 'GRADES_1_8_TRF',\n",
       " 'GRADES_9_12_TRF',\n",
       " 'GRADES_ALL_TRF',\n",
       " 'AVG_MATH_4_SCORE',\n",
       " 'AVG_MATH_8_SCORE',\n",
       " 'AVG_READING_4_SCORE',\n",
       " 'AVG_READING_8_SCORE']"
      ]
     },
     "execution_count": 7,
     "metadata": {},
     "output_type": "execute_result"
    }
   ],
   "source": [
    "df.columns.tolist()"
   ]
  },
  {
   "cell_type": "code",
   "execution_count": 8,
   "metadata": {},
   "outputs": [],
   "source": [
    "df['avg_local_revenue']=df['LOCAL_REVENUE']/df['GRADES_ALL_G']\n",
    "df['avg_instruction_expenditure'] = df['INSTRUCTION_EXPENDITURE'] / df['GRADES_ALL_G']\n",
    "df['fracn_schoolage'] = df['ENROLL']/ df['GRADES_ALL_G']"
   ]
  },
  {
   "cell_type": "code",
   "execution_count": null,
   "metadata": {},
   "outputs": [],
   "source": [
    "#sns.pairplot(df)"
   ]
  },
  {
   "cell_type": "code",
   "execution_count": null,
   "metadata": {},
   "outputs": [],
   "source": [
    "corr = df.corr()\n",
    "print(corr.shape)\n",
    "fig, ax = plt.subplots(figsize=(8, 6))\n",
    "sns.heatmap(corr)"
   ]
  },
  {
   "cell_type": "code",
   "execution_count": null,
   "metadata": {},
   "outputs": [],
   "source": [
    "sns.distplot(df['avg_instruction_expenditure'].dropna())"
   ]
  },
  {
   "cell_type": "code",
   "execution_count": null,
   "metadata": {},
   "outputs": [],
   "source": [
    "sns.jointplot(\"YEAR\", \"AVG_MATH_4_SCORE\", data=df, kind=\"reg\")\n",
    "sns.jointplot(\"YEAR\", \"AVG_READING_4_SCORE\", data=df, kind=\"reg\")"
   ]
  },
  {
   "cell_type": "code",
   "execution_count": null,
   "metadata": {},
   "outputs": [],
   "source": [
    "sns.jointplot(\"avg_local_revenue\", \"AVG_READING_4_SCORE\", data=df, kind=\"reg\")"
   ]
  },
  {
   "cell_type": "code",
   "execution_count": null,
   "metadata": {},
   "outputs": [],
   "source": [
    "sns.jointplot(\"avg_instruction_expenditure\", \"AVG_MATH_4_SCORE\", data=df, kind=\"reg\")"
   ]
  },
  {
   "cell_type": "code",
   "execution_count": null,
   "metadata": {},
   "outputs": [],
   "source": [
    "sns.jointplot(\"AVG_READING_4_SCORE\", \"AVG_MATH_4_SCORE\", data=df, kind=\"reg\")"
   ]
  },
  {
   "cell_type": "code",
   "execution_count": null,
   "metadata": {},
   "outputs": [],
   "source": [
    "sns.jointplot(\"AVG_MATH_8_SCORE\", \"AVG_MATH_4_SCORE\", data=df, kind=\"reg\")"
   ]
  },
  {
   "cell_type": "code",
   "execution_count": null,
   "metadata": {},
   "outputs": [],
   "source": [
    "df1=df.drop(['PRIMARY_KEY','AVG_MATH_8_SCORE','AVG_READING_4_SCORE','AVG_READING_8_SCORE','ENROLL'],axis=1)\n",
    "df1 = df1.dropna()\n",
    "df1 = pd.get_dummies(df1, columns=['STATE'])\n",
    "\n",
    "y=df1.loc[:,'AVG_MATH_4_SCORE'].values\n",
    "X=df1.drop(['AVG_MATH_4_SCORE'],axis=1).loc[:,:].values"
   ]
  },
  {
   "cell_type": "code",
   "execution_count": null,
   "metadata": {},
   "outputs": [],
   "source": [
    "rf_model = RandomForestRegressor(n_estimators=100)\n",
    "rf_model.fit(X, y)  "
   ]
  },
  {
   "cell_type": "code",
   "execution_count": null,
   "metadata": {},
   "outputs": [],
   "source": [
    "Y_rf=rf_model.predict(X)\n",
    "plt.plot(Y_rf, y, 'ro')\n",
    "plt.show()"
   ]
  },
  {
   "cell_type": "code",
   "execution_count": null,
   "metadata": {},
   "outputs": [],
   "source": [
    "feature_importances_rf = pd.DataFrame(rf_model.feature_importances_, index = df1.drop(['AVG_MATH_4_SCORE'],axis=1).columns, columns=['importance']).sort_values('importance',ascending=False)\n",
    "feature_importances_rf.head(10)"
   ]
  },
  {
   "cell_type": "code",
   "execution_count": null,
   "metadata": {},
   "outputs": [],
   "source": [
    "feature_importances_rf.tail(10)"
   ]
  },
  {
   "cell_type": "code",
   "execution_count": null,
   "metadata": {},
   "outputs": [],
   "source": [
    "from sklearn import svm\n",
    "svm_model = svm.SVR(gamma='scale')\n",
    "svm_model.fit(X, y)  "
   ]
  },
  {
   "cell_type": "code",
   "execution_count": null,
   "metadata": {},
   "outputs": [],
   "source": [
    "Y_rf=svm_model.predict(X)\n",
    "plt.plot(Y_rf, y, 'ro')\n",
    "plt.show()"
   ]
  },
  {
   "cell_type": "code",
   "execution_count": null,
   "metadata": {},
   "outputs": [],
   "source": []
  }
 ],
 "metadata": {
  "kernelspec": {
   "display_name": "Python 3",
   "language": "python",
   "name": "python3"
  },
  "language_info": {
   "codemirror_mode": {
    "name": "ipython",
    "version": 3
   },
   "file_extension": ".py",
   "mimetype": "text/x-python",
   "name": "python",
   "nbconvert_exporter": "python",
   "pygments_lexer": "ipython3",
   "version": "3.7.3"
  }
 },
 "nbformat": 4,
 "nbformat_minor": 2
}
