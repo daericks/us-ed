{
 "cells": [
  {
   "cell_type": "code",
   "execution_count": 1,
   "metadata": {},
   "outputs": [],
   "source": [
    "%matplotlib inline"
   ]
  },
  {
   "cell_type": "code",
   "execution_count": 2,
   "metadata": {},
   "outputs": [],
   "source": [
    "import numpy as np\n",
    "from scipy import stats\n",
    "import pandas as pd\n",
    "import matplotlib.pyplot as plt\n",
    "import seaborn as sns\n",
    "from sklearn import linear_model\n",
    "from sklearn.preprocessing import StandardScaler\n",
    "from sklearn.ensemble import RandomForestRegressor\n",
    "from sklearn.model_selection import TimeSeriesSplit, GridSearchCV, learning_curve, validation_curve"
   ]
  },
  {
   "cell_type": "code",
   "execution_count": 3,
   "metadata": {},
   "outputs": [],
   "source": [
    "df = pd.read_csv(\"~/projects/us-education-datasets-unification-project/data/us-education-datasets-unification-project/states_all.csv\")\n",
    "df_orig = df.copy()"
   ]
  },
  {
   "cell_type": "code",
   "execution_count": 4,
   "metadata": {},
   "outputs": [
    {
     "data": {
      "text/plain": [
       "(1492, 25)"
      ]
     },
     "execution_count": 4,
     "metadata": {},
     "output_type": "execute_result"
    }
   ],
   "source": [
    "df.shape"
   ]
  },
  {
   "cell_type": "code",
   "execution_count": 5,
   "metadata": {},
   "outputs": [
    {
     "name": "stdout",
     "output_type": "stream",
     "text": [
      "THERE ARE OUTLIERS PRESENT THAT NEED TO BE REMOVED\n",
      "There are: \n",
      "9 duplicated PRIMARY_KEY s\n",
      "Unique duplicated keys: \n",
      " ['2008_DISTRICT_OF_COLUMBIA' '2008_VIRGINIA' '2009_DISTRICT_OF_COLUMBIA'\n",
      " '2010_DISTRICT_OF_COLUMBIA']\n"
     ]
    },
    {
     "data": {
      "text/html": [
       "<div>\n",
       "<style scoped>\n",
       "    .dataframe tbody tr th:only-of-type {\n",
       "        vertical-align: middle;\n",
       "    }\n",
       "\n",
       "    .dataframe tbody tr th {\n",
       "        vertical-align: top;\n",
       "    }\n",
       "\n",
       "    .dataframe thead th {\n",
       "        text-align: right;\n",
       "    }\n",
       "</style>\n",
       "<table border=\"1\" class=\"dataframe\">\n",
       "  <thead>\n",
       "    <tr style=\"text-align: right;\">\n",
       "      <th></th>\n",
       "      <th>PRIMARY_KEY</th>\n",
       "      <th>STATE</th>\n",
       "      <th>YEAR</th>\n",
       "      <th>ENROLL</th>\n",
       "      <th>TOTAL_REVENUE</th>\n",
       "      <th>FEDERAL_REVENUE</th>\n",
       "      <th>STATE_REVENUE</th>\n",
       "      <th>LOCAL_REVENUE</th>\n",
       "      <th>TOTAL_EXPENDITURE</th>\n",
       "      <th>INSTRUCTION_EXPENDITURE</th>\n",
       "      <th>...</th>\n",
       "      <th>GRADES_4_G</th>\n",
       "      <th>GRADES_8_G</th>\n",
       "      <th>GRADES_12_G</th>\n",
       "      <th>GRADES_1_8_G</th>\n",
       "      <th>GRADES_9_12_G</th>\n",
       "      <th>GRADES_ALL_G</th>\n",
       "      <th>AVG_MATH_4_SCORE</th>\n",
       "      <th>AVG_MATH_8_SCORE</th>\n",
       "      <th>AVG_READING_4_SCORE</th>\n",
       "      <th>AVG_READING_8_SCORE</th>\n",
       "    </tr>\n",
       "  </thead>\n",
       "  <tbody>\n",
       "    <tr>\n",
       "      <th>824</th>\n",
       "      <td>2008_DISTRICT_OF_COLUMBIA</td>\n",
       "      <td>DISTRICT_OF_COLUMBIA</td>\n",
       "      <td>2008</td>\n",
       "      <td>58191.0</td>\n",
       "      <td>1224312.0</td>\n",
       "      <td>85568.0</td>\n",
       "      <td>0.0</td>\n",
       "      <td>1138744.0</td>\n",
       "      <td>1224785.0</td>\n",
       "      <td>520090.0</td>\n",
       "      <td>...</td>\n",
       "      <td>3292.0</td>\n",
       "      <td>2936.0</td>\n",
       "      <td>2092.0</td>\n",
       "      <td>26249.0</td>\n",
       "      <td>10315.0</td>\n",
       "      <td>36676.0</td>\n",
       "      <td>NaN</td>\n",
       "      <td>NaN</td>\n",
       "      <td>NaN</td>\n",
       "      <td>NaN</td>\n",
       "    </tr>\n",
       "    <tr>\n",
       "      <th>825</th>\n",
       "      <td>2008_DISTRICT_OF_COLUMBIA</td>\n",
       "      <td>DISTRICT_OF_COLUMBIA</td>\n",
       "      <td>2008</td>\n",
       "      <td>58191.0</td>\n",
       "      <td>1224312.0</td>\n",
       "      <td>85568.0</td>\n",
       "      <td>0.0</td>\n",
       "      <td>1138744.0</td>\n",
       "      <td>1224785.0</td>\n",
       "      <td>520090.0</td>\n",
       "      <td>...</td>\n",
       "      <td>4595.0</td>\n",
       "      <td>4540.0</td>\n",
       "      <td>3444.0</td>\n",
       "      <td>38190.0</td>\n",
       "      <td>17891.0</td>\n",
       "      <td>63532.0</td>\n",
       "      <td>NaN</td>\n",
       "      <td>NaN</td>\n",
       "      <td>NaN</td>\n",
       "      <td>NaN</td>\n",
       "    </tr>\n",
       "    <tr>\n",
       "      <th>863</th>\n",
       "      <td>2008_VIRGINIA</td>\n",
       "      <td>VIRGINIA</td>\n",
       "      <td>2008</td>\n",
       "      <td>1230857.0</td>\n",
       "      <td>14768120.0</td>\n",
       "      <td>897627.0</td>\n",
       "      <td>5957786.0</td>\n",
       "      <td>7912707.0</td>\n",
       "      <td>15236306.0</td>\n",
       "      <td>8003167.0</td>\n",
       "      <td>...</td>\n",
       "      <td>4666.0</td>\n",
       "      <td>3863.0</td>\n",
       "      <td>2535.0</td>\n",
       "      <td>36807.0</td>\n",
       "      <td>12837.0</td>\n",
       "      <td>51345.0</td>\n",
       "      <td>NaN</td>\n",
       "      <td>NaN</td>\n",
       "      <td>NaN</td>\n",
       "      <td>NaN</td>\n",
       "    </tr>\n",
       "    <tr>\n",
       "      <th>864</th>\n",
       "      <td>2008_VIRGINIA</td>\n",
       "      <td>VIRGINIA</td>\n",
       "      <td>2008</td>\n",
       "      <td>1230857.0</td>\n",
       "      <td>14768120.0</td>\n",
       "      <td>897627.0</td>\n",
       "      <td>5957786.0</td>\n",
       "      <td>7912707.0</td>\n",
       "      <td>15236306.0</td>\n",
       "      <td>8003167.0</td>\n",
       "      <td>...</td>\n",
       "      <td>2548.0</td>\n",
       "      <td>1485.0</td>\n",
       "      <td>484.0</td>\n",
       "      <td>19226.0</td>\n",
       "      <td>2758.0</td>\n",
       "      <td>24554.0</td>\n",
       "      <td>NaN</td>\n",
       "      <td>NaN</td>\n",
       "      <td>NaN</td>\n",
       "      <td>NaN</td>\n",
       "    </tr>\n",
       "    <tr>\n",
       "      <th>865</th>\n",
       "      <td>2008_VIRGINIA</td>\n",
       "      <td>VIRGINIA</td>\n",
       "      <td>2008</td>\n",
       "      <td>1230857.0</td>\n",
       "      <td>14768120.0</td>\n",
       "      <td>897627.0</td>\n",
       "      <td>5957786.0</td>\n",
       "      <td>7912707.0</td>\n",
       "      <td>15236306.0</td>\n",
       "      <td>8003167.0</td>\n",
       "      <td>...</td>\n",
       "      <td>91133.0</td>\n",
       "      <td>92881.0</td>\n",
       "      <td>87177.0</td>\n",
       "      <td>735090.0</td>\n",
       "      <td>380787.0</td>\n",
       "      <td>1145864.0</td>\n",
       "      <td>NaN</td>\n",
       "      <td>NaN</td>\n",
       "      <td>NaN</td>\n",
       "      <td>NaN</td>\n",
       "    </tr>\n",
       "    <tr>\n",
       "      <th>878</th>\n",
       "      <td>2009_DISTRICT_OF_COLUMBIA</td>\n",
       "      <td>DISTRICT_OF_COLUMBIA</td>\n",
       "      <td>2009</td>\n",
       "      <td>44331.0</td>\n",
       "      <td>801008.0</td>\n",
       "      <td>75856.0</td>\n",
       "      <td>0.0</td>\n",
       "      <td>725152.0</td>\n",
       "      <td>805362.0</td>\n",
       "      <td>330698.0</td>\n",
       "      <td>...</td>\n",
       "      <td>4893.0</td>\n",
       "      <td>4452.0</td>\n",
       "      <td>3301.0</td>\n",
       "      <td>37698.0</td>\n",
       "      <td>17597.0</td>\n",
       "      <td>63794.0</td>\n",
       "      <td>219.260141</td>\n",
       "      <td>253.595187</td>\n",
       "      <td>201.984638</td>\n",
       "      <td>252.631381</td>\n",
       "    </tr>\n",
       "    <tr>\n",
       "      <th>879</th>\n",
       "      <td>2009_DISTRICT_OF_COLUMBIA</td>\n",
       "      <td>DISTRICT_OF_COLUMBIA</td>\n",
       "      <td>2009</td>\n",
       "      <td>44331.0</td>\n",
       "      <td>801008.0</td>\n",
       "      <td>75856.0</td>\n",
       "      <td>0.0</td>\n",
       "      <td>725152.0</td>\n",
       "      <td>805362.0</td>\n",
       "      <td>330698.0</td>\n",
       "      <td>...</td>\n",
       "      <td>3423.0</td>\n",
       "      <td>2860.0</td>\n",
       "      <td>2188.0</td>\n",
       "      <td>26762.0</td>\n",
       "      <td>9970.0</td>\n",
       "      <td>36823.0</td>\n",
       "      <td>219.260141</td>\n",
       "      <td>253.595187</td>\n",
       "      <td>201.984638</td>\n",
       "      <td>252.631381</td>\n",
       "    </tr>\n",
       "    <tr>\n",
       "      <th>930</th>\n",
       "      <td>2010_DISTRICT_OF_COLUMBIA</td>\n",
       "      <td>DISTRICT_OF_COLUMBIA</td>\n",
       "      <td>2010</td>\n",
       "      <td>43866.0</td>\n",
       "      <td>1195934.0</td>\n",
       "      <td>80585.0</td>\n",
       "      <td>0.0</td>\n",
       "      <td>1115349.0</td>\n",
       "      <td>1290048.0</td>\n",
       "      <td>526469.0</td>\n",
       "      <td>...</td>\n",
       "      <td>3397.0</td>\n",
       "      <td>2992.0</td>\n",
       "      <td>2203.0</td>\n",
       "      <td>27264.0</td>\n",
       "      <td>9977.0</td>\n",
       "      <td>NaN</td>\n",
       "      <td>NaN</td>\n",
       "      <td>NaN</td>\n",
       "      <td>NaN</td>\n",
       "      <td>NaN</td>\n",
       "    </tr>\n",
       "    <tr>\n",
       "      <th>931</th>\n",
       "      <td>2010_DISTRICT_OF_COLUMBIA</td>\n",
       "      <td>DISTRICT_OF_COLUMBIA</td>\n",
       "      <td>2010</td>\n",
       "      <td>43866.0</td>\n",
       "      <td>1195934.0</td>\n",
       "      <td>80585.0</td>\n",
       "      <td>0.0</td>\n",
       "      <td>1115349.0</td>\n",
       "      <td>1290048.0</td>\n",
       "      <td>526469.0</td>\n",
       "      <td>...</td>\n",
       "      <td>4877.0</td>\n",
       "      <td>4307.0</td>\n",
       "      <td>3407.0</td>\n",
       "      <td>37867.0</td>\n",
       "      <td>17632.0</td>\n",
       "      <td>65080.0</td>\n",
       "      <td>NaN</td>\n",
       "      <td>NaN</td>\n",
       "      <td>NaN</td>\n",
       "      <td>NaN</td>\n",
       "    </tr>\n",
       "  </tbody>\n",
       "</table>\n",
       "<p>9 rows × 25 columns</p>\n",
       "</div>"
      ],
      "text/plain": [
       "                   PRIMARY_KEY                 STATE  YEAR     ENROLL  \\\n",
       "824  2008_DISTRICT_OF_COLUMBIA  DISTRICT_OF_COLUMBIA  2008    58191.0   \n",
       "825  2008_DISTRICT_OF_COLUMBIA  DISTRICT_OF_COLUMBIA  2008    58191.0   \n",
       "863              2008_VIRGINIA              VIRGINIA  2008  1230857.0   \n",
       "864              2008_VIRGINIA              VIRGINIA  2008  1230857.0   \n",
       "865              2008_VIRGINIA              VIRGINIA  2008  1230857.0   \n",
       "878  2009_DISTRICT_OF_COLUMBIA  DISTRICT_OF_COLUMBIA  2009    44331.0   \n",
       "879  2009_DISTRICT_OF_COLUMBIA  DISTRICT_OF_COLUMBIA  2009    44331.0   \n",
       "930  2010_DISTRICT_OF_COLUMBIA  DISTRICT_OF_COLUMBIA  2010    43866.0   \n",
       "931  2010_DISTRICT_OF_COLUMBIA  DISTRICT_OF_COLUMBIA  2010    43866.0   \n",
       "\n",
       "     TOTAL_REVENUE  FEDERAL_REVENUE  STATE_REVENUE  LOCAL_REVENUE  \\\n",
       "824      1224312.0          85568.0            0.0      1138744.0   \n",
       "825      1224312.0          85568.0            0.0      1138744.0   \n",
       "863     14768120.0         897627.0      5957786.0      7912707.0   \n",
       "864     14768120.0         897627.0      5957786.0      7912707.0   \n",
       "865     14768120.0         897627.0      5957786.0      7912707.0   \n",
       "878       801008.0          75856.0            0.0       725152.0   \n",
       "879       801008.0          75856.0            0.0       725152.0   \n",
       "930      1195934.0          80585.0            0.0      1115349.0   \n",
       "931      1195934.0          80585.0            0.0      1115349.0   \n",
       "\n",
       "     TOTAL_EXPENDITURE  INSTRUCTION_EXPENDITURE  ...  GRADES_4_G  GRADES_8_G  \\\n",
       "824          1224785.0                 520090.0  ...      3292.0      2936.0   \n",
       "825          1224785.0                 520090.0  ...      4595.0      4540.0   \n",
       "863         15236306.0                8003167.0  ...      4666.0      3863.0   \n",
       "864         15236306.0                8003167.0  ...      2548.0      1485.0   \n",
       "865         15236306.0                8003167.0  ...     91133.0     92881.0   \n",
       "878           805362.0                 330698.0  ...      4893.0      4452.0   \n",
       "879           805362.0                 330698.0  ...      3423.0      2860.0   \n",
       "930          1290048.0                 526469.0  ...      3397.0      2992.0   \n",
       "931          1290048.0                 526469.0  ...      4877.0      4307.0   \n",
       "\n",
       "     GRADES_12_G  GRADES_1_8_G  GRADES_9_12_G  GRADES_ALL_G  AVG_MATH_4_SCORE  \\\n",
       "824       2092.0       26249.0        10315.0       36676.0               NaN   \n",
       "825       3444.0       38190.0        17891.0       63532.0               NaN   \n",
       "863       2535.0       36807.0        12837.0       51345.0               NaN   \n",
       "864        484.0       19226.0         2758.0       24554.0               NaN   \n",
       "865      87177.0      735090.0       380787.0     1145864.0               NaN   \n",
       "878       3301.0       37698.0        17597.0       63794.0        219.260141   \n",
       "879       2188.0       26762.0         9970.0       36823.0        219.260141   \n",
       "930       2203.0       27264.0         9977.0           NaN               NaN   \n",
       "931       3407.0       37867.0        17632.0       65080.0               NaN   \n",
       "\n",
       "     AVG_MATH_8_SCORE  AVG_READING_4_SCORE  AVG_READING_8_SCORE  \n",
       "824               NaN                  NaN                  NaN  \n",
       "825               NaN                  NaN                  NaN  \n",
       "863               NaN                  NaN                  NaN  \n",
       "864               NaN                  NaN                  NaN  \n",
       "865               NaN                  NaN                  NaN  \n",
       "878        253.595187           201.984638           252.631381  \n",
       "879        253.595187           201.984638           252.631381  \n",
       "930               NaN                  NaN                  NaN  \n",
       "931               NaN                  NaN                  NaN  \n",
       "\n",
       "[9 rows x 25 columns]"
      ]
     },
     "execution_count": 5,
     "metadata": {},
     "output_type": "execute_result"
    }
   ],
   "source": [
    "print('THERE ARE OUTLIERS PRESENT THAT NEED TO BE REMOVED')\n",
    "print('There are: ')\n",
    "print(df['PRIMARY_KEY'].duplicated(keep=False).sum(), 'duplicated PRIMARY_KEY s')\n",
    "print('Unique duplicated keys: \\n', df[df['PRIMARY_KEY'].duplicated(keep=False)]['PRIMARY_KEY'].unique())\n",
    "df[df['PRIMARY_KEY'].duplicated(keep=False)]"
   ]
  },
  {
   "cell_type": "code",
   "execution_count": 6,
   "metadata": {},
   "outputs": [],
   "source": [
    "df['avg_total_revenue']=df['TOTAL_REVENUE']/df['GRADES_ALL_G']\n",
    "\n",
    "df['fracn_schoolage'] = df['GRADES_ALL_G']/df['ENROLL']\n",
    "df['rev_per_person'] = df['TOTAL_REVENUE'] / df['ENROLL']\n",
    "df['exp_per_rev'] = df['TOTAL_EXPENDITURE'] / df['TOTAL_REVENUE']\n"
   ]
  },
  {
   "cell_type": "code",
   "execution_count": 7,
   "metadata": {},
   "outputs": [
    {
     "name": "stdout",
     "output_type": "stream",
     "text": [
      "2 rows have unreasonably high avg_total_expenditure\n"
     ]
    },
    {
     "data": {
      "text/html": [
       "<div>\n",
       "<style scoped>\n",
       "    .dataframe tbody tr th:only-of-type {\n",
       "        vertical-align: middle;\n",
       "    }\n",
       "\n",
       "    .dataframe tbody tr th {\n",
       "        vertical-align: top;\n",
       "    }\n",
       "\n",
       "    .dataframe thead th {\n",
       "        text-align: right;\n",
       "    }\n",
       "</style>\n",
       "<table border=\"1\" class=\"dataframe\">\n",
       "  <thead>\n",
       "    <tr style=\"text-align: right;\">\n",
       "      <th></th>\n",
       "      <th>PRIMARY_KEY</th>\n",
       "      <th>STATE</th>\n",
       "      <th>YEAR</th>\n",
       "      <th>ENROLL</th>\n",
       "      <th>TOTAL_REVENUE</th>\n",
       "      <th>FEDERAL_REVENUE</th>\n",
       "      <th>STATE_REVENUE</th>\n",
       "      <th>LOCAL_REVENUE</th>\n",
       "      <th>TOTAL_EXPENDITURE</th>\n",
       "      <th>INSTRUCTION_EXPENDITURE</th>\n",
       "      <th>...</th>\n",
       "      <th>GRADES_ALL_G</th>\n",
       "      <th>AVG_MATH_4_SCORE</th>\n",
       "      <th>AVG_MATH_8_SCORE</th>\n",
       "      <th>AVG_READING_4_SCORE</th>\n",
       "      <th>AVG_READING_8_SCORE</th>\n",
       "      <th>avg_total_revenue</th>\n",
       "      <th>fracn_schoolage</th>\n",
       "      <th>rev_per_person</th>\n",
       "      <th>exp_per_rev</th>\n",
       "      <th>avg_total_expenditure</th>\n",
       "    </tr>\n",
       "  </thead>\n",
       "  <tbody>\n",
       "    <tr>\n",
       "      <th>863</th>\n",
       "      <td>2008_VIRGINIA</td>\n",
       "      <td>VIRGINIA</td>\n",
       "      <td>2008</td>\n",
       "      <td>1230857.0</td>\n",
       "      <td>14768120.0</td>\n",
       "      <td>897627.0</td>\n",
       "      <td>5957786.0</td>\n",
       "      <td>7912707.0</td>\n",
       "      <td>15236306.0</td>\n",
       "      <td>8003167.0</td>\n",
       "      <td>...</td>\n",
       "      <td>51345.0</td>\n",
       "      <td>NaN</td>\n",
       "      <td>NaN</td>\n",
       "      <td>NaN</td>\n",
       "      <td>NaN</td>\n",
       "      <td>287.625280</td>\n",
       "      <td>0.041715</td>\n",
       "      <td>11.998242</td>\n",
       "      <td>1.031702</td>\n",
       "      <td>296.743714</td>\n",
       "    </tr>\n",
       "    <tr>\n",
       "      <th>864</th>\n",
       "      <td>2008_VIRGINIA</td>\n",
       "      <td>VIRGINIA</td>\n",
       "      <td>2008</td>\n",
       "      <td>1230857.0</td>\n",
       "      <td>14768120.0</td>\n",
       "      <td>897627.0</td>\n",
       "      <td>5957786.0</td>\n",
       "      <td>7912707.0</td>\n",
       "      <td>15236306.0</td>\n",
       "      <td>8003167.0</td>\n",
       "      <td>...</td>\n",
       "      <td>24554.0</td>\n",
       "      <td>NaN</td>\n",
       "      <td>NaN</td>\n",
       "      <td>NaN</td>\n",
       "      <td>NaN</td>\n",
       "      <td>601.454753</td>\n",
       "      <td>0.019949</td>\n",
       "      <td>11.998242</td>\n",
       "      <td>1.031702</td>\n",
       "      <td>620.522359</td>\n",
       "    </tr>\n",
       "  </tbody>\n",
       "</table>\n",
       "<p>2 rows × 30 columns</p>\n",
       "</div>"
      ],
      "text/plain": [
       "       PRIMARY_KEY     STATE  YEAR     ENROLL  TOTAL_REVENUE  FEDERAL_REVENUE  \\\n",
       "863  2008_VIRGINIA  VIRGINIA  2008  1230857.0     14768120.0         897627.0   \n",
       "864  2008_VIRGINIA  VIRGINIA  2008  1230857.0     14768120.0         897627.0   \n",
       "\n",
       "     STATE_REVENUE  LOCAL_REVENUE  TOTAL_EXPENDITURE  INSTRUCTION_EXPENDITURE  \\\n",
       "863      5957786.0      7912707.0         15236306.0                8003167.0   \n",
       "864      5957786.0      7912707.0         15236306.0                8003167.0   \n",
       "\n",
       "     ...  GRADES_ALL_G  AVG_MATH_4_SCORE  AVG_MATH_8_SCORE  \\\n",
       "863  ...       51345.0               NaN               NaN   \n",
       "864  ...       24554.0               NaN               NaN   \n",
       "\n",
       "     AVG_READING_4_SCORE  AVG_READING_8_SCORE  avg_total_revenue  \\\n",
       "863                  NaN                  NaN         287.625280   \n",
       "864                  NaN                  NaN         601.454753   \n",
       "\n",
       "     fracn_schoolage  rev_per_person  exp_per_rev  avg_total_expenditure  \n",
       "863         0.041715       11.998242     1.031702             296.743714  \n",
       "864         0.019949       11.998242     1.031702             620.522359  \n",
       "\n",
       "[2 rows x 30 columns]"
      ]
     },
     "execution_count": 7,
     "metadata": {},
     "output_type": "execute_result"
    }
   ],
   "source": [
    "df['avg_total_expenditure'] = df['TOTAL_EXPENDITURE'] / df['GRADES_ALL_G']\n",
    "print('2 rows have unreasonably high avg_total_expenditure')\n",
    "df[df['avg_total_expenditure'] > 100]"
   ]
  },
  {
   "cell_type": "code",
   "execution_count": 8,
   "metadata": {},
   "outputs": [
    {
     "name": "stderr",
     "output_type": "stream",
     "text": [
      "/Users/daviderickson/anaconda3/lib/python3.7/site-packages/numpy/lib/histograms.py:824: RuntimeWarning: invalid value encountered in greater_equal\n",
      "  keep = (tmp_a >= first_edge)\n",
      "/Users/daviderickson/anaconda3/lib/python3.7/site-packages/numpy/lib/histograms.py:825: RuntimeWarning: invalid value encountered in less_equal\n",
      "  keep &= (tmp_a <= last_edge)\n"
     ]
    },
    {
     "data": {
      "image/png": "[encoded data removed]",
      "text/plain": [
       "<Figure size 432x288 with 1 Axes>"
      ]
     },
     "metadata": {
      "needs_background": "light"
     },
     "output_type": "display_data"
    },
    {
     "data": {
      "image/png": "[encoded data removed]",
      "text/plain": [
       "<Figure size 432x288 with 1 Axes>"
      ]
     },
     "metadata": {
      "needs_background": "light"
     },
     "output_type": "display_data"
    },
    {
     "name": "stdout",
     "output_type": "stream",
     "text": [
      "THERE ARE OUTLIERS PRESENT THAT NEED TO BE REMOVED\n",
      "There are: \n",
      "4 duplicated PRIMARY_KEY s\n",
      "Unique duplicated keys: \n",
      " ['2008_DISTRICT_OF_COLUMBIA' '2009_DISTRICT_OF_COLUMBIA']\n"
     ]
    },
    {
     "data": {
      "text/html": [
       "<div>\n",
       "<style scoped>\n",
       "    .dataframe tbody tr th:only-of-type {\n",
       "        vertical-align: middle;\n",
       "    }\n",
       "\n",
       "    .dataframe tbody tr th {\n",
       "        vertical-align: top;\n",
       "    }\n",
       "\n",
       "    .dataframe thead th {\n",
       "        text-align: right;\n",
       "    }\n",
       "</style>\n",
       "<table border=\"1\" class=\"dataframe\">\n",
       "  <thead>\n",
       "    <tr style=\"text-align: right;\">\n",
       "      <th></th>\n",
       "      <th>PRIMARY_KEY</th>\n",
       "      <th>STATE</th>\n",
       "      <th>YEAR</th>\n",
       "      <th>ENROLL</th>\n",
       "      <th>TOTAL_REVENUE</th>\n",
       "      <th>FEDERAL_REVENUE</th>\n",
       "      <th>STATE_REVENUE</th>\n",
       "      <th>LOCAL_REVENUE</th>\n",
       "      <th>TOTAL_EXPENDITURE</th>\n",
       "      <th>INSTRUCTION_EXPENDITURE</th>\n",
       "      <th>...</th>\n",
       "      <th>GRADES_ALL_G</th>\n",
       "      <th>AVG_MATH_4_SCORE</th>\n",
       "      <th>AVG_MATH_8_SCORE</th>\n",
       "      <th>AVG_READING_4_SCORE</th>\n",
       "      <th>AVG_READING_8_SCORE</th>\n",
       "      <th>avg_total_revenue</th>\n",
       "      <th>fracn_schoolage</th>\n",
       "      <th>rev_per_person</th>\n",
       "      <th>exp_per_rev</th>\n",
       "      <th>avg_total_expenditure</th>\n",
       "    </tr>\n",
       "  </thead>\n",
       "  <tbody>\n",
       "    <tr>\n",
       "      <th>824</th>\n",
       "      <td>2008_DISTRICT_OF_COLUMBIA</td>\n",
       "      <td>DISTRICT_OF_COLUMBIA</td>\n",
       "      <td>2008</td>\n",
       "      <td>58191.0</td>\n",
       "      <td>1224312.0</td>\n",
       "      <td>85568.0</td>\n",
       "      <td>0.0</td>\n",
       "      <td>1138744.0</td>\n",
       "      <td>1224785.0</td>\n",
       "      <td>520090.0</td>\n",
       "      <td>...</td>\n",
       "      <td>36676.0</td>\n",
       "      <td>NaN</td>\n",
       "      <td>NaN</td>\n",
       "      <td>NaN</td>\n",
       "      <td>NaN</td>\n",
       "      <td>33.381830</td>\n",
       "      <td>0.630269</td>\n",
       "      <td>21.039542</td>\n",
       "      <td>1.000386</td>\n",
       "      <td>33.394727</td>\n",
       "    </tr>\n",
       "    <tr>\n",
       "      <th>825</th>\n",
       "      <td>2008_DISTRICT_OF_COLUMBIA</td>\n",
       "      <td>DISTRICT_OF_COLUMBIA</td>\n",
       "      <td>2008</td>\n",
       "      <td>58191.0</td>\n",
       "      <td>1224312.0</td>\n",
       "      <td>85568.0</td>\n",
       "      <td>0.0</td>\n",
       "      <td>1138744.0</td>\n",
       "      <td>1224785.0</td>\n",
       "      <td>520090.0</td>\n",
       "      <td>...</td>\n",
       "      <td>63532.0</td>\n",
       "      <td>NaN</td>\n",
       "      <td>NaN</td>\n",
       "      <td>NaN</td>\n",
       "      <td>NaN</td>\n",
       "      <td>19.270793</td>\n",
       "      <td>1.091784</td>\n",
       "      <td>21.039542</td>\n",
       "      <td>1.000386</td>\n",
       "      <td>19.278238</td>\n",
       "    </tr>\n",
       "    <tr>\n",
       "      <th>878</th>\n",
       "      <td>2009_DISTRICT_OF_COLUMBIA</td>\n",
       "      <td>DISTRICT_OF_COLUMBIA</td>\n",
       "      <td>2009</td>\n",
       "      <td>44331.0</td>\n",
       "      <td>801008.0</td>\n",
       "      <td>75856.0</td>\n",
       "      <td>0.0</td>\n",
       "      <td>725152.0</td>\n",
       "      <td>805362.0</td>\n",
       "      <td>330698.0</td>\n",
       "      <td>...</td>\n",
       "      <td>63794.0</td>\n",
       "      <td>219.260141</td>\n",
       "      <td>253.595187</td>\n",
       "      <td>201.984638</td>\n",
       "      <td>252.631381</td>\n",
       "      <td>12.556165</td>\n",
       "      <td>1.439038</td>\n",
       "      <td>18.068801</td>\n",
       "      <td>1.005436</td>\n",
       "      <td>12.624416</td>\n",
       "    </tr>\n",
       "    <tr>\n",
       "      <th>879</th>\n",
       "      <td>2009_DISTRICT_OF_COLUMBIA</td>\n",
       "      <td>DISTRICT_OF_COLUMBIA</td>\n",
       "      <td>2009</td>\n",
       "      <td>44331.0</td>\n",
       "      <td>801008.0</td>\n",
       "      <td>75856.0</td>\n",
       "      <td>0.0</td>\n",
       "      <td>725152.0</td>\n",
       "      <td>805362.0</td>\n",
       "      <td>330698.0</td>\n",
       "      <td>...</td>\n",
       "      <td>36823.0</td>\n",
       "      <td>219.260141</td>\n",
       "      <td>253.595187</td>\n",
       "      <td>201.984638</td>\n",
       "      <td>252.631381</td>\n",
       "      <td>21.752926</td>\n",
       "      <td>0.830638</td>\n",
       "      <td>18.068801</td>\n",
       "      <td>1.005436</td>\n",
       "      <td>21.871167</td>\n",
       "    </tr>\n",
       "  </tbody>\n",
       "</table>\n",
       "<p>4 rows × 30 columns</p>\n",
       "</div>"
      ],
      "text/plain": [
       "                   PRIMARY_KEY                 STATE  YEAR   ENROLL  \\\n",
       "824  2008_DISTRICT_OF_COLUMBIA  DISTRICT_OF_COLUMBIA  2008  58191.0   \n",
       "825  2008_DISTRICT_OF_COLUMBIA  DISTRICT_OF_COLUMBIA  2008  58191.0   \n",
       "878  2009_DISTRICT_OF_COLUMBIA  DISTRICT_OF_COLUMBIA  2009  44331.0   \n",
       "879  2009_DISTRICT_OF_COLUMBIA  DISTRICT_OF_COLUMBIA  2009  44331.0   \n",
       "\n",
       "     TOTAL_REVENUE  FEDERAL_REVENUE  STATE_REVENUE  LOCAL_REVENUE  \\\n",
       "824      1224312.0          85568.0            0.0      1138744.0   \n",
       "825      1224312.0          85568.0            0.0      1138744.0   \n",
       "878       801008.0          75856.0            0.0       725152.0   \n",
       "879       801008.0          75856.0            0.0       725152.0   \n",
       "\n",
       "     TOTAL_EXPENDITURE  INSTRUCTION_EXPENDITURE  ...  GRADES_ALL_G  \\\n",
       "824          1224785.0                 520090.0  ...       36676.0   \n",
       "825          1224785.0                 520090.0  ...       63532.0   \n",
       "878           805362.0                 330698.0  ...       63794.0   \n",
       "879           805362.0                 330698.0  ...       36823.0   \n",
       "\n",
       "     AVG_MATH_4_SCORE  AVG_MATH_8_SCORE  AVG_READING_4_SCORE  \\\n",
       "824               NaN               NaN                  NaN   \n",
       "825               NaN               NaN                  NaN   \n",
       "878        219.260141        253.595187           201.984638   \n",
       "879        219.260141        253.595187           201.984638   \n",
       "\n",
       "     AVG_READING_8_SCORE  avg_total_revenue  fracn_schoolage  rev_per_person  \\\n",
       "824                  NaN          33.381830         0.630269       21.039542   \n",
       "825                  NaN          19.270793         1.091784       21.039542   \n",
       "878           252.631381          12.556165         1.439038       18.068801   \n",
       "879           252.631381          21.752926         0.830638       18.068801   \n",
       "\n",
       "     exp_per_rev  avg_total_expenditure  \n",
       "824     1.000386              33.394727  \n",
       "825     1.000386              19.278238  \n",
       "878     1.005436              12.624416  \n",
       "879     1.005436              21.871167  \n",
       "\n",
       "[4 rows x 30 columns]"
      ]
     },
     "execution_count": 8,
     "metadata": {},
     "output_type": "execute_result"
    }
   ],
   "source": [
    "plt.hist('avg_total_expenditure', bins=50, log=True, data=df);\n",
    "plt.show()\n",
    "# df[df['avg_total_expenditure'] > 100]\n",
    "\n",
    "# Drop the 2 outlier rows\n",
    "df = df[df['avg_total_expenditure'] < 100]\n",
    "\n",
    "plt.hist('avg_total_expenditure', bins=50, log=True, data=df);\n",
    "plt.show()\n",
    "\n",
    "print('THERE ARE OUTLIERS PRESENT THAT NEED TO BE REMOVED')\n",
    "print('There are: ')\n",
    "print(df['PRIMARY_KEY'].duplicated(keep=False).sum(), 'duplicated PRIMARY_KEY s')\n",
    "print('Unique duplicated keys: \\n', df[df['PRIMARY_KEY'].duplicated(keep=False)]['PRIMARY_KEY'].unique())\n",
    "df[df['PRIMARY_KEY'].duplicated(keep=False)]"
   ]
  },
  {
   "cell_type": "code",
   "execution_count": 9,
   "metadata": {},
   "outputs": [
    {
     "data": {
      "image/png": "[encoded data removed]",
      "text/plain": [
       "<Figure size 432x288 with 1 Axes>"
      ]
     },
     "metadata": {
      "needs_background": "light"
     },
     "output_type": "display_data"
    },
    {
     "name": "stdout",
     "output_type": "stream",
     "text": [
      "2 rows in DISTRICT_OF_COLUMBIAs data have unreasonably small GRADES_ALL_G\n"
     ]
    }
   ],
   "source": [
    "hist_df = df[df['STATE']=='DISTRICT_OF_COLUMBIA']\n",
    "plt.hist('GRADES_ALL_G', data=hist_df, log=False, bins=50);\n",
    "plt.show()\n",
    "\n",
    "print('2 rows in DISTRICT_OF_COLUMBIAs data have unreasonably small GRADES_ALL_G')"
   ]
  },
  {
   "cell_type": "code",
   "execution_count": 10,
   "metadata": {},
   "outputs": [
    {
     "name": "stdout",
     "output_type": "stream",
     "text": [
      "These DISTRICT_OF_COLUMBIA duplicated keys have unreasonably small GRADES_ALL_G\n",
      "824    36676.0\n",
      "879    36823.0\n",
      "Name: GRADES_ALL_G, dtype: float64\n"
     ]
    },
    {
     "data": {
      "text/html": [
       "<div>\n",
       "<style scoped>\n",
       "    .dataframe tbody tr th:only-of-type {\n",
       "        vertical-align: middle;\n",
       "    }\n",
       "\n",
       "    .dataframe tbody tr th {\n",
       "        vertical-align: top;\n",
       "    }\n",
       "\n",
       "    .dataframe thead th {\n",
       "        text-align: right;\n",
       "    }\n",
       "</style>\n",
       "<table border=\"1\" class=\"dataframe\">\n",
       "  <thead>\n",
       "    <tr style=\"text-align: right;\">\n",
       "      <th></th>\n",
       "      <th>PRIMARY_KEY</th>\n",
       "      <th>STATE</th>\n",
       "      <th>YEAR</th>\n",
       "      <th>ENROLL</th>\n",
       "      <th>TOTAL_REVENUE</th>\n",
       "      <th>FEDERAL_REVENUE</th>\n",
       "      <th>STATE_REVENUE</th>\n",
       "      <th>LOCAL_REVENUE</th>\n",
       "      <th>TOTAL_EXPENDITURE</th>\n",
       "      <th>INSTRUCTION_EXPENDITURE</th>\n",
       "      <th>...</th>\n",
       "      <th>GRADES_ALL_G</th>\n",
       "      <th>AVG_MATH_4_SCORE</th>\n",
       "      <th>AVG_MATH_8_SCORE</th>\n",
       "      <th>AVG_READING_4_SCORE</th>\n",
       "      <th>AVG_READING_8_SCORE</th>\n",
       "      <th>avg_total_revenue</th>\n",
       "      <th>fracn_schoolage</th>\n",
       "      <th>rev_per_person</th>\n",
       "      <th>exp_per_rev</th>\n",
       "      <th>avg_total_expenditure</th>\n",
       "    </tr>\n",
       "  </thead>\n",
       "  <tbody>\n",
       "    <tr>\n",
       "      <th>824</th>\n",
       "      <td>2008_DISTRICT_OF_COLUMBIA</td>\n",
       "      <td>DISTRICT_OF_COLUMBIA</td>\n",
       "      <td>2008</td>\n",
       "      <td>58191.0</td>\n",
       "      <td>1224312.0</td>\n",
       "      <td>85568.0</td>\n",
       "      <td>0.0</td>\n",
       "      <td>1138744.0</td>\n",
       "      <td>1224785.0</td>\n",
       "      <td>520090.0</td>\n",
       "      <td>...</td>\n",
       "      <td>36676.0</td>\n",
       "      <td>NaN</td>\n",
       "      <td>NaN</td>\n",
       "      <td>NaN</td>\n",
       "      <td>NaN</td>\n",
       "      <td>33.381830</td>\n",
       "      <td>0.630269</td>\n",
       "      <td>21.039542</td>\n",
       "      <td>1.000386</td>\n",
       "      <td>33.394727</td>\n",
       "    </tr>\n",
       "    <tr>\n",
       "      <th>879</th>\n",
       "      <td>2009_DISTRICT_OF_COLUMBIA</td>\n",
       "      <td>DISTRICT_OF_COLUMBIA</td>\n",
       "      <td>2009</td>\n",
       "      <td>44331.0</td>\n",
       "      <td>801008.0</td>\n",
       "      <td>75856.0</td>\n",
       "      <td>0.0</td>\n",
       "      <td>725152.0</td>\n",
       "      <td>805362.0</td>\n",
       "      <td>330698.0</td>\n",
       "      <td>...</td>\n",
       "      <td>36823.0</td>\n",
       "      <td>219.260141</td>\n",
       "      <td>253.595187</td>\n",
       "      <td>201.984638</td>\n",
       "      <td>252.631381</td>\n",
       "      <td>21.752926</td>\n",
       "      <td>0.830638</td>\n",
       "      <td>18.068801</td>\n",
       "      <td>1.005436</td>\n",
       "      <td>21.871167</td>\n",
       "    </tr>\n",
       "  </tbody>\n",
       "</table>\n",
       "<p>2 rows × 30 columns</p>\n",
       "</div>"
      ],
      "text/plain": [
       "                   PRIMARY_KEY                 STATE  YEAR   ENROLL  \\\n",
       "824  2008_DISTRICT_OF_COLUMBIA  DISTRICT_OF_COLUMBIA  2008  58191.0   \n",
       "879  2009_DISTRICT_OF_COLUMBIA  DISTRICT_OF_COLUMBIA  2009  44331.0   \n",
       "\n",
       "     TOTAL_REVENUE  FEDERAL_REVENUE  STATE_REVENUE  LOCAL_REVENUE  \\\n",
       "824      1224312.0          85568.0            0.0      1138744.0   \n",
       "879       801008.0          75856.0            0.0       725152.0   \n",
       "\n",
       "     TOTAL_EXPENDITURE  INSTRUCTION_EXPENDITURE  ...  GRADES_ALL_G  \\\n",
       "824          1224785.0                 520090.0  ...       36676.0   \n",
       "879           805362.0                 330698.0  ...       36823.0   \n",
       "\n",
       "     AVG_MATH_4_SCORE  AVG_MATH_8_SCORE  AVG_READING_4_SCORE  \\\n",
       "824               NaN               NaN                  NaN   \n",
       "879        219.260141        253.595187           201.984638   \n",
       "\n",
       "     AVG_READING_8_SCORE  avg_total_revenue  fracn_schoolage  rev_per_person  \\\n",
       "824                  NaN          33.381830         0.630269       21.039542   \n",
       "879           252.631381          21.752926         0.830638       18.068801   \n",
       "\n",
       "     exp_per_rev  avg_total_expenditure  \n",
       "824     1.000386              33.394727  \n",
       "879     1.005436              21.871167  \n",
       "\n",
       "[2 rows x 30 columns]"
      ]
     },
     "execution_count": 10,
     "metadata": {},
     "output_type": "execute_result"
    }
   ],
   "source": [
    "print('These DISTRICT_OF_COLUMBIA duplicated keys have unreasonably small GRADES_ALL_G')\n",
    "print(df[ (df['STATE'] == 'DISTRICT_OF_COLUMBIA') & (df['GRADES_ALL_G'] <  40000)]['GRADES_ALL_G'])\n",
    "df[ (df['STATE'] == 'DISTRICT_OF_COLUMBIA') & (df['GRADES_ALL_G'] <  40000)]"
   ]
  },
  {
   "cell_type": "code",
   "execution_count": 11,
   "metadata": {},
   "outputs": [
    {
     "name": "stdout",
     "output_type": "stream",
     "text": [
      "Drop these bad rows.\n",
      "Before drop df.shape= (1216, 30)\n",
      "[824, 879]\n",
      "After drop df.shape= (1214, 30)\n"
     ]
    }
   ],
   "source": [
    "print('Drop these bad rows.')\n",
    "print('Before drop df.shape=', df.shape)\n",
    "\n",
    "drop_index= df[(df['STATE'] == 'DISTRICT_OF_COLUMBIA') & (df['GRADES_ALL_G'] <  40000)].index.to_list()\n",
    "print(drop_index)\n",
    "\n",
    "df.drop(axis=0, labels= drop_index, inplace=True)\n",
    "print('After drop df.shape=', df.shape)"
   ]
  },
  {
   "cell_type": "code",
   "execution_count": 12,
   "metadata": {},
   "outputs": [
    {
     "data": {
      "image/png": "[encoded data removed]",
      "text/plain": [
       "<Figure size 432x288 with 1 Axes>"
      ]
     },
     "metadata": {
      "needs_background": "light"
     },
     "output_type": "display_data"
    },
    {
     "name": "stdout",
     "output_type": "stream",
     "text": [
      "REMOVED: 2 rows in DISTRICT_OF_COLUMBIAs data HAD unreasonably small GRADES_ALL_G\n"
     ]
    }
   ],
   "source": [
    "hist_df = df[df['STATE']=='DISTRICT_OF_COLUMBIA']\n",
    "plt.hist('GRADES_ALL_G', data=hist_df, log=False, bins=50);\n",
    "plt.show()\n",
    "\n",
    "print('REMOVED: 2 rows in DISTRICT_OF_COLUMBIAs data HAD unreasonably small GRADES_ALL_G')"
   ]
  },
  {
   "cell_type": "code",
   "execution_count": null,
   "metadata": {},
   "outputs": [],
   "source": [
    "print(df.shape, df_orig.shape)"
   ]
  },
  {
   "cell_type": "code",
   "execution_count": 13,
   "metadata": {},
   "outputs": [
    {
     "name": "stdout",
     "output_type": "stream",
     "text": [
      "THERE ARE OUTLIERS PRESENT THAT NEED TO BE REMOVED\n",
      "There are: \n",
      "0 duplicated PRIMARY_KEY s\n",
      "Unique duplicated keys: \n",
      " []\n"
     ]
    },
    {
     "data": {
      "text/html": [
       "<div>\n",
       "<style scoped>\n",
       "    .dataframe tbody tr th:only-of-type {\n",
       "        vertical-align: middle;\n",
       "    }\n",
       "\n",
       "    .dataframe tbody tr th {\n",
       "        vertical-align: top;\n",
       "    }\n",
       "\n",
       "    .dataframe thead th {\n",
       "        text-align: right;\n",
       "    }\n",
       "</style>\n",
       "<table border=\"1\" class=\"dataframe\">\n",
       "  <thead>\n",
       "    <tr style=\"text-align: right;\">\n",
       "      <th></th>\n",
       "      <th>PRIMARY_KEY</th>\n",
       "      <th>STATE</th>\n",
       "      <th>YEAR</th>\n",
       "      <th>ENROLL</th>\n",
       "      <th>TOTAL_REVENUE</th>\n",
       "      <th>FEDERAL_REVENUE</th>\n",
       "      <th>STATE_REVENUE</th>\n",
       "      <th>LOCAL_REVENUE</th>\n",
       "      <th>TOTAL_EXPENDITURE</th>\n",
       "      <th>INSTRUCTION_EXPENDITURE</th>\n",
       "      <th>...</th>\n",
       "      <th>GRADES_ALL_G</th>\n",
       "      <th>AVG_MATH_4_SCORE</th>\n",
       "      <th>AVG_MATH_8_SCORE</th>\n",
       "      <th>AVG_READING_4_SCORE</th>\n",
       "      <th>AVG_READING_8_SCORE</th>\n",
       "      <th>avg_total_revenue</th>\n",
       "      <th>fracn_schoolage</th>\n",
       "      <th>rev_per_person</th>\n",
       "      <th>exp_per_rev</th>\n",
       "      <th>avg_total_expenditure</th>\n",
       "    </tr>\n",
       "  </thead>\n",
       "  <tbody>\n",
       "  </tbody>\n",
       "</table>\n",
       "<p>0 rows × 30 columns</p>\n",
       "</div>"
      ],
      "text/plain": [
       "Empty DataFrame\n",
       "Columns: [PRIMARY_KEY, STATE, YEAR, ENROLL, TOTAL_REVENUE, FEDERAL_REVENUE, STATE_REVENUE, LOCAL_REVENUE, TOTAL_EXPENDITURE, INSTRUCTION_EXPENDITURE, SUPPORT_SERVICES_EXPENDITURE, OTHER_EXPENDITURE, CAPITAL_OUTLAY_EXPENDITURE, GRADES_PK_G, GRADES_KG_G, GRADES_4_G, GRADES_8_G, GRADES_12_G, GRADES_1_8_G, GRADES_9_12_G, GRADES_ALL_G, AVG_MATH_4_SCORE, AVG_MATH_8_SCORE, AVG_READING_4_SCORE, AVG_READING_8_SCORE, avg_total_revenue, fracn_schoolage, rev_per_person, exp_per_rev, avg_total_expenditure]\n",
       "Index: []\n",
       "\n",
       "[0 rows x 30 columns]"
      ]
     },
     "execution_count": 13,
     "metadata": {},
     "output_type": "execute_result"
    }
   ],
   "source": [
    "print('THERE ARE OUTLIERS PRESENT THAT NEED TO BE REMOVED')\n",
    "print('There are: ')\n",
    "print(df['PRIMARY_KEY'].duplicated(keep=False).sum(), 'duplicated PRIMARY_KEY s')\n",
    "print('Unique duplicated keys: \\n', df[df['PRIMARY_KEY'].duplicated(keep=False)]['PRIMARY_KEY'].unique())\n",
    "df[df['PRIMARY_KEY'].duplicated(keep=False)]"
   ]
  },
  {
   "cell_type": "code",
   "execution_count": null,
   "metadata": {},
   "outputs": [],
   "source": []
  },
  {
   "cell_type": "code",
   "execution_count": 14,
   "metadata": {},
   "outputs": [
    {
     "data": {
      "text/html": [
       "<div>\n",
       "<style scoped>\n",
       "    .dataframe tbody tr th:only-of-type {\n",
       "        vertical-align: middle;\n",
       "    }\n",
       "\n",
       "    .dataframe tbody tr th {\n",
       "        vertical-align: top;\n",
       "    }\n",
       "\n",
       "    .dataframe thead th {\n",
       "        text-align: right;\n",
       "    }\n",
       "</style>\n",
       "<table border=\"1\" class=\"dataframe\">\n",
       "  <thead>\n",
       "    <tr style=\"text-align: right;\">\n",
       "      <th></th>\n",
       "      <th>PRIMARY_KEY</th>\n",
       "      <th>STATE</th>\n",
       "      <th>YEAR</th>\n",
       "      <th>ENROLL</th>\n",
       "      <th>TOTAL_REVENUE</th>\n",
       "      <th>FEDERAL_REVENUE</th>\n",
       "      <th>STATE_REVENUE</th>\n",
       "      <th>LOCAL_REVENUE</th>\n",
       "      <th>TOTAL_EXPENDITURE</th>\n",
       "      <th>INSTRUCTION_EXPENDITURE</th>\n",
       "      <th>...</th>\n",
       "      <th>GRADES_ALL_G</th>\n",
       "      <th>AVG_MATH_4_SCORE</th>\n",
       "      <th>AVG_MATH_8_SCORE</th>\n",
       "      <th>AVG_READING_4_SCORE</th>\n",
       "      <th>AVG_READING_8_SCORE</th>\n",
       "      <th>avg_total_revenue</th>\n",
       "      <th>fracn_schoolage</th>\n",
       "      <th>rev_per_person</th>\n",
       "      <th>exp_per_rev</th>\n",
       "      <th>avg_total_expenditure</th>\n",
       "    </tr>\n",
       "  </thead>\n",
       "  <tbody>\n",
       "  </tbody>\n",
       "</table>\n",
       "<p>0 rows × 30 columns</p>\n",
       "</div>"
      ],
      "text/plain": [
       "Empty DataFrame\n",
       "Columns: [PRIMARY_KEY, STATE, YEAR, ENROLL, TOTAL_REVENUE, FEDERAL_REVENUE, STATE_REVENUE, LOCAL_REVENUE, TOTAL_EXPENDITURE, INSTRUCTION_EXPENDITURE, SUPPORT_SERVICES_EXPENDITURE, OTHER_EXPENDITURE, CAPITAL_OUTLAY_EXPENDITURE, GRADES_PK_G, GRADES_KG_G, GRADES_4_G, GRADES_8_G, GRADES_12_G, GRADES_1_8_G, GRADES_9_12_G, GRADES_ALL_G, AVG_MATH_4_SCORE, AVG_MATH_8_SCORE, AVG_READING_4_SCORE, AVG_READING_8_SCORE, avg_total_revenue, fracn_schoolage, rev_per_person, exp_per_rev, avg_total_expenditure]\n",
       "Index: []\n",
       "\n",
       "[0 rows x 30 columns]"
      ]
     },
     "execution_count": 14,
     "metadata": {},
     "output_type": "execute_result"
    }
   ],
   "source": [
    "#For some reason VIRGINIA has 3 entries for 2008 and 2 of them have incredibly high avg_instruction_expenditure\n",
    "df[df['avg_total_expenditure'] > 100]"
   ]
  },
  {
   "cell_type": "code",
   "execution_count": 15,
   "metadata": {},
   "outputs": [
    {
     "data": {
      "text/html": [
       "<div>\n",
       "<style scoped>\n",
       "    .dataframe tbody tr th:only-of-type {\n",
       "        vertical-align: middle;\n",
       "    }\n",
       "\n",
       "    .dataframe tbody tr th {\n",
       "        vertical-align: top;\n",
       "    }\n",
       "\n",
       "    .dataframe thead th {\n",
       "        text-align: right;\n",
       "    }\n",
       "</style>\n",
       "<table border=\"1\" class=\"dataframe\">\n",
       "  <thead>\n",
       "    <tr style=\"text-align: right;\">\n",
       "      <th></th>\n",
       "      <th>YEAR</th>\n",
       "      <th>ENROLL</th>\n",
       "      <th>TOTAL_REVENUE</th>\n",
       "      <th>FEDERAL_REVENUE</th>\n",
       "      <th>STATE_REVENUE</th>\n",
       "      <th>LOCAL_REVENUE</th>\n",
       "      <th>TOTAL_EXPENDITURE</th>\n",
       "      <th>INSTRUCTION_EXPENDITURE</th>\n",
       "      <th>SUPPORT_SERVICES_EXPENDITURE</th>\n",
       "      <th>OTHER_EXPENDITURE</th>\n",
       "      <th>...</th>\n",
       "      <th>GRADES_ALL_G</th>\n",
       "      <th>AVG_MATH_4_SCORE</th>\n",
       "      <th>AVG_MATH_8_SCORE</th>\n",
       "      <th>AVG_READING_4_SCORE</th>\n",
       "      <th>AVG_READING_8_SCORE</th>\n",
       "      <th>avg_total_revenue</th>\n",
       "      <th>fracn_schoolage</th>\n",
       "      <th>rev_per_person</th>\n",
       "      <th>exp_per_rev</th>\n",
       "      <th>avg_total_expenditure</th>\n",
       "    </tr>\n",
       "  </thead>\n",
       "  <tbody>\n",
       "    <tr>\n",
       "      <th>count</th>\n",
       "      <td>1214.000000</td>\n",
       "      <td>1.164000e+03</td>\n",
       "      <td>1.214000e+03</td>\n",
       "      <td>1.214000e+03</td>\n",
       "      <td>1.214000e+03</td>\n",
       "      <td>1.214000e+03</td>\n",
       "      <td>1.214000e+03</td>\n",
       "      <td>1.214000e+03</td>\n",
       "      <td>1.214000e+03</td>\n",
       "      <td>1.164000e+03</td>\n",
       "      <td>...</td>\n",
       "      <td>1.214000e+03</td>\n",
       "      <td>479.000000</td>\n",
       "      <td>475.000000</td>\n",
       "      <td>476.000000</td>\n",
       "      <td>443.000000</td>\n",
       "      <td>1214.000000</td>\n",
       "      <td>1164.000000</td>\n",
       "      <td>1164.000000</td>\n",
       "      <td>1214.000000</td>\n",
       "      <td>1214.000000</td>\n",
       "    </tr>\n",
       "    <tr>\n",
       "      <th>mean</th>\n",
       "      <td>2003.530478</td>\n",
       "      <td>9.166842e+05</td>\n",
       "      <td>8.922752e+06</td>\n",
       "      <td>7.547590e+05</td>\n",
       "      <td>4.133878e+06</td>\n",
       "      <td>4.034115e+06</td>\n",
       "      <td>9.036754e+06</td>\n",
       "      <td>4.675527e+06</td>\n",
       "      <td>2.630462e+06</td>\n",
       "      <td>4.227990e+05</td>\n",
       "      <td>...</td>\n",
       "      <td>8.602173e+05</td>\n",
       "      <td>234.384303</td>\n",
       "      <td>278.110556</td>\n",
       "      <td>218.662978</td>\n",
       "      <td>263.485789</td>\n",
       "      <td>10.372979</td>\n",
       "      <td>0.947725</td>\n",
       "      <td>10.016423</td>\n",
       "      <td>1.007401</td>\n",
       "      <td>10.421263</td>\n",
       "    </tr>\n",
       "    <tr>\n",
       "      <th>std</th>\n",
       "      <td>6.906654</td>\n",
       "      <td>1.054153e+06</td>\n",
       "      <td>1.131445e+07</td>\n",
       "      <td>1.121221e+06</td>\n",
       "      <td>5.300473e+06</td>\n",
       "      <td>5.310380e+06</td>\n",
       "      <td>1.158441e+07</td>\n",
       "      <td>6.075892e+06</td>\n",
       "      <td>3.234789e+06</td>\n",
       "      <td>5.168056e+05</td>\n",
       "      <td>...</td>\n",
       "      <td>9.891287e+05</td>\n",
       "      <td>10.522297</td>\n",
       "      <td>10.367962</td>\n",
       "      <td>7.922590</td>\n",
       "      <td>6.840882</td>\n",
       "      <td>4.011296</td>\n",
       "      <td>0.076139</td>\n",
       "      <td>3.989669</td>\n",
       "      <td>0.043447</td>\n",
       "      <td>3.974681</td>\n",
       "    </tr>\n",
       "    <tr>\n",
       "      <th>min</th>\n",
       "      <td>1992.000000</td>\n",
       "      <td>4.386600e+04</td>\n",
       "      <td>4.656500e+05</td>\n",
       "      <td>3.102000e+04</td>\n",
       "      <td>0.000000e+00</td>\n",
       "      <td>2.209300e+04</td>\n",
       "      <td>4.816650e+05</td>\n",
       "      <td>2.655490e+05</td>\n",
       "      <td>1.399630e+05</td>\n",
       "      <td>1.154100e+04</td>\n",
       "      <td>...</td>\n",
       "      <td>5.892700e+04</td>\n",
       "      <td>187.134670</td>\n",
       "      <td>232.831510</td>\n",
       "      <td>178.557612</td>\n",
       "      <td>236.379102</td>\n",
       "      <td>2.576621</td>\n",
       "      <td>0.800923</td>\n",
       "      <td>3.543637</td>\n",
       "      <td>0.717038</td>\n",
       "      <td>2.563009</td>\n",
       "    </tr>\n",
       "    <tr>\n",
       "      <th>25%</th>\n",
       "      <td>1998.000000</td>\n",
       "      <td>2.673202e+05</td>\n",
       "      <td>2.189045e+06</td>\n",
       "      <td>1.902835e+05</td>\n",
       "      <td>1.165477e+06</td>\n",
       "      <td>7.148415e+05</td>\n",
       "      <td>2.172325e+06</td>\n",
       "      <td>1.172759e+06</td>\n",
       "      <td>6.376580e+05</td>\n",
       "      <td>1.034492e+05</td>\n",
       "      <td>...</td>\n",
       "      <td>2.573745e+05</td>\n",
       "      <td>228.719632</td>\n",
       "      <td>271.905356</td>\n",
       "      <td>214.399954</td>\n",
       "      <td>259.312874</td>\n",
       "      <td>7.358710</td>\n",
       "      <td>0.923023</td>\n",
       "      <td>7.133709</td>\n",
       "      <td>0.984657</td>\n",
       "      <td>7.389888</td>\n",
       "    </tr>\n",
       "    <tr>\n",
       "      <th>50%</th>\n",
       "      <td>2004.000000</td>\n",
       "      <td>6.531095e+05</td>\n",
       "      <td>5.063910e+06</td>\n",
       "      <td>4.002160e+05</td>\n",
       "      <td>2.502170e+06</td>\n",
       "      <td>2.036751e+06</td>\n",
       "      <td>5.185218e+06</td>\n",
       "      <td>2.641565e+06</td>\n",
       "      <td>1.521478e+06</td>\n",
       "      <td>2.710355e+05</td>\n",
       "      <td>...</td>\n",
       "      <td>6.104760e+05</td>\n",
       "      <td>236.819778</td>\n",
       "      <td>280.453026</td>\n",
       "      <td>220.245515</td>\n",
       "      <td>264.886342</td>\n",
       "      <td>9.840336</td>\n",
       "      <td>0.935386</td>\n",
       "      <td>9.289085</td>\n",
       "      <td>1.007017</td>\n",
       "      <td>9.884785</td>\n",
       "    </tr>\n",
       "    <tr>\n",
       "      <th>75%</th>\n",
       "      <td>2009.750000</td>\n",
       "      <td>1.014540e+06</td>\n",
       "      <td>1.066705e+07</td>\n",
       "      <td>8.184432e+05</td>\n",
       "      <td>4.863387e+06</td>\n",
       "      <td>4.703754e+06</td>\n",
       "      <td>1.060568e+07</td>\n",
       "      <td>5.532012e+06</td>\n",
       "      <td>3.143274e+06</td>\n",
       "      <td>5.135950e+05</td>\n",
       "      <td>...</td>\n",
       "      <td>9.677510e+05</td>\n",
       "      <td>242.030188</td>\n",
       "      <td>285.061652</td>\n",
       "      <td>223.896863</td>\n",
       "      <td>268.134383</td>\n",
       "      <td>12.437640</td>\n",
       "      <td>0.950958</td>\n",
       "      <td>11.717453</td>\n",
       "      <td>1.030618</td>\n",
       "      <td>12.438096</td>\n",
       "    </tr>\n",
       "    <tr>\n",
       "      <th>max</th>\n",
       "      <td>2015.000000</td>\n",
       "      <td>6.307022e+06</td>\n",
       "      <td>7.462693e+07</td>\n",
       "      <td>9.990221e+06</td>\n",
       "      <td>4.318764e+07</td>\n",
       "      <td>3.494151e+07</td>\n",
       "      <td>7.661886e+07</td>\n",
       "      <td>4.195426e+07</td>\n",
       "      <td>2.231086e+07</td>\n",
       "      <td>3.759373e+06</td>\n",
       "      <td>...</td>\n",
       "      <td>5.944746e+06</td>\n",
       "      <td>253.420961</td>\n",
       "      <td>300.568235</td>\n",
       "      <td>236.773867</td>\n",
       "      <td>277.191363</td>\n",
       "      <td>25.775146</td>\n",
       "      <td>1.782240</td>\n",
       "      <td>29.948695</td>\n",
       "      <td>1.185742</td>\n",
       "      <td>26.334393</td>\n",
       "    </tr>\n",
       "  </tbody>\n",
       "</table>\n",
       "<p>8 rows × 28 columns</p>\n",
       "</div>"
      ],
      "text/plain": [
       "              YEAR        ENROLL  TOTAL_REVENUE  FEDERAL_REVENUE  \\\n",
       "count  1214.000000  1.164000e+03   1.214000e+03     1.214000e+03   \n",
       "mean   2003.530478  9.166842e+05   8.922752e+06     7.547590e+05   \n",
       "std       6.906654  1.054153e+06   1.131445e+07     1.121221e+06   \n",
       "min    1992.000000  4.386600e+04   4.656500e+05     3.102000e+04   \n",
       "25%    1998.000000  2.673202e+05   2.189045e+06     1.902835e+05   \n",
       "50%    2004.000000  6.531095e+05   5.063910e+06     4.002160e+05   \n",
       "75%    2009.750000  1.014540e+06   1.066705e+07     8.184432e+05   \n",
       "max    2015.000000  6.307022e+06   7.462693e+07     9.990221e+06   \n",
       "\n",
       "       STATE_REVENUE  LOCAL_REVENUE  TOTAL_EXPENDITURE  \\\n",
       "count   1.214000e+03   1.214000e+03       1.214000e+03   \n",
       "mean    4.133878e+06   4.034115e+06       9.036754e+06   \n",
       "std     5.300473e+06   5.310380e+06       1.158441e+07   \n",
       "min     0.000000e+00   2.209300e+04       4.816650e+05   \n",
       "25%     1.165477e+06   7.148415e+05       2.172325e+06   \n",
       "50%     2.502170e+06   2.036751e+06       5.185218e+06   \n",
       "75%     4.863387e+06   4.703754e+06       1.060568e+07   \n",
       "max     4.318764e+07   3.494151e+07       7.661886e+07   \n",
       "\n",
       "       INSTRUCTION_EXPENDITURE  SUPPORT_SERVICES_EXPENDITURE  \\\n",
       "count             1.214000e+03                  1.214000e+03   \n",
       "mean              4.675527e+06                  2.630462e+06   \n",
       "std               6.075892e+06                  3.234789e+06   \n",
       "min               2.655490e+05                  1.399630e+05   \n",
       "25%               1.172759e+06                  6.376580e+05   \n",
       "50%               2.641565e+06                  1.521478e+06   \n",
       "75%               5.532012e+06                  3.143274e+06   \n",
       "max               4.195426e+07                  2.231086e+07   \n",
       "\n",
       "       OTHER_EXPENDITURE  ...  GRADES_ALL_G  AVG_MATH_4_SCORE  \\\n",
       "count       1.164000e+03  ...  1.214000e+03        479.000000   \n",
       "mean        4.227990e+05  ...  8.602173e+05        234.384303   \n",
       "std         5.168056e+05  ...  9.891287e+05         10.522297   \n",
       "min         1.154100e+04  ...  5.892700e+04        187.134670   \n",
       "25%         1.034492e+05  ...  2.573745e+05        228.719632   \n",
       "50%         2.710355e+05  ...  6.104760e+05        236.819778   \n",
       "75%         5.135950e+05  ...  9.677510e+05        242.030188   \n",
       "max         3.759373e+06  ...  5.944746e+06        253.420961   \n",
       "\n",
       "       AVG_MATH_8_SCORE  AVG_READING_4_SCORE  AVG_READING_8_SCORE  \\\n",
       "count        475.000000           476.000000           443.000000   \n",
       "mean         278.110556           218.662978           263.485789   \n",
       "std           10.367962             7.922590             6.840882   \n",
       "min          232.831510           178.557612           236.379102   \n",
       "25%          271.905356           214.399954           259.312874   \n",
       "50%          280.453026           220.245515           264.886342   \n",
       "75%          285.061652           223.896863           268.134383   \n",
       "max          300.568235           236.773867           277.191363   \n",
       "\n",
       "       avg_total_revenue  fracn_schoolage  rev_per_person  exp_per_rev  \\\n",
       "count        1214.000000      1164.000000     1164.000000  1214.000000   \n",
       "mean           10.372979         0.947725       10.016423     1.007401   \n",
       "std             4.011296         0.076139        3.989669     0.043447   \n",
       "min             2.576621         0.800923        3.543637     0.717038   \n",
       "25%             7.358710         0.923023        7.133709     0.984657   \n",
       "50%             9.840336         0.935386        9.289085     1.007017   \n",
       "75%            12.437640         0.950958       11.717453     1.030618   \n",
       "max            25.775146         1.782240       29.948695     1.185742   \n",
       "\n",
       "       avg_total_expenditure  \n",
       "count            1214.000000  \n",
       "mean               10.421263  \n",
       "std                 3.974681  \n",
       "min                 2.563009  \n",
       "25%                 7.389888  \n",
       "50%                 9.884785  \n",
       "75%                12.438096  \n",
       "max                26.334393  \n",
       "\n",
       "[8 rows x 28 columns]"
      ]
     },
     "execution_count": 15,
     "metadata": {},
     "output_type": "execute_result"
    }
   ],
   "source": [
    "df.describe()"
   ]
  },
  {
   "cell_type": "code",
   "execution_count": 16,
   "metadata": {},
   "outputs": [],
   "source": [
    "#sns.pairplot(df, kind='scatter')"
   ]
  },
  {
   "cell_type": "code",
   "execution_count": 18,
   "metadata": {},
   "outputs": [
    {
     "name": "stdout",
     "output_type": "stream",
     "text": [
      "(1214, 30)\n",
      "(412, 30)\n"
     ]
    }
   ],
   "source": [
    "# KMeans Clustering\n",
    "\n",
    "from sklearn.cluster import KMeans\n",
    "# df.drop(['AVG_MATH_4_SCORE'], axis=1)\n",
    "print(df.shape)\n",
    "print(df.dropna(axis=0).shape)\n",
    "\n",
    "df1 = df.dropna(axis=0)\n",
    "df1 = pd.get_dummies(df1, columns=['STATE'])\n",
    "drop_cols = ['PRIMARY_KEY', 'YEAR', 'ENROLL', \\\n",
    "             'TOTAL_REVENUE', 'FEDERAL_REVENUE', 'STATE_REVENUE', 'LOCAL_REVENUE', \\\n",
    "             'TOTAL_EXPENDITURE', 'INSTRUCTION_EXPENDITURE', 'SUPPORT_SERVICES_EXPENDITURE', 'OTHER_EXPENDITURE', \\\n",
    "             'CAPITAL_OUTLAY_EXPENDITURE', \\\n",
    "             'GRADES_PK_G', 'GRADES_KG_G', 'GRADES_4_G', 'GRADES_8_G', 'GRADES_12_G', \\\n",
    "             'GRADES_1_8_G', 'GRADES_9_12_G', 'GRADES_ALL_G']\n",
    "df1 = df1.drop(drop_cols, axis=1)\n",
    "\n",
    "kmeans = KMeans(n_clusters=10)\n",
    "y_pred = kmeans.fit_predict(df1)"
   ]
  },
  {
   "cell_type": "code",
   "execution_count": 19,
   "metadata": {},
   "outputs": [
    {
     "name": "stdout",
     "output_type": "stream",
     "text": [
      "Index(['AVG_MATH_4_SCORE', 'AVG_MATH_8_SCORE', 'AVG_READING_4_SCORE',\n",
      "       'AVG_READING_8_SCORE', 'avg_total_revenue', 'fracn_schoolage',\n",
      "       'rev_per_person', 'exp_per_rev', 'avg_total_expenditure',\n",
      "       'STATE_ALABAMA', 'STATE_ALASKA', 'STATE_ARIZONA', 'STATE_ARKANSAS',\n",
      "       'STATE_CALIFORNIA', 'STATE_COLORADO', 'STATE_CONNECTICUT',\n",
      "       'STATE_DELAWARE', 'STATE_DISTRICT_OF_COLUMBIA', 'STATE_FLORIDA',\n",
      "       'STATE_GEORGIA', 'STATE_HAWAII', 'STATE_IDAHO', 'STATE_ILLINOIS',\n",
      "       'STATE_INDIANA', 'STATE_IOWA', 'STATE_KANSAS', 'STATE_KENTUCKY',\n",
      "       'STATE_LOUISIANA', 'STATE_MAINE', 'STATE_MARYLAND',\n",
      "       'STATE_MASSACHUSETTS', 'STATE_MICHIGAN', 'STATE_MINNESOTA',\n",
      "       'STATE_MISSISSIPPI', 'STATE_MISSOURI', 'STATE_MONTANA',\n",
      "       'STATE_NEBRASKA', 'STATE_NEVADA', 'STATE_NEW_HAMPSHIRE',\n",
      "       'STATE_NEW_JERSEY', 'STATE_NEW_MEXICO', 'STATE_NEW_YORK',\n",
      "       'STATE_NORTH_CAROLINA', 'STATE_NORTH_DAKOTA', 'STATE_OHIO',\n",
      "       'STATE_OKLAHOMA', 'STATE_OREGON', 'STATE_PENNSYLVANIA',\n",
      "       'STATE_RHODE_ISLAND', 'STATE_SOUTH_CAROLINA', 'STATE_SOUTH_DAKOTA',\n",
      "       'STATE_TENNESSEE', 'STATE_TEXAS', 'STATE_UTAH', 'STATE_VERMONT',\n",
      "       'STATE_VIRGINIA', 'STATE_WASHINGTON', 'STATE_WEST_VIRGINIA',\n",
      "       'STATE_WISCONSIN', 'STATE_WYOMING'],\n",
      "      dtype='object')\n"
     ]
    }
   ],
   "source": [
    "print(df1.columns)"
   ]
  },
  {
   "cell_type": "code",
   "execution_count": 20,
   "metadata": {},
   "outputs": [
    {
     "data": {
      "text/html": [
       "<div>\n",
       "<style scoped>\n",
       "    .dataframe tbody tr th:only-of-type {\n",
       "        vertical-align: middle;\n",
       "    }\n",
       "\n",
       "    .dataframe tbody tr th {\n",
       "        vertical-align: top;\n",
       "    }\n",
       "\n",
       "    .dataframe thead th {\n",
       "        text-align: right;\n",
       "    }\n",
       "</style>\n",
       "<table border=\"1\" class=\"dataframe\">\n",
       "  <thead>\n",
       "    <tr style=\"text-align: right;\">\n",
       "      <th></th>\n",
       "      <th>AVG_MATH_4_SCORE</th>\n",
       "      <th>AVG_MATH_8_SCORE</th>\n",
       "      <th>AVG_READING_4_SCORE</th>\n",
       "      <th>AVG_READING_8_SCORE</th>\n",
       "      <th>avg_total_revenue</th>\n",
       "      <th>fracn_schoolage</th>\n",
       "      <th>rev_per_person</th>\n",
       "      <th>exp_per_rev</th>\n",
       "      <th>avg_total_expenditure</th>\n",
       "      <th>STATE_ALABAMA</th>\n",
       "      <th>...</th>\n",
       "      <th>STATE_SOUTH_DAKOTA</th>\n",
       "      <th>STATE_TENNESSEE</th>\n",
       "      <th>STATE_TEXAS</th>\n",
       "      <th>STATE_UTAH</th>\n",
       "      <th>STATE_VERMONT</th>\n",
       "      <th>STATE_VIRGINIA</th>\n",
       "      <th>STATE_WASHINGTON</th>\n",
       "      <th>STATE_WEST_VIRGINIA</th>\n",
       "      <th>STATE_WISCONSIN</th>\n",
       "      <th>STATE_WYOMING</th>\n",
       "    </tr>\n",
       "  </thead>\n",
       "  <tbody>\n",
       "    <tr>\n",
       "      <th>3</th>\n",
       "      <td>202.033098</td>\n",
       "      <td>240.746894</td>\n",
       "      <td>189.678570</td>\n",
       "      <td>257.319746</td>\n",
       "      <td>15.053500</td>\n",
       "      <td>0.985520</td>\n",
       "      <td>15.087626</td>\n",
       "      <td>0.994911</td>\n",
       "      <td>14.929112</td>\n",
       "      <td>0.000000e+00</td>\n",
       "      <td>...</td>\n",
       "      <td>0.000000e+00</td>\n",
       "      <td>0.000000e+00</td>\n",
       "      <td>0.000000e+00</td>\n",
       "      <td>0.000000e+00</td>\n",
       "      <td>0.000000e+00</td>\n",
       "      <td>0.000000e+00</td>\n",
       "      <td>0.000000e+00</td>\n",
       "      <td>0.000000e+00</td>\n",
       "      <td>0.000000e+00</td>\n",
       "      <td>0.000000e+00</td>\n",
       "    </tr>\n",
       "    <tr>\n",
       "      <th>7</th>\n",
       "      <td>217.578207</td>\n",
       "      <td>261.922761</td>\n",
       "      <td>206.800785</td>\n",
       "      <td>264.697020</td>\n",
       "      <td>7.107711</td>\n",
       "      <td>0.948767</td>\n",
       "      <td>6.860037</td>\n",
       "      <td>1.011315</td>\n",
       "      <td>7.173528</td>\n",
       "      <td>1.666667e-01</td>\n",
       "      <td>...</td>\n",
       "      <td>3.469447e-18</td>\n",
       "      <td>8.333333e-02</td>\n",
       "      <td>6.938894e-18</td>\n",
       "      <td>3.469447e-18</td>\n",
       "      <td>3.469447e-18</td>\n",
       "      <td>6.938894e-18</td>\n",
       "      <td>3.469447e-18</td>\n",
       "      <td>3.469447e-18</td>\n",
       "      <td>3.469447e-18</td>\n",
       "      <td>3.469447e-18</td>\n",
       "    </tr>\n",
       "    <tr>\n",
       "      <th>4</th>\n",
       "      <td>228.756755</td>\n",
       "      <td>269.865437</td>\n",
       "      <td>213.386106</td>\n",
       "      <td>254.804380</td>\n",
       "      <td>9.397239</td>\n",
       "      <td>0.931697</td>\n",
       "      <td>8.749138</td>\n",
       "      <td>1.003727</td>\n",
       "      <td>9.393676</td>\n",
       "      <td>3.571429e-02</td>\n",
       "      <td>...</td>\n",
       "      <td>3.469447e-18</td>\n",
       "      <td>3.571429e-02</td>\n",
       "      <td>6.938894e-18</td>\n",
       "      <td>3.469447e-18</td>\n",
       "      <td>3.469447e-18</td>\n",
       "      <td>6.938894e-18</td>\n",
       "      <td>3.469447e-18</td>\n",
       "      <td>1.071429e-01</td>\n",
       "      <td>3.469447e-18</td>\n",
       "      <td>3.469447e-18</td>\n",
       "    </tr>\n",
       "    <tr>\n",
       "      <th>9</th>\n",
       "      <td>228.974289</td>\n",
       "      <td>271.024210</td>\n",
       "      <td>214.686559</td>\n",
       "      <td>267.870955</td>\n",
       "      <td>8.487958</td>\n",
       "      <td>0.939910</td>\n",
       "      <td>7.962051</td>\n",
       "      <td>1.016751</td>\n",
       "      <td>8.632294</td>\n",
       "      <td>1.250000e-01</td>\n",
       "      <td>...</td>\n",
       "      <td>3.469447e-18</td>\n",
       "      <td>1.250000e-01</td>\n",
       "      <td>6.250000e-02</td>\n",
       "      <td>3.125000e-02</td>\n",
       "      <td>3.469447e-18</td>\n",
       "      <td>3.125000e-02</td>\n",
       "      <td>3.125000e-02</td>\n",
       "      <td>6.250000e-02</td>\n",
       "      <td>3.469447e-18</td>\n",
       "      <td>3.469447e-18</td>\n",
       "    </tr>\n",
       "    <tr>\n",
       "      <th>1</th>\n",
       "      <td>232.792868</td>\n",
       "      <td>272.648850</td>\n",
       "      <td>210.415735</td>\n",
       "      <td>266.680121</td>\n",
       "      <td>14.302582</td>\n",
       "      <td>1.001842</td>\n",
       "      <td>14.580234</td>\n",
       "      <td>0.993281</td>\n",
       "      <td>14.155791</td>\n",
       "      <td>6.938894e-18</td>\n",
       "      <td>...</td>\n",
       "      <td>3.469447e-18</td>\n",
       "      <td>6.938894e-18</td>\n",
       "      <td>6.938894e-18</td>\n",
       "      <td>3.469447e-18</td>\n",
       "      <td>3.469447e-18</td>\n",
       "      <td>6.938894e-18</td>\n",
       "      <td>3.469447e-18</td>\n",
       "      <td>1.000000e-01</td>\n",
       "      <td>3.469447e-18</td>\n",
       "      <td>3.469447e-18</td>\n",
       "    </tr>\n",
       "    <tr>\n",
       "      <th>5</th>\n",
       "      <td>236.140732</td>\n",
       "      <td>280.688523</td>\n",
       "      <td>221.443325</td>\n",
       "      <td>250.075962</td>\n",
       "      <td>10.364207</td>\n",
       "      <td>0.938455</td>\n",
       "      <td>9.732439</td>\n",
       "      <td>1.004072</td>\n",
       "      <td>10.401492</td>\n",
       "      <td>6.938894e-18</td>\n",
       "      <td>...</td>\n",
       "      <td>3.469447e-18</td>\n",
       "      <td>6.938894e-18</td>\n",
       "      <td>6.938894e-18</td>\n",
       "      <td>3.469447e-18</td>\n",
       "      <td>3.469447e-18</td>\n",
       "      <td>6.938894e-18</td>\n",
       "      <td>3.469447e-18</td>\n",
       "      <td>3.469447e-18</td>\n",
       "      <td>3.469447e-18</td>\n",
       "      <td>3.469447e-18</td>\n",
       "    </tr>\n",
       "    <tr>\n",
       "      <th>6</th>\n",
       "      <td>237.332940</td>\n",
       "      <td>280.406410</td>\n",
       "      <td>220.290233</td>\n",
       "      <td>265.889866</td>\n",
       "      <td>10.146723</td>\n",
       "      <td>0.948353</td>\n",
       "      <td>9.612541</td>\n",
       "      <td>1.018024</td>\n",
       "      <td>10.329874</td>\n",
       "      <td>-3.469447e-17</td>\n",
       "      <td>...</td>\n",
       "      <td>2.000000e-02</td>\n",
       "      <td>2.000000e-02</td>\n",
       "      <td>2.000000e-02</td>\n",
       "      <td>6.000000e-02</td>\n",
       "      <td>1.000000e-02</td>\n",
       "      <td>2.000000e-02</td>\n",
       "      <td>1.000000e-02</td>\n",
       "      <td>3.469447e-18</td>\n",
       "      <td>2.000000e-02</td>\n",
       "      <td>-3.816392e-17</td>\n",
       "    </tr>\n",
       "    <tr>\n",
       "      <th>0</th>\n",
       "      <td>242.924219</td>\n",
       "      <td>286.142141</td>\n",
       "      <td>223.767488</td>\n",
       "      <td>258.939089</td>\n",
       "      <td>13.531069</td>\n",
       "      <td>0.943929</td>\n",
       "      <td>12.780734</td>\n",
       "      <td>0.997957</td>\n",
       "      <td>13.505698</td>\n",
       "      <td>-1.387779e-17</td>\n",
       "      <td>...</td>\n",
       "      <td>1.754386e-02</td>\n",
       "      <td>-1.387779e-17</td>\n",
       "      <td>1.754386e-02</td>\n",
       "      <td>3.469447e-18</td>\n",
       "      <td>1.754386e-02</td>\n",
       "      <td>7.017544e-02</td>\n",
       "      <td>5.263158e-02</td>\n",
       "      <td>3.469447e-18</td>\n",
       "      <td>3.508772e-02</td>\n",
       "      <td>3.508772e-02</td>\n",
       "    </tr>\n",
       "    <tr>\n",
       "      <th>2</th>\n",
       "      <td>243.530053</td>\n",
       "      <td>287.164758</td>\n",
       "      <td>223.393213</td>\n",
       "      <td>269.512542</td>\n",
       "      <td>12.597545</td>\n",
       "      <td>0.945241</td>\n",
       "      <td>11.911991</td>\n",
       "      <td>0.999232</td>\n",
       "      <td>12.571942</td>\n",
       "      <td>-2.428613e-17</td>\n",
       "      <td>...</td>\n",
       "      <td>6.250000e-02</td>\n",
       "      <td>-2.428613e-17</td>\n",
       "      <td>6.250000e-02</td>\n",
       "      <td>1.562500e-02</td>\n",
       "      <td>3.469447e-18</td>\n",
       "      <td>3.125000e-02</td>\n",
       "      <td>4.687500e-02</td>\n",
       "      <td>3.469447e-18</td>\n",
       "      <td>6.250000e-02</td>\n",
       "      <td>-3.469447e-18</td>\n",
       "    </tr>\n",
       "    <tr>\n",
       "      <th>8</th>\n",
       "      <td>245.564771</td>\n",
       "      <td>289.337700</td>\n",
       "      <td>228.265922</td>\n",
       "      <td>265.616131</td>\n",
       "      <td>19.765675</td>\n",
       "      <td>0.946174</td>\n",
       "      <td>18.683854</td>\n",
       "      <td>0.993548</td>\n",
       "      <td>19.643364</td>\n",
       "      <td>6.938894e-18</td>\n",
       "      <td>...</td>\n",
       "      <td>3.469447e-18</td>\n",
       "      <td>6.938894e-18</td>\n",
       "      <td>6.938894e-18</td>\n",
       "      <td>3.469447e-18</td>\n",
       "      <td>1.428571e-01</td>\n",
       "      <td>6.938894e-18</td>\n",
       "      <td>3.469447e-18</td>\n",
       "      <td>3.469447e-18</td>\n",
       "      <td>3.469447e-18</td>\n",
       "      <td>1.190476e-01</td>\n",
       "    </tr>\n",
       "  </tbody>\n",
       "</table>\n",
       "<p>10 rows × 60 columns</p>\n",
       "</div>"
      ],
      "text/plain": [
       "   AVG_MATH_4_SCORE  AVG_MATH_8_SCORE  AVG_READING_4_SCORE  \\\n",
       "3        202.033098        240.746894           189.678570   \n",
       "7        217.578207        261.922761           206.800785   \n",
       "4        228.756755        269.865437           213.386106   \n",
       "9        228.974289        271.024210           214.686559   \n",
       "1        232.792868        272.648850           210.415735   \n",
       "5        236.140732        280.688523           221.443325   \n",
       "6        237.332940        280.406410           220.290233   \n",
       "0        242.924219        286.142141           223.767488   \n",
       "2        243.530053        287.164758           223.393213   \n",
       "8        245.564771        289.337700           228.265922   \n",
       "\n",
       "   AVG_READING_8_SCORE  avg_total_revenue  fracn_schoolage  rev_per_person  \\\n",
       "3           257.319746          15.053500         0.985520       15.087626   \n",
       "7           264.697020           7.107711         0.948767        6.860037   \n",
       "4           254.804380           9.397239         0.931697        8.749138   \n",
       "9           267.870955           8.487958         0.939910        7.962051   \n",
       "1           266.680121          14.302582         1.001842       14.580234   \n",
       "5           250.075962          10.364207         0.938455        9.732439   \n",
       "6           265.889866          10.146723         0.948353        9.612541   \n",
       "0           258.939089          13.531069         0.943929       12.780734   \n",
       "2           269.512542          12.597545         0.945241       11.911991   \n",
       "8           265.616131          19.765675         0.946174       18.683854   \n",
       "\n",
       "   exp_per_rev  avg_total_expenditure  STATE_ALABAMA  ...  STATE_SOUTH_DAKOTA  \\\n",
       "3     0.994911              14.929112   0.000000e+00  ...        0.000000e+00   \n",
       "7     1.011315               7.173528   1.666667e-01  ...        3.469447e-18   \n",
       "4     1.003727               9.393676   3.571429e-02  ...        3.469447e-18   \n",
       "9     1.016751               8.632294   1.250000e-01  ...        3.469447e-18   \n",
       "1     0.993281              14.155791   6.938894e-18  ...        3.469447e-18   \n",
       "5     1.004072              10.401492   6.938894e-18  ...        3.469447e-18   \n",
       "6     1.018024              10.329874  -3.469447e-17  ...        2.000000e-02   \n",
       "0     0.997957              13.505698  -1.387779e-17  ...        1.754386e-02   \n",
       "2     0.999232              12.571942  -2.428613e-17  ...        6.250000e-02   \n",
       "8     0.993548              19.643364   6.938894e-18  ...        3.469447e-18   \n",
       "\n",
       "   STATE_TENNESSEE   STATE_TEXAS    STATE_UTAH  STATE_VERMONT  STATE_VIRGINIA  \\\n",
       "3     0.000000e+00  0.000000e+00  0.000000e+00   0.000000e+00    0.000000e+00   \n",
       "7     8.333333e-02  6.938894e-18  3.469447e-18   3.469447e-18    6.938894e-18   \n",
       "4     3.571429e-02  6.938894e-18  3.469447e-18   3.469447e-18    6.938894e-18   \n",
       "9     1.250000e-01  6.250000e-02  3.125000e-02   3.469447e-18    3.125000e-02   \n",
       "1     6.938894e-18  6.938894e-18  3.469447e-18   3.469447e-18    6.938894e-18   \n",
       "5     6.938894e-18  6.938894e-18  3.469447e-18   3.469447e-18    6.938894e-18   \n",
       "6     2.000000e-02  2.000000e-02  6.000000e-02   1.000000e-02    2.000000e-02   \n",
       "0    -1.387779e-17  1.754386e-02  3.469447e-18   1.754386e-02    7.017544e-02   \n",
       "2    -2.428613e-17  6.250000e-02  1.562500e-02   3.469447e-18    3.125000e-02   \n",
       "8     6.938894e-18  6.938894e-18  3.469447e-18   1.428571e-01    6.938894e-18   \n",
       "\n",
       "   STATE_WASHINGTON  STATE_WEST_VIRGINIA  STATE_WISCONSIN  STATE_WYOMING  \n",
       "3      0.000000e+00         0.000000e+00     0.000000e+00   0.000000e+00  \n",
       "7      3.469447e-18         3.469447e-18     3.469447e-18   3.469447e-18  \n",
       "4      3.469447e-18         1.071429e-01     3.469447e-18   3.469447e-18  \n",
       "9      3.125000e-02         6.250000e-02     3.469447e-18   3.469447e-18  \n",
       "1      3.469447e-18         1.000000e-01     3.469447e-18   3.469447e-18  \n",
       "5      3.469447e-18         3.469447e-18     3.469447e-18   3.469447e-18  \n",
       "6      1.000000e-02         3.469447e-18     2.000000e-02  -3.816392e-17  \n",
       "0      5.263158e-02         3.469447e-18     3.508772e-02   3.508772e-02  \n",
       "2      4.687500e-02         3.469447e-18     6.250000e-02  -3.469447e-18  \n",
       "8      3.469447e-18         3.469447e-18     3.469447e-18   1.190476e-01  \n",
       "\n",
       "[10 rows x 60 columns]"
      ]
     },
     "execution_count": 20,
     "metadata": {},
     "output_type": "execute_result"
    }
   ],
   "source": [
    "kmeans.cluster_centers_\n",
    "centers = pd.DataFrame(data=kmeans.cluster_centers_, columns=df1.columns)\n",
    "centers.sort_values('AVG_MATH_4_SCORE')"
   ]
  },
  {
   "cell_type": "code",
   "execution_count": 21,
   "metadata": {},
   "outputs": [
    {
     "data": {
      "text/plain": [
       "0    242.924219\n",
       "1    232.792868\n",
       "2    243.530053\n",
       "3    202.033098\n",
       "4    228.756755\n",
       "5    236.140732\n",
       "6    237.332940\n",
       "7    217.578207\n",
       "8    245.564771\n",
       "9    228.974289\n",
       "Name: AVG_MATH_4_SCORE, dtype: float64"
      ]
     },
     "execution_count": 21,
     "metadata": {},
     "output_type": "execute_result"
    }
   ],
   "source": [
    "centers['AVG_MATH_4_SCORE']"
   ]
  },
  {
   "cell_type": "code",
   "execution_count": 22,
   "metadata": {},
   "outputs": [
    {
     "data": {
      "text/html": [
       "<div>\n",
       "<style scoped>\n",
       "    .dataframe tbody tr th:only-of-type {\n",
       "        vertical-align: middle;\n",
       "    }\n",
       "\n",
       "    .dataframe tbody tr th {\n",
       "        vertical-align: top;\n",
       "    }\n",
       "\n",
       "    .dataframe thead th {\n",
       "        text-align: right;\n",
       "    }\n",
       "</style>\n",
       "<table border=\"1\" class=\"dataframe\">\n",
       "  <thead>\n",
       "    <tr style=\"text-align: right;\">\n",
       "      <th></th>\n",
       "      <th>AVG_MATH_4_SCORE</th>\n",
       "      <th>AVG_MATH_8_SCORE</th>\n",
       "      <th>AVG_READING_4_SCORE</th>\n",
       "      <th>AVG_READING_8_SCORE</th>\n",
       "      <th>avg_total_revenue</th>\n",
       "      <th>fracn_schoolage</th>\n",
       "      <th>rev_per_person</th>\n",
       "      <th>exp_per_rev</th>\n",
       "      <th>avg_total_expenditure</th>\n",
       "      <th>STATE_ALABAMA</th>\n",
       "      <th>...</th>\n",
       "      <th>STATE_SOUTH_DAKOTA</th>\n",
       "      <th>STATE_TENNESSEE</th>\n",
       "      <th>STATE_TEXAS</th>\n",
       "      <th>STATE_UTAH</th>\n",
       "      <th>STATE_VERMONT</th>\n",
       "      <th>STATE_VIRGINIA</th>\n",
       "      <th>STATE_WASHINGTON</th>\n",
       "      <th>STATE_WEST_VIRGINIA</th>\n",
       "      <th>STATE_WISCONSIN</th>\n",
       "      <th>STATE_WYOMING</th>\n",
       "    </tr>\n",
       "  </thead>\n",
       "  <tbody>\n",
       "    <tr>\n",
       "      <th>count</th>\n",
       "      <td>10.000000</td>\n",
       "      <td>10.000000</td>\n",
       "      <td>10.000000</td>\n",
       "      <td>10.000000</td>\n",
       "      <td>10.000000</td>\n",
       "      <td>10.000000</td>\n",
       "      <td>10.000000</td>\n",
       "      <td>10.000000</td>\n",
       "      <td>10.000000</td>\n",
       "      <td>1.000000e+01</td>\n",
       "      <td>...</td>\n",
       "      <td>1.000000e+01</td>\n",
       "      <td>1.000000e+01</td>\n",
       "      <td>1.000000e+01</td>\n",
       "      <td>1.000000e+01</td>\n",
       "      <td>1.000000e+01</td>\n",
       "      <td>1.000000e+01</td>\n",
       "      <td>1.000000e+01</td>\n",
       "      <td>1.000000e+01</td>\n",
       "      <td>1.000000e+01</td>\n",
       "      <td>1.000000e+01</td>\n",
       "    </tr>\n",
       "    <tr>\n",
       "      <th>mean</th>\n",
       "      <td>231.562793</td>\n",
       "      <td>273.994768</td>\n",
       "      <td>215.212794</td>\n",
       "      <td>262.140581</td>\n",
       "      <td>12.075421</td>\n",
       "      <td>0.952989</td>\n",
       "      <td>11.596065</td>\n",
       "      <td>1.003282</td>\n",
       "      <td>12.073677</td>\n",
       "      <td>3.273810e-02</td>\n",
       "      <td>...</td>\n",
       "      <td>1.000439e-02</td>\n",
       "      <td>2.640476e-02</td>\n",
       "      <td>1.625439e-02</td>\n",
       "      <td>1.068750e-02</td>\n",
       "      <td>1.704010e-02</td>\n",
       "      <td>1.526754e-02</td>\n",
       "      <td>1.407566e-02</td>\n",
       "      <td>2.696429e-02</td>\n",
       "      <td>1.175877e-02</td>\n",
       "      <td>1.541353e-02</td>\n",
       "    </tr>\n",
       "    <tr>\n",
       "      <th>std</th>\n",
       "      <td>13.359406</td>\n",
       "      <td>14.610384</td>\n",
       "      <td>11.177706</td>\n",
       "      <td>6.440560</td>\n",
       "      <td>3.752474</td>\n",
       "      <td>0.022382</td>\n",
       "      <td>3.711615</td>\n",
       "      <td>0.009272</td>\n",
       "      <td>3.666089</td>\n",
       "      <td>6.142788e-02</td>\n",
       "      <td>...</td>\n",
       "      <td>2.003652e-02</td>\n",
       "      <td>4.380873e-02</td>\n",
       "      <td>2.555655e-02</td>\n",
       "      <td>2.021682e-02</td>\n",
       "      <td>4.461228e-02</td>\n",
       "      <td>2.344435e-02</td>\n",
       "      <td>2.124636e-02</td>\n",
       "      <td>4.486413e-02</td>\n",
       "      <td>2.148568e-02</td>\n",
       "      <td>3.804634e-02</td>\n",
       "    </tr>\n",
       "    <tr>\n",
       "      <th>min</th>\n",
       "      <td>202.033098</td>\n",
       "      <td>240.746894</td>\n",
       "      <td>189.678570</td>\n",
       "      <td>250.075962</td>\n",
       "      <td>7.107711</td>\n",
       "      <td>0.931697</td>\n",
       "      <td>6.860037</td>\n",
       "      <td>0.993281</td>\n",
       "      <td>7.173528</td>\n",
       "      <td>-3.469447e-17</td>\n",
       "      <td>...</td>\n",
       "      <td>0.000000e+00</td>\n",
       "      <td>-2.428613e-17</td>\n",
       "      <td>0.000000e+00</td>\n",
       "      <td>0.000000e+00</td>\n",
       "      <td>0.000000e+00</td>\n",
       "      <td>0.000000e+00</td>\n",
       "      <td>0.000000e+00</td>\n",
       "      <td>0.000000e+00</td>\n",
       "      <td>0.000000e+00</td>\n",
       "      <td>-3.816392e-17</td>\n",
       "    </tr>\n",
       "    <tr>\n",
       "      <th>25%</th>\n",
       "      <td>228.811139</td>\n",
       "      <td>270.155130</td>\n",
       "      <td>211.158328</td>\n",
       "      <td>257.724582</td>\n",
       "      <td>9.584610</td>\n",
       "      <td>0.940915</td>\n",
       "      <td>8.964989</td>\n",
       "      <td>0.995672</td>\n",
       "      <td>9.627725</td>\n",
       "      <td>-1.040834e-17</td>\n",
       "      <td>...</td>\n",
       "      <td>3.469447e-18</td>\n",
       "      <td>1.734723e-18</td>\n",
       "      <td>6.938894e-18</td>\n",
       "      <td>3.469447e-18</td>\n",
       "      <td>3.469447e-18</td>\n",
       "      <td>6.938894e-18</td>\n",
       "      <td>3.469447e-18</td>\n",
       "      <td>3.469447e-18</td>\n",
       "      <td>3.469447e-18</td>\n",
       "      <td>8.673617e-19</td>\n",
       "    </tr>\n",
       "    <tr>\n",
       "      <th>50%</th>\n",
       "      <td>234.466800</td>\n",
       "      <td>276.527630</td>\n",
       "      <td>217.488396</td>\n",
       "      <td>265.156576</td>\n",
       "      <td>11.480876</td>\n",
       "      <td>0.945707</td>\n",
       "      <td>10.822215</td>\n",
       "      <td>1.001479</td>\n",
       "      <td>11.486717</td>\n",
       "      <td>6.938894e-18</td>\n",
       "      <td>...</td>\n",
       "      <td>3.469447e-18</td>\n",
       "      <td>6.938894e-18</td>\n",
       "      <td>6.938894e-18</td>\n",
       "      <td>3.469447e-18</td>\n",
       "      <td>3.469447e-18</td>\n",
       "      <td>6.938894e-18</td>\n",
       "      <td>3.469447e-18</td>\n",
       "      <td>3.469447e-18</td>\n",
       "      <td>3.469447e-18</td>\n",
       "      <td>3.469447e-18</td>\n",
       "    </tr>\n",
       "    <tr>\n",
       "      <th>75%</th>\n",
       "      <td>241.526399</td>\n",
       "      <td>284.778736</td>\n",
       "      <td>222.905741</td>\n",
       "      <td>266.482557</td>\n",
       "      <td>14.109704</td>\n",
       "      <td>0.948664</td>\n",
       "      <td>14.130359</td>\n",
       "      <td>1.009504</td>\n",
       "      <td>13.993267</td>\n",
       "      <td>2.678571e-02</td>\n",
       "      <td>...</td>\n",
       "      <td>1.315789e-02</td>\n",
       "      <td>3.178571e-02</td>\n",
       "      <td>1.938596e-02</td>\n",
       "      <td>1.171875e-02</td>\n",
       "      <td>7.500000e-03</td>\n",
       "      <td>2.843750e-02</td>\n",
       "      <td>2.593750e-02</td>\n",
       "      <td>4.687500e-02</td>\n",
       "      <td>1.500000e-02</td>\n",
       "      <td>3.469447e-18</td>\n",
       "    </tr>\n",
       "    <tr>\n",
       "      <th>max</th>\n",
       "      <td>245.564771</td>\n",
       "      <td>289.337700</td>\n",
       "      <td>228.265922</td>\n",
       "      <td>269.512542</td>\n",
       "      <td>19.765675</td>\n",
       "      <td>1.001842</td>\n",
       "      <td>18.683854</td>\n",
       "      <td>1.018024</td>\n",
       "      <td>19.643364</td>\n",
       "      <td>1.666667e-01</td>\n",
       "      <td>...</td>\n",
       "      <td>6.250000e-02</td>\n",
       "      <td>1.250000e-01</td>\n",
       "      <td>6.250000e-02</td>\n",
       "      <td>6.000000e-02</td>\n",
       "      <td>1.428571e-01</td>\n",
       "      <td>7.017544e-02</td>\n",
       "      <td>5.263158e-02</td>\n",
       "      <td>1.071429e-01</td>\n",
       "      <td>6.250000e-02</td>\n",
       "      <td>1.190476e-01</td>\n",
       "    </tr>\n",
       "  </tbody>\n",
       "</table>\n",
       "<p>8 rows × 60 columns</p>\n",
       "</div>"
      ],
      "text/plain": [
       "       AVG_MATH_4_SCORE  AVG_MATH_8_SCORE  AVG_READING_4_SCORE  \\\n",
       "count         10.000000         10.000000            10.000000   \n",
       "mean         231.562793        273.994768           215.212794   \n",
       "std           13.359406         14.610384            11.177706   \n",
       "min          202.033098        240.746894           189.678570   \n",
       "25%          228.811139        270.155130           211.158328   \n",
       "50%          234.466800        276.527630           217.488396   \n",
       "75%          241.526399        284.778736           222.905741   \n",
       "max          245.564771        289.337700           228.265922   \n",
       "\n",
       "       AVG_READING_8_SCORE  avg_total_revenue  fracn_schoolage  \\\n",
       "count            10.000000          10.000000        10.000000   \n",
       "mean            262.140581          12.075421         0.952989   \n",
       "std               6.440560           3.752474         0.022382   \n",
       "min             250.075962           7.107711         0.931697   \n",
       "25%             257.724582           9.584610         0.940915   \n",
       "50%             265.156576          11.480876         0.945707   \n",
       "75%             266.482557          14.109704         0.948664   \n",
       "max             269.512542          19.765675         1.001842   \n",
       "\n",
       "       rev_per_person  exp_per_rev  avg_total_expenditure  STATE_ALABAMA  ...  \\\n",
       "count       10.000000    10.000000              10.000000   1.000000e+01  ...   \n",
       "mean        11.596065     1.003282              12.073677   3.273810e-02  ...   \n",
       "std          3.711615     0.009272               3.666089   6.142788e-02  ...   \n",
       "min          6.860037     0.993281               7.173528  -3.469447e-17  ...   \n",
       "25%          8.964989     0.995672               9.627725  -1.040834e-17  ...   \n",
       "50%         10.822215     1.001479              11.486717   6.938894e-18  ...   \n",
       "75%         14.130359     1.009504              13.993267   2.678571e-02  ...   \n",
       "max         18.683854     1.018024              19.643364   1.666667e-01  ...   \n",
       "\n",
       "       STATE_SOUTH_DAKOTA  STATE_TENNESSEE   STATE_TEXAS    STATE_UTAH  \\\n",
       "count        1.000000e+01     1.000000e+01  1.000000e+01  1.000000e+01   \n",
       "mean         1.000439e-02     2.640476e-02  1.625439e-02  1.068750e-02   \n",
       "std          2.003652e-02     4.380873e-02  2.555655e-02  2.021682e-02   \n",
       "min          0.000000e+00    -2.428613e-17  0.000000e+00  0.000000e+00   \n",
       "25%          3.469447e-18     1.734723e-18  6.938894e-18  3.469447e-18   \n",
       "50%          3.469447e-18     6.938894e-18  6.938894e-18  3.469447e-18   \n",
       "75%          1.315789e-02     3.178571e-02  1.938596e-02  1.171875e-02   \n",
       "max          6.250000e-02     1.250000e-01  6.250000e-02  6.000000e-02   \n",
       "\n",
       "       STATE_VERMONT  STATE_VIRGINIA  STATE_WASHINGTON  STATE_WEST_VIRGINIA  \\\n",
       "count   1.000000e+01    1.000000e+01      1.000000e+01         1.000000e+01   \n",
       "mean    1.704010e-02    1.526754e-02      1.407566e-02         2.696429e-02   \n",
       "std     4.461228e-02    2.344435e-02      2.124636e-02         4.486413e-02   \n",
       "min     0.000000e+00    0.000000e+00      0.000000e+00         0.000000e+00   \n",
       "25%     3.469447e-18    6.938894e-18      3.469447e-18         3.469447e-18   \n",
       "50%     3.469447e-18    6.938894e-18      3.469447e-18         3.469447e-18   \n",
       "75%     7.500000e-03    2.843750e-02      2.593750e-02         4.687500e-02   \n",
       "max     1.428571e-01    7.017544e-02      5.263158e-02         1.071429e-01   \n",
       "\n",
       "       STATE_WISCONSIN  STATE_WYOMING  \n",
       "count     1.000000e+01   1.000000e+01  \n",
       "mean      1.175877e-02   1.541353e-02  \n",
       "std       2.148568e-02   3.804634e-02  \n",
       "min       0.000000e+00  -3.816392e-17  \n",
       "25%       3.469447e-18   8.673617e-19  \n",
       "50%       3.469447e-18   3.469447e-18  \n",
       "75%       1.500000e-02   3.469447e-18  \n",
       "max       6.250000e-02   1.190476e-01  \n",
       "\n",
       "[8 rows x 60 columns]"
      ]
     },
     "execution_count": 22,
     "metadata": {},
     "output_type": "execute_result"
    }
   ],
   "source": [
    "centers.describe()"
   ]
  },
  {
   "cell_type": "code",
   "execution_count": 23,
   "metadata": {},
   "outputs": [
    {
     "name": "stdout",
     "output_type": "stream",
     "text": [
      "[7 7 7 7 9 6 3 7 7 6 4 7 5 4 5 6 7 9 7 9 9 9 6 7 7 7 7 6 3 4 7 5 6 5 9 7 5\n",
      " 4 6 6 9 6 5 7 7 5 6 6 9 5 4 7 9 9 6 6 9 7 1 9 9 4 6 2 5 3 4 4 4 6 6 6 5 2\n",
      " 4 4 5 6 2 6 2 7 6 5 6 4 2 0 7 5 6 6 6 4 6 6 4 6 6 9 6 6 0 6 6 4 6 0 7 1 9\n",
      " 4 1 6 0 0 3 6 4 1 6 6 5 6 0 4 4 6 6 0 6 2 7 5 2 6 9 0 8 4 0 6 2 5 9 6 5 1\n",
      " 6 2 9 6 6 8 0 0 9 0 0 9 6 4 6 1 5 0 0 3 5 6 1 6 5 2 0 0 5 1 0 0 8 6 0 4 6\n",
      " 2 2 4 2 8 9 8 6 0 2 6 5 0 6 6 2 4 2 6 8 0 2 4 0 8 9 0 9 6 4 0 8 0 7 6 6 1\n",
      " 5 2 2 0 0 6 1 2 8 8 6 0 9 2 2 0 1 0 8 1 8 0 2 2 5 6 0 6 6 0 9 2 6 8 2 0 4\n",
      " 2 8 4 1 6 6 1 0 8 0 1 6 6 5 2 0 0 0 2 6 1 2 8 8 5 2 9 2 2 2 5 8 8 1 8 2 2\n",
      " 0 6 6 8 2 6 2 9 2 6 8 0 0 1 2 8 9 1 6 6 1 0 8 2 1 6 5 2 6 0 0 2 2 6 1 2 8\n",
      " 8 6 2 9 6 2 0 6 8 8 1 8 2 0 2 6 6 8 0 6 2 6 0 6 8 0 2 1 2 8 9 1 6 6 0 8 2\n",
      " 1 5 6 1 6 0 2 2 2 6 1 2 0 8 6 2 9 6 0 2 9 8 8 1 8 5 8 0 6 8 8 6 6 6 2 2 8\n",
      " 2 2 1 2 8]\n"
     ]
    }
   ],
   "source": [
    "print(y_pred)"
   ]
  },
  {
   "cell_type": "code",
   "execution_count": null,
   "metadata": {},
   "outputs": [
    {
     "data": {
      "text/plain": [
       "<matplotlib.axes._subplots.AxesSubplot at 0x1a257a2b70>"
      ]
     },
     "execution_count": 24,
     "metadata": {},
     "output_type": "execute_result"
    },
    {
     "data": {
      "image/png": "[encoded data removed]",
      "text/plain": [
       "<Figure size 432x288 with 1 Axes>"
      ]
     },
     "metadata": {
      "needs_background": "light"
     },
     "output_type": "display_data"
    }
   ],
   "source": [
    "sns.scatterplot('avg_total_revenue', 'AVG_MATH_4_SCORE' , hue=y_pred.astype(np.int), data=df1, \\\n",
    "                legend='full', palette=\"Paired\")"
   ]
  },
  {
   "cell_type": "code",
   "execution_count": null,
   "metadata": {},
   "outputs": [
    {
     "name": "stdout",
     "output_type": "stream",
     "text": [
      "(1214, 30)\n",
      "(412, 30)\n"
     ]
    }
   ],
   "source": [
    "# Affinity Propagation Clustering\n",
    "\n",
    "from sklearn.cluster import AffinityPropagation\n",
    "# df.drop(['AVG_MATH_4_SCORE'], axis=1)\n",
    "print(df.shape)\n",
    "print(df.dropna(axis=0).shape)\n",
    "\n",
    "df1 = df.dropna(axis=0)\n",
    "df1 = pd.get_dummies(df1, columns=['STATE'])\n",
    "drop_cols = ['PRIMARY_KEY', 'YEAR', 'ENROLL', \\\n",
    "             'TOTAL_REVENUE', 'FEDERAL_REVENUE', 'STATE_REVENUE', 'LOCAL_REVENUE', \\\n",
    "             'TOTAL_EXPENDITURE', 'INSTRUCTION_EXPENDITURE', 'SUPPORT_SERVICES_EXPENDITURE', 'OTHER_EXPENDITURE', \\\n",
    "             'CAPITAL_OUTLAY_EXPENDITURE', \\\n",
    "             'GRADES_PK_G', 'GRADES_KG_G', 'GRADES_4_G', 'GRADES_8_G', 'GRADES_12_G', \\\n",
    "             'GRADES_1_8_G', 'GRADES_9_12_G', 'GRADES_ALL_G']\n",
    "df1 = df1.drop(drop_cols, axis=1)\n",
    "\n",
    "aff_prop = AffinityPropagation()\n",
    "y_aff_prop = aff_prop.fit_predict(df1)"
   ]
  },
  {
   "cell_type": "code",
   "execution_count": null,
   "metadata": {},
   "outputs": [],
   "source": [
    "aff_prop.cluster_centers_\n",
    "centers = pd.DataFrame(data=aff_prop.cluster_centers_, columns=df1.columns)\n",
    "# centers.sort_values('AVG_MATH_4_SCORE')"
   ]
  },
  {
   "cell_type": "code",
   "execution_count": null,
   "metadata": {},
   "outputs": [
    {
     "data": {
      "text/plain": [
       "<matplotlib.axes._subplots.AxesSubplot at 0x10fbac128>"
      ]
     },
     "execution_count": 27,
     "metadata": {},
     "output_type": "execute_result"
    },
    {
     "data": {
      "image/png": "[encoded data removed]",
      "text/plain": [
       "<Figure size 432x288 with 1 Axes>"
      ]
     },
     "metadata": {
      "needs_background": "light"
     },
     "output_type": "display_data"
    }
   ],
   "source": [
    "sns.scatterplot('avg_total_revenue', 'AVG_MATH_4_SCORE' , hue=y_aff_prop.astype(np.int), data=df1, \\\n",
    "                legend='full', palette=\"Paired\")"
   ]
  },
  {
   "cell_type": "code",
   "execution_count": null,
   "metadata": {},
   "outputs": [],
   "source": []
  },
  {
   "cell_type": "code",
   "execution_count": null,
   "metadata": {},
   "outputs": [
    {
     "name": "stdout",
     "output_type": "stream",
     "text": [
      "PCA(copy=True, iterated_power='auto', n_components=None, random_state=None,\n",
      "  svd_solver='auto', tol=0.0, whiten=False)\n",
      "(1214, 30)\n",
      "(412, 30)\n"
     ]
    },
    {
     "data": {
      "text/plain": [
       "PCA(copy=True, iterated_power='auto', n_components=None, random_state=None,\n",
       "  svd_solver='auto', tol=0.0, whiten=False)"
      ]
     },
     "execution_count": 28,
     "metadata": {},
     "output_type": "execute_result"
    }
   ],
   "source": [
    "# PCA\n",
    "\n",
    "from sklearn.decomposition import PCA\n",
    "pca = PCA()\n",
    "print(pca)\n",
    "\n",
    "print(df.shape)\n",
    "print(df.dropna(axis=0).shape)\n",
    "\n",
    "df1 = df.dropna(axis=0)\n",
    "df1 = pd.get_dummies(df1, columns=['STATE'])\n",
    "drop_cols = ['PRIMARY_KEY', 'YEAR', 'ENROLL', \\\n",
    "             'TOTAL_REVENUE', 'FEDERAL_REVENUE', 'STATE_REVENUE', 'LOCAL_REVENUE', \\\n",
    "             'TOTAL_EXPENDITURE', 'INSTRUCTION_EXPENDITURE', 'SUPPORT_SERVICES_EXPENDITURE', 'OTHER_EXPENDITURE', \\\n",
    "             'CAPITAL_OUTLAY_EXPENDITURE', \\\n",
    "             'GRADES_PK_G', 'GRADES_KG_G', 'GRADES_4_G', 'GRADES_8_G', 'GRADES_12_G', \\\n",
    "             'GRADES_1_8_G', 'GRADES_9_12_G', 'GRADES_ALL_G']\n",
    "df1 = df1.drop(drop_cols, axis=1)\n",
    "df1 = df1.drop('AVG_MATH_4_SCORE', axis=1)\n",
    "pca.fit(df1)"
   ]
  },
  {
   "cell_type": "code",
   "execution_count": null,
   "metadata": {},
   "outputs": [
    {
     "data": {
      "text/plain": [
       "Text(0, 0.5, 'Explained Variance')"
      ]
     },
     "execution_count": 29,
     "metadata": {},
     "output_type": "execute_result"
    },
    {
     "data": {
      "image/png": "[encoded data removed]",
      "text/plain": [
       "<Figure size 432x288 with 1 Axes>"
      ]
     },
     "metadata": {
      "needs_background": "light"
     },
     "output_type": "display_data"
    }
   ],
   "source": [
    "ax = sns.barplot(x=np.arange(20), y=pca.explained_variance_[0:20]/sum(pca.explained_variance_[0:20]))\n",
    "ax.set_xlabel('Principal Component')\n",
    "ax.set_ylabel('Explained Variance')"
   ]
  },
  {
   "cell_type": "code",
   "execution_count": null,
   "metadata": {},
   "outputs": [
    {
     "data": {
      "text/plain": [
       "<matplotlib.axes._subplots.AxesSubplot at 0x1a251bb940>"
      ]
     },
     "execution_count": 30,
     "metadata": {},
     "output_type": "execute_result"
    },
    {
     "data": {
      "image/png": "[encoded data removed]",
      "text/plain": [
       "<Figure size 576x576 with 4 Axes>"
      ]
     },
     "metadata": {
      "needs_background": "light"
     },
     "output_type": "display_data"
    }
   ],
   "source": [
    "X_pca = pca.fit(df1).transform(df1)\n",
    "plt.figure(figsize=(8,8))\n",
    "plt.subplot(2,2,1)\n",
    "sns.scatterplot(X_pca[:,0], X_pca[:,1])\n",
    "plt.subplot(2,2,2)\n",
    "sns.scatterplot(X_pca[:,2], X_pca[:,3])\n",
    "plt.subplot(2,2,3)\n",
    "sns.scatterplot(X_pca[:,4], X_pca[:,5])\n",
    "plt.subplot(2,2,4)\n",
    "sns.scatterplot(X_pca[:,6], X_pca[:,7])"
   ]
  },
  {
   "cell_type": "code",
   "execution_count": null,
   "metadata": {},
   "outputs": [],
   "source": []
  },
  {
   "cell_type": "code",
   "execution_count": null,
   "metadata": {},
   "outputs": [
    {
     "data": {
      "text/plain": [
       "'g = sns.FacetGrid(df, row=\"STATE\") \\ng.map(plt.scatter, \\'YEAR\\', \\'AVG_MATH_4_SCORE\\')'"
      ]
     },
     "execution_count": 31,
     "metadata": {},
     "output_type": "execute_result"
    }
   ],
   "source": [
    "\"\"\"g = sns.FacetGrid(df, row=\"STATE\") \n",
    "g.map(plt.scatter, 'YEAR', 'AVG_MATH_4_SCORE')\"\"\""
   ]
  },
  {
   "cell_type": "code",
   "execution_count": null,
   "metadata": {},
   "outputs": [
    {
     "data": {
      "image/png": "[encoded data removed]",
      "text/plain": [
       "<Figure size 517.75x360 with 1 Axes>"
      ]
     },
     "metadata": {
      "needs_background": "light"
     },
     "output_type": "display_data"
    }
   ],
   "source": [
    "sns.lmplot(x=\"YEAR\", y=\"AVG_MATH_4_SCORE\", hue=\"STATE\", data=df.dropna(), legend_out=True);"
   ]
  },
  {
   "cell_type": "code",
   "execution_count": null,
   "metadata": {},
   "outputs": [],
   "source": []
  },
  {
   "cell_type": "code",
   "execution_count": null,
   "metadata": {},
   "outputs": [],
   "source": []
  },
  {
   "cell_type": "code",
   "execution_count": null,
   "metadata": {},
   "outputs": [
    {
     "data": {
      "image/png": "[encoded data removed]",
      "text/plain": [
       "<Figure size 432x288 with 1 Axes>"
      ]
     },
     "metadata": {
      "needs_background": "light"
     },
     "output_type": "display_data"
    },
    {
     "data": {
      "text/plain": [
       "<matplotlib.axes._subplots.AxesSubplot at 0x1a25889240>"
      ]
     },
     "execution_count": 33,
     "metadata": {},
     "output_type": "execute_result"
    },
    {
     "data": {
      "image/png": "[encoded data removed]",
      "text/plain": [
       "<Figure size 432x288 with 1 Axes>"
      ]
     },
     "metadata": {
      "needs_background": "light"
     },
     "output_type": "display_data"
    }
   ],
   "source": [
    "df['AVG_MATH_4_SCORE'].dropna().hist(density=True, cumulative=True)\n",
    "plt.show()\n",
    "df['AVG_MATH_4_SCORE'].dropna().hist()"
   ]
  },
  {
   "cell_type": "code",
   "execution_count": null,
   "metadata": {},
   "outputs": [
    {
     "data": {
      "text/plain": [
       "<seaborn.axisgrid.JointGrid at 0x1a259c4438>"
      ]
     },
     "execution_count": 34,
     "metadata": {},
     "output_type": "execute_result"
    },
    {
     "data": {
      "image/png": "[encoded data removed]",
      "text/plain": [
       "<Figure size 432x432 with 3 Axes>"
      ]
     },
     "metadata": {
      "needs_background": "light"
     },
     "output_type": "display_data"
    },
    {
     "data": {
      "image/png": "[encoded data removed]",
      "text/plain": [
       "<Figure size 432x432 with 3 Axes>"
      ]
     },
     "metadata": {
      "needs_background": "light"
     },
     "output_type": "display_data"
    }
   ],
   "source": [
    "sns.jointplot(\"YEAR\", \"AVG_MATH_4_SCORE\", data=df, kind=\"reg\")\n",
    "sns.jointplot(\"YEAR\", \"AVG_READING_4_SCORE\", data=df, kind=\"reg\")"
   ]
  },
  {
   "cell_type": "code",
   "execution_count": null,
   "metadata": {},
   "outputs": [
    {
     "data": {
      "text/plain": [
       "<seaborn.axisgrid.JointGrid at 0x1a27644d68>"
      ]
     },
     "execution_count": 35,
     "metadata": {},
     "output_type": "execute_result"
    },
    {
     "data": {
      "image/png": "[encoded data removed]",
      "text/plain": [
       "<Figure size 432x432 with 3 Axes>"
      ]
     },
     "metadata": {
      "needs_background": "light"
     },
     "output_type": "display_data"
    }
   ],
   "source": [
    "sns.jointplot(\"avg_total_revenue\", \"AVG_READING_4_SCORE\", data=df, kind=\"reg\")"
   ]
  },
  {
   "cell_type": "code",
   "execution_count": null,
   "metadata": {},
   "outputs": [
    {
     "data": {
      "text/plain": [
       "<seaborn.axisgrid.JointGrid at 0x1a27a73be0>"
      ]
     },
     "execution_count": 36,
     "metadata": {},
     "output_type": "execute_result"
    },
    {
     "data": {
      "image/png": "[encoded data removed]",
      "text/plain": [
       "<Figure size 432x432 with 3 Axes>"
      ]
     },
     "metadata": {
      "needs_background": "light"
     },
     "output_type": "display_data"
    }
   ],
   "source": [
    "sns.jointplot(\"avg_total_expenditure\", \"AVG_MATH_4_SCORE\", data=df, kind=\"reg\")"
   ]
  },
  {
   "cell_type": "code",
   "execution_count": null,
   "metadata": {},
   "outputs": [
    {
     "data": {
      "text/plain": [
       "<seaborn.axisgrid.JointGrid at 0x1a27d9ca20>"
      ]
     },
     "execution_count": 37,
     "metadata": {},
     "output_type": "execute_result"
    },
    {
     "data": {
      "image/png": "[encoded data removed]",
      "text/plain": [
       "<Figure size 432x432 with 3 Axes>"
      ]
     },
     "metadata": {
      "needs_background": "light"
     },
     "output_type": "display_data"
    }
   ],
   "source": [
    "sns.jointplot(\"AVG_READING_4_SCORE\", \"AVG_MATH_4_SCORE\", data=df, kind=\"reg\")"
   ]
  },
  {
   "cell_type": "code",
   "execution_count": null,
   "metadata": {},
   "outputs": [
    {
     "data": {
      "text/plain": [
       "<seaborn.axisgrid.JointGrid at 0x1a27661c50>"
      ]
     },
     "execution_count": 38,
     "metadata": {},
     "output_type": "execute_result"
    },
    {
     "data": {
      "image/png": "[encoded data removed]",
      "text/plain": [
       "<Figure size 432x432 with 3 Axes>"
      ]
     },
     "metadata": {
      "needs_background": "light"
     },
     "output_type": "display_data"
    }
   ],
   "source": [
    "sns.jointplot(\"AVG_MATH_8_SCORE\", \"AVG_MATH_4_SCORE\", data=df, kind=\"reg\")"
   ]
  },
  {
   "cell_type": "code",
   "execution_count": null,
   "metadata": {},
   "outputs": [
    {
     "name": "stdout",
     "output_type": "stream",
     "text": [
      "Index(['STATE', 'YEAR', 'TOTAL_REVENUE', 'FEDERAL_REVENUE', 'STATE_REVENUE',\n",
      "       'LOCAL_REVENUE', 'TOTAL_EXPENDITURE', 'INSTRUCTION_EXPENDITURE',\n",
      "       'SUPPORT_SERVICES_EXPENDITURE', 'OTHER_EXPENDITURE',\n",
      "       'CAPITAL_OUTLAY_EXPENDITURE', 'GRADES_PK_G', 'GRADES_KG_G',\n",
      "       'GRADES_4_G', 'GRADES_8_G', 'GRADES_12_G', 'GRADES_1_8_G',\n",
      "       'GRADES_9_12_G', 'GRADES_ALL_G', 'AVG_MATH_4_SCORE',\n",
      "       'avg_total_revenue', 'fracn_schoolage', 'rev_per_person', 'exp_per_rev',\n",
      "       'avg_total_expenditure'],\n",
      "      dtype='object')\n",
      "TimeSeriesSplit(max_train_size=None, n_splits=5)\n"
     ]
    },
    {
     "data": {
      "text/plain": [
       "'\\nPredefinedSplit won\\'t work because it folds in future data\\n\\ntest_fold = df1.loc[:,\\'YEAR\\'].values\\nps = PredefinedSplit(test_fold)\\nprint(ps.get_n_splits())\\nfor train_index, test_index in ps.split():\\n    print(\"Train:\", train_index, \"Test:\", test_index)\\n    X_train, X_test = X[train_index], X[test_index]\\n    y_train, y_test = y[train_index], y[test_index]    \\n'"
      ]
     },
     "execution_count": 39,
     "metadata": {},
     "output_type": "execute_result"
    }
   ],
   "source": [
    "df1=df.drop(['PRIMARY_KEY','AVG_MATH_8_SCORE','AVG_READING_4_SCORE','AVG_READING_8_SCORE','ENROLL'],axis=1)\n",
    "df1 = df1.dropna()\n",
    "print(df1.columns)\n",
    "df1 = pd.get_dummies(df1, columns=['STATE'])\n",
    "\n",
    "y=df1.loc[:,'AVG_MATH_4_SCORE'].values\n",
    "X=df1.drop(['AVG_MATH_4_SCORE'],axis=1).loc[:,:].values\n",
    "X_cols=df1.drop(['AVG_MATH_4_SCORE'],axis=1).columns\n",
    "\n",
    "ts_cv = TimeSeriesSplit(n_splits=5)\n",
    "print(ts_cv)\n",
    "for train_index, test_index in ts_cv.split(X):\n",
    "    X_train, X_test = X[train_index], X[test_index]\n",
    "    y_train, y_test = y[train_index], y[test_index]\n",
    "\n",
    "\"\"\"\n",
    "PredefinedSplit won't work because it folds in future data\n",
    "\n",
    "test_fold = df1.loc[:,'YEAR'].values\n",
    "ps = PredefinedSplit(test_fold)\n",
    "print(ps.get_n_splits())\n",
    "for train_index, test_index in ps.split():\n",
    "    print(\"Train:\", train_index, \"Test:\", test_index)\n",
    "    X_train, X_test = X[train_index], X[test_index]\n",
    "    y_train, y_test = y[train_index], y[test_index]    \n",
    "\"\"\""
   ]
  },
  {
   "cell_type": "code",
   "execution_count": null,
   "metadata": {},
   "outputs": [],
   "source": [
    "n_splits=20\n",
    "ts_cv = TimeSeriesSplit(n_splits=n_splits)\n",
    "rf_model = RandomForestRegressor(n_estimators=100, n_jobs=-1)\n",
    "\n",
    "index=0\n",
    "train_score = np.zeros(n_splits)\n",
    "test_score = np.zeros(n_splits)\n",
    "\n",
    "for train_index, test_index in ts_cv.split(X):\n",
    "    X_train, X_test = X[train_index], X[test_index]\n",
    "    y_train, y_test = y[train_index], y[test_index]   \n",
    "    \n",
    "    rf_model.fit(X_train, y_train) \n",
    "    Y_rf=rf_model.predict(X_test)\n",
    "    train_score[index]=rf_model.score(X_train,y_train) #Train score\n",
    "    test_score[index]=rf_model.score(X_test,y_test) #Test score\n",
    "    index+=1\n",
    "index_list=np.arange(index)"
   ]
  },
  {
   "cell_type": "code",
   "execution_count": null,
   "metadata": {},
   "outputs": [
    {
     "name": "stdout",
     "output_type": "stream",
     "text": [
      "20\n",
      "[ 0  1  2  3  4  5  6  7  8  9 10 11 12 13 14 15 16 17 18 19]\n",
      "[0.8335416  0.9049675  0.92194601 0.92737058 0.9370793  0.92476602\n",
      " 0.94422681 0.94329068 0.9556568  0.95337789 0.96206906 0.96569192\n",
      " 0.96293084 0.9646818  0.96827845 0.96716817 0.96768137 0.96920153\n",
      " 0.96874192 0.97137868]\n",
      "[ 0.58463001  0.15532376  0.02652071 -0.71125942 -0.36887963  0.67470661\n",
      " -0.01676343  0.57291018  0.43572159  0.23159542  0.56335989  0.48239802\n",
      "  0.67233753  0.74960979  0.49114806  0.43045864  0.75194495  0.59523539\n",
      "  0.74226157  0.61192976]\n"
     ]
    }
   ],
   "source": [
    "print(index)\n",
    "print(index_list)\n",
    "print(train_score)\n",
    "print(test_score)"
   ]
  },
  {
   "cell_type": "code",
   "execution_count": null,
   "metadata": {},
   "outputs": [
    {
     "data": {
      "text/plain": [
       "<matplotlib.legend.Legend at 0x1a2581ef98>"
      ]
     },
     "execution_count": 42,
     "metadata": {},
     "output_type": "execute_result"
    },
    {
     "data": {
      "image/png": "[encoded data removed]",
      "text/plain": [
       "<Figure size 432x288 with 1 Axes>"
      ]
     },
     "metadata": {
      "needs_background": "light"
     },
     "output_type": "display_data"
    }
   ],
   "source": [
    "plt.plot(index_list,train_score,'o', label=\"Train\")\n",
    "plt.plot(index_list,test_score,'o', label=\"Test\")\n",
    "plt.xlabel(\"Split\")\n",
    "plt.ylabel(\"R^2 Score\")\n",
    "plt.legend(loc=\"best\")"
   ]
  },
  {
   "cell_type": "code",
   "execution_count": null,
   "metadata": {},
   "outputs": [],
   "source": [
    "model=RandomForestRegressor()\n",
    "\n",
    "num_splits=30\n",
    "ts_cv=TimeSeriesSplit(n_splits=num_splits) #.split(X)\n",
    "\n",
    "\"\"\"\n",
    "param_search = [\n",
    "  {'n_estimators': [1, 10, 20, 100]}\n",
    "]\n",
    "gsrch_rf_model=GridSearchCV(estimator=model, param_grid=param_search, cv=ts_cv, n_jobs=-1)\n",
    "gsrch_rf_model.fit(X,y)\n",
    "\"\"\"\n",
    "\n",
    "#train_sizes, train_scores, test_scores = \\\n",
    "#    learning_curve(estimator=model, X=X, y=y, train_sizes=np.linspace(0.1,1.0,num=10), cv=ts_cv, n_jobs=-1)\n",
    "\n",
    "param_range=[4,5,6,7,8,9,10,20,30,40,50,60]\n",
    "train_scores_vc, test_scores_vc = \\\n",
    "    validation_curve(estimator=model, X=X, y=y, param_name=\"n_estimators\", param_range=param_range, cv=ts_cv, n_jobs=-1)"
   ]
  },
  {
   "cell_type": "code",
   "execution_count": null,
   "metadata": {},
   "outputs": [
    {
     "data": {
      "text/plain": [
       "<matplotlib.legend.Legend at 0x1a2748bc88>"
      ]
     },
     "execution_count": 44,
     "metadata": {},
     "output_type": "execute_result"
    },
    {
     "data": {
      "image/png": "[encoded data removed]",
      "text/plain": [
       "<Figure size 432x288 with 1 Axes>"
      ]
     },
     "metadata": {
      "needs_background": "light"
     },
     "output_type": "display_data"
    }
   ],
   "source": [
    "train_scores_mean = np.mean(train_scores_vc, axis=1)\n",
    "train_scores_std = np.std(train_scores_vc, axis=1)\n",
    "test_scores_mean = np.mean(test_scores_vc, axis=1)\n",
    "test_scores_std = np.std(test_scores_vc, axis=1)\n",
    "\n",
    "plt.figure()\n",
    "plt.plot(param_range,train_scores_mean,'o',label=\"Train\")\n",
    "plt.plot(param_range,test_scores_mean,'o',label=\"Test\")\n",
    "plt.xlabel(\"n_estimators\")\n",
    "plt.ylabel(\"Score\")\n",
    "plt.title(\"Validation Curves\")\n",
    "plt.legend(loc=\"best\")"
   ]
  },
  {
   "cell_type": "code",
   "execution_count": null,
   "metadata": {},
   "outputs": [
    {
     "name": "stderr",
     "output_type": "stream",
     "text": [
      "/Users/daviderickson/anaconda3/lib/python3.7/site-packages/sklearn/model_selection/_validation.py:1310: RuntimeWarning: Removed duplicate entries from 'train_sizes'. Number of ticks will be less than the size of 'train_sizes' 18 instead of 30).\n",
      "  % (train_sizes_abs.shape[0], n_ticks), RuntimeWarning)\n"
     ]
    }
   ],
   "source": [
    "model=RandomForestRegressor(n_estimators=20)\n",
    "\n",
    "num_splits=30\n",
    "ts_cv=TimeSeriesSplit(n_splits=num_splits) #.split(X)\n",
    "\n",
    "train_sizes, train_scores, test_scores = \\\n",
    "    learning_curve(estimator=model, X=X, y=y, train_sizes=np.linspace(0.1,1.0,num=30), cv=ts_cv, n_jobs=-1)"
   ]
  },
  {
   "cell_type": "code",
   "execution_count": null,
   "metadata": {},
   "outputs": [
    {
     "data": {
      "text/plain": [
       "<matplotlib.legend.Legend at 0x1a2732c2e8>"
      ]
     },
     "execution_count": 46,
     "metadata": {},
     "output_type": "execute_result"
    },
    {
     "data": {
      "image/png": "[encoded data removed]",
      "text/plain": [
       "<Figure size 432x288 with 1 Axes>"
      ]
     },
     "metadata": {
      "needs_background": "light"
     },
     "output_type": "display_data"
    }
   ],
   "source": [
    "plt.figure()\n",
    "plt.plot(train_sizes, -train_scores.mean(1), 'o-', color=\"g\",\n",
    "         label=\"Train\")\n",
    "plt.plot(train_sizes, -test_scores.mean(1), 'o-', color=\"r\",\n",
    "         label=\"Test\")\n",
    "plt.xlabel(\"Train Size\")\n",
    "plt.ylabel(\"Score\")\n",
    "plt.title(\"Learning Curves\")\n",
    "plt.legend(loc=\"best\")"
   ]
  },
  {
   "cell_type": "code",
   "execution_count": null,
   "metadata": {},
   "outputs": [
    {
     "data": {
      "text/plain": [
       "RandomForestRegressor(bootstrap=True, criterion='mse', max_depth=None,\n",
       "           max_features='auto', max_leaf_nodes=None,\n",
       "           min_impurity_decrease=0.0, min_impurity_split=None,\n",
       "           min_samples_leaf=1, min_samples_split=2,\n",
       "           min_weight_fraction_leaf=0.0, n_estimators=100, n_jobs=None,\n",
       "           oob_score=False, random_state=None, verbose=0, warm_start=False)"
      ]
     },
     "execution_count": 47,
     "metadata": {},
     "output_type": "execute_result"
    }
   ],
   "source": [
    "rf_model = RandomForestRegressor(n_estimators=100)\n",
    "rf_model.fit(X, y)  "
   ]
  },
  {
   "cell_type": "code",
   "execution_count": null,
   "metadata": {},
   "outputs": [
    {
     "data": {
      "image/png": "[encoded data removed]",
      "text/plain": [
       "<Figure size 432x288 with 1 Axes>"
      ]
     },
     "metadata": {
      "needs_background": "light"
     },
     "output_type": "display_data"
    }
   ],
   "source": [
    "Y_rf=rf_model.predict(X)\n",
    "plt.plot(Y_rf, y, 'ro')\n",
    "plt.show()"
   ]
  },
  {
   "cell_type": "code",
   "execution_count": null,
   "metadata": {},
   "outputs": [
    {
     "data": {
      "text/plain": [
       "0.9714996038993788"
      ]
     },
     "execution_count": 49,
     "metadata": {},
     "output_type": "execute_result"
    }
   ],
   "source": [
    "rf_model.score(X,y)"
   ]
  },
  {
   "cell_type": "code",
   "execution_count": null,
   "metadata": {},
   "outputs": [
    {
     "data": {
      "text/html": [
       "<div>\n",
       "<style scoped>\n",
       "    .dataframe tbody tr th:only-of-type {\n",
       "        vertical-align: middle;\n",
       "    }\n",
       "\n",
       "    .dataframe tbody tr th {\n",
       "        vertical-align: top;\n",
       "    }\n",
       "\n",
       "    .dataframe thead th {\n",
       "        text-align: right;\n",
       "    }\n",
       "</style>\n",
       "<table border=\"1\" class=\"dataframe\">\n",
       "  <thead>\n",
       "    <tr style=\"text-align: right;\">\n",
       "      <th></th>\n",
       "      <th>importance</th>\n",
       "    </tr>\n",
       "  </thead>\n",
       "  <tbody>\n",
       "    <tr>\n",
       "      <th>YEAR</th>\n",
       "      <td>0.457736</td>\n",
       "    </tr>\n",
       "    <tr>\n",
       "      <th>avg_total_revenue</th>\n",
       "      <td>0.074276</td>\n",
       "    </tr>\n",
       "    <tr>\n",
       "      <th>GRADES_ALL_G</th>\n",
       "      <td>0.047350</td>\n",
       "    </tr>\n",
       "    <tr>\n",
       "      <th>avg_total_expenditure</th>\n",
       "      <td>0.046852</td>\n",
       "    </tr>\n",
       "    <tr>\n",
       "      <th>fracn_schoolage</th>\n",
       "      <td>0.036440</td>\n",
       "    </tr>\n",
       "    <tr>\n",
       "      <th>rev_per_person</th>\n",
       "      <td>0.032988</td>\n",
       "    </tr>\n",
       "    <tr>\n",
       "      <th>GRADES_12_G</th>\n",
       "      <td>0.027006</td>\n",
       "    </tr>\n",
       "    <tr>\n",
       "      <th>FEDERAL_REVENUE</th>\n",
       "      <td>0.018584</td>\n",
       "    </tr>\n",
       "    <tr>\n",
       "      <th>STATE_REVENUE</th>\n",
       "      <td>0.018549</td>\n",
       "    </tr>\n",
       "    <tr>\n",
       "      <th>STATE_DISTRICT_OF_COLUMBIA</th>\n",
       "      <td>0.018071</td>\n",
       "    </tr>\n",
       "  </tbody>\n",
       "</table>\n",
       "</div>"
      ],
      "text/plain": [
       "                            importance\n",
       "YEAR                          0.457736\n",
       "avg_total_revenue             0.074276\n",
       "GRADES_ALL_G                  0.047350\n",
       "avg_total_expenditure         0.046852\n",
       "fracn_schoolage               0.036440\n",
       "rev_per_person                0.032988\n",
       "GRADES_12_G                   0.027006\n",
       "FEDERAL_REVENUE               0.018584\n",
       "STATE_REVENUE                 0.018549\n",
       "STATE_DISTRICT_OF_COLUMBIA    0.018071"
      ]
     },
     "execution_count": 50,
     "metadata": {},
     "output_type": "execute_result"
    }
   ],
   "source": [
    "feature_importances_rf = pd.DataFrame(rf_model.feature_importances_, index = df1.drop(['AVG_MATH_4_SCORE'],axis=1).columns, columns=['importance']).sort_values('importance',ascending=False)\n",
    "feature_importances_rf.head(10)"
   ]
  },
  {
   "cell_type": "code",
   "execution_count": null,
   "metadata": {},
   "outputs": [
    {
     "ename": "ValueError",
     "evalue": "Could not interpret input 'fracn_enroll_GRADES_12_G'",
     "output_type": "error",
     "traceback": [
      "\u001b[0;31m---------------------------------------------------------------------------\u001b[0m",
      "\u001b[0;31mValueError\u001b[0m                                Traceback (most recent call last)",
      "\u001b[0;32m<ipython-input-51-a774c23cf820>\u001b[0m in \u001b[0;36m<module>\u001b[0;34m\u001b[0m\n\u001b[1;32m      1\u001b[0m \u001b[0msns\u001b[0m\u001b[0;34m.\u001b[0m\u001b[0mjointplot\u001b[0m\u001b[0;34m(\u001b[0m\u001b[0mx\u001b[0m\u001b[0;34m=\u001b[0m\u001b[0;34m'YEAR'\u001b[0m\u001b[0;34m,\u001b[0m \u001b[0my\u001b[0m\u001b[0;34m=\u001b[0m\u001b[0;34m'AVG_MATH_4_SCORE'\u001b[0m\u001b[0;34m,\u001b[0m \u001b[0mdata\u001b[0m\u001b[0;34m=\u001b[0m\u001b[0mdf\u001b[0m\u001b[0;34m,\u001b[0m \u001b[0mkind\u001b[0m\u001b[0;34m=\u001b[0m\u001b[0;34m'reg'\u001b[0m\u001b[0;34m)\u001b[0m\u001b[0;34m\u001b[0m\u001b[0;34m\u001b[0m\u001b[0m\n\u001b[0;32m----> 2\u001b[0;31m \u001b[0msns\u001b[0m\u001b[0;34m.\u001b[0m\u001b[0mjointplot\u001b[0m\u001b[0;34m(\u001b[0m\u001b[0mx\u001b[0m\u001b[0;34m=\u001b[0m\u001b[0;34m'fracn_enroll_GRADES_12_G'\u001b[0m\u001b[0;34m,\u001b[0m \u001b[0my\u001b[0m\u001b[0;34m=\u001b[0m\u001b[0;34m'AVG_MATH_4_SCORE'\u001b[0m\u001b[0;34m,\u001b[0m \u001b[0mdata\u001b[0m\u001b[0;34m=\u001b[0m\u001b[0mdf\u001b[0m\u001b[0;34m,\u001b[0m \u001b[0mkind\u001b[0m\u001b[0;34m=\u001b[0m\u001b[0;34m'reg'\u001b[0m\u001b[0;34m)\u001b[0m\u001b[0;34m\u001b[0m\u001b[0;34m\u001b[0m\u001b[0m\n\u001b[0m\u001b[1;32m      3\u001b[0m \u001b[0msns\u001b[0m\u001b[0;34m.\u001b[0m\u001b[0mjointplot\u001b[0m\u001b[0;34m(\u001b[0m\u001b[0mx\u001b[0m\u001b[0;34m=\u001b[0m\u001b[0;34m'fracn_rev_FEDERAL_REVENUE'\u001b[0m\u001b[0;34m,\u001b[0m \u001b[0my\u001b[0m\u001b[0;34m=\u001b[0m\u001b[0;34m'AVG_MATH_4_SCORE'\u001b[0m\u001b[0;34m,\u001b[0m \u001b[0mdata\u001b[0m\u001b[0;34m=\u001b[0m\u001b[0mdf\u001b[0m\u001b[0;34m,\u001b[0m \u001b[0mkind\u001b[0m\u001b[0;34m=\u001b[0m\u001b[0;34m'reg'\u001b[0m\u001b[0;34m)\u001b[0m\u001b[0;34m\u001b[0m\u001b[0;34m\u001b[0m\u001b[0m\n",
      "\u001b[0;32m~/anaconda3/lib/python3.7/site-packages/seaborn/axisgrid.py\u001b[0m in \u001b[0;36mjointplot\u001b[0;34m(x, y, data, kind, stat_func, color, height, ratio, space, dropna, xlim, ylim, joint_kws, marginal_kws, annot_kws, **kwargs)\u001b[0m\n\u001b[1;32m   2282\u001b[0m     grid = JointGrid(x, y, data, dropna=dropna,\n\u001b[1;32m   2283\u001b[0m                      \u001b[0mheight\u001b[0m\u001b[0;34m=\u001b[0m\u001b[0mheight\u001b[0m\u001b[0;34m,\u001b[0m \u001b[0mratio\u001b[0m\u001b[0;34m=\u001b[0m\u001b[0mratio\u001b[0m\u001b[0;34m,\u001b[0m \u001b[0mspace\u001b[0m\u001b[0;34m=\u001b[0m\u001b[0mspace\u001b[0m\u001b[0;34m,\u001b[0m\u001b[0;34m\u001b[0m\u001b[0;34m\u001b[0m\u001b[0m\n\u001b[0;32m-> 2284\u001b[0;31m                      xlim=xlim, ylim=ylim)\n\u001b[0m\u001b[1;32m   2285\u001b[0m \u001b[0;34m\u001b[0m\u001b[0m\n\u001b[1;32m   2286\u001b[0m     \u001b[0;31m# Plot the data using the grid\u001b[0m\u001b[0;34m\u001b[0m\u001b[0;34m\u001b[0m\u001b[0;34m\u001b[0m\u001b[0m\n",
      "\u001b[0;32m~/anaconda3/lib/python3.7/site-packages/seaborn/axisgrid.py\u001b[0m in \u001b[0;36m__init__\u001b[0;34m(self, x, y, data, height, ratio, space, dropna, xlim, ylim, size)\u001b[0m\n\u001b[1;32m   1707\u001b[0m             \u001b[0;32mif\u001b[0m \u001b[0misinstance\u001b[0m\u001b[0;34m(\u001b[0m\u001b[0mvar\u001b[0m\u001b[0;34m,\u001b[0m \u001b[0mstring_types\u001b[0m\u001b[0;34m)\u001b[0m\u001b[0;34m:\u001b[0m\u001b[0;34m\u001b[0m\u001b[0;34m\u001b[0m\u001b[0m\n\u001b[1;32m   1708\u001b[0m                 \u001b[0merr\u001b[0m \u001b[0;34m=\u001b[0m \u001b[0;34m\"Could not interpret input '{}'\"\u001b[0m\u001b[0;34m.\u001b[0m\u001b[0mformat\u001b[0m\u001b[0;34m(\u001b[0m\u001b[0mvar\u001b[0m\u001b[0;34m)\u001b[0m\u001b[0;34m\u001b[0m\u001b[0;34m\u001b[0m\u001b[0m\n\u001b[0;32m-> 1709\u001b[0;31m                 \u001b[0;32mraise\u001b[0m \u001b[0mValueError\u001b[0m\u001b[0;34m(\u001b[0m\u001b[0merr\u001b[0m\u001b[0;34m)\u001b[0m\u001b[0;34m\u001b[0m\u001b[0;34m\u001b[0m\u001b[0m\n\u001b[0m\u001b[1;32m   1710\u001b[0m \u001b[0;34m\u001b[0m\u001b[0m\n\u001b[1;32m   1711\u001b[0m         \u001b[0;31m# Find the names of the variables\u001b[0m\u001b[0;34m\u001b[0m\u001b[0;34m\u001b[0m\u001b[0;34m\u001b[0m\u001b[0m\n",
      "\u001b[0;31mValueError\u001b[0m: Could not interpret input 'fracn_enroll_GRADES_12_G'"
     ]
    }
   ],
   "source": [
    "sns.jointplot(x='YEAR', y='AVG_MATH_4_SCORE', data=df, kind='reg')\n",
    "sns.jointplot(x='fracn_enroll_GRADES_12_G', y='AVG_MATH_4_SCORE', data=df, kind='reg')\n",
    "sns.jointplot(x='fracn_rev_FEDERAL_REVENUE', y='AVG_MATH_4_SCORE', data=df, kind='reg')"
   ]
  },
  {
   "cell_type": "code",
   "execution_count": null,
   "metadata": {},
   "outputs": [],
   "source": []
  },
  {
   "cell_type": "code",
   "execution_count": null,
   "metadata": {},
   "outputs": [],
   "source": [
    "from sklearn import svm\n",
    "svm_model = svm.SVR(gamma='scale')\n",
    "svm_model.fit(X, y)  "
   ]
  },
  {
   "cell_type": "code",
   "execution_count": null,
   "metadata": {},
   "outputs": [],
   "source": [
    "Y_svm=svm_model.predict(X)\n",
    "plt.plot(Y_svm, y, 'ro')\n",
    "plt.show()"
   ]
  },
  {
   "cell_type": "markdown",
   "metadata": {},
   "source": [
    "# Lasso"
   ]
  },
  {
   "cell_type": "code",
   "execution_count": null,
   "metadata": {},
   "outputs": [],
   "source": [
    "model=linear_model.Lasso(normalize=True)\n",
    "param_search = [\n",
    "  {'alpha': [0.00001,0.0001,0.001,0.01,0.1,1]}\n",
    " ]\n",
    "\n",
    "num_splits=30\n",
    "ts_cv=TimeSeriesSplit(n_splits=num_splits) #.split(X)\n",
    "\n",
    "#gsrch_rf_model=GridSearchCV(estimator=model, param_grid=param_search, cv=ts_cv, n_jobs=-1)\n",
    "#gsrch_rf_model.fit(X,y)\n",
    "\n",
    "#train_sizes, train_scores, test_scores = \\\n",
    "#    learning_curve(estimator=model, X=X, y=y, train_sizes=np.linspace(0.1,1.0,num=10), cv=ts_cv, n_jobs=-1)\n",
    "\n",
    "param_range=[0.00001,0.0001,0.001,0.005,0.01,0.02,0.05,0.1,0.2,0.3,0.5,1]\n",
    "train_scores_vc, test_scores_vc = \\\n",
    "    validation_curve(estimator=model, X=X, y=y, param_name=\"alpha\", param_range=param_range, cv=ts_cv, n_jobs=-1)\n",
    "\n",
    "train_scores_mean = np.mean(train_scores_vc, axis=1)\n",
    "train_scores_std = np.std(train_scores_vc, axis=1)\n",
    "test_scores_mean = np.mean(test_scores_vc, axis=1)\n",
    "test_scores_std = np.std(test_scores_vc, axis=1)\n",
    "\n",
    "plt.figure()\n",
    "plt.semilogx(param_range,train_scores_mean,'o',label=\"Train\")\n",
    "plt.semilogx(param_range,test_scores_mean,'o',label=\"Test\")\n",
    "plt.semilogx(param_range,test_scores_mean,label=\"Test_curve\")\n",
    "plt.xlabel(\"alpha\")\n",
    "plt.ylabel(\"Score\")\n",
    "plt.title(\"Validation Curves\")\n",
    "plt.legend(loc=\"best\")"
   ]
  },
  {
   "cell_type": "code",
   "execution_count": null,
   "metadata": {},
   "outputs": [],
   "source": [
    "lasso_best_alpha = 0.1"
   ]
  },
  {
   "cell_type": "code",
   "execution_count": null,
   "metadata": {},
   "outputs": [],
   "source": [
    "model=linear_model.Lasso(alpha=lasso_best_alpha, normalize=True)\n",
    "#lasso_model.fit(X, y)  \n",
    "#Y_lasso=lasso_model.predict(X)\n",
    "\n",
    "num_splits=5\n",
    "ts_cv=TimeSeriesSplit(n_splits=num_splits) #.split(X)\n",
    "\n",
    "train_sizes, train_scores, test_scores = \\\n",
    "    learning_curve(estimator=model, X=X, y=y, train_sizes=np.linspace(0.1,1.0,num=30), cv=ts_cv, n_jobs=-1)\n",
    "\n",
    "print(train_sizes.shape,train_scores.shape, test_scores.shape)\n",
    "\n",
    "train_scores_mean = np.mean(train_scores, axis=1)\n",
    "train_scores_std = np.std(train_scores, axis=1)\n",
    "test_scores_mean = np.mean(test_scores, axis=1)\n",
    "test_scores_std = np.std(test_scores, axis=1)\n",
    "\n",
    "plt.figure()\n",
    "plt.plot(train_sizes,train_scores_mean,'o',label=\"Train\")\n",
    "plt.plot(train_sizes,test_scores_mean,'o',label=\"Test\")\n",
    "plt.xlabel(\"Train Sizes\")\n",
    "plt.ylabel(\"Score\")\n",
    "plt.title(\"Learning Curves\")\n",
    "plt.legend(loc=\"best\")"
   ]
  },
  {
   "cell_type": "code",
   "execution_count": null,
   "metadata": {},
   "outputs": [],
   "source": [
    "\"\"\"Plot test data fit\"\"\""
   ]
  },
  {
   "cell_type": "code",
   "execution_count": null,
   "metadata": {},
   "outputs": [],
   "source": [
    "\n",
    "lasso_model=linear_model.Lasso(alpha=lasso_best_alpha, normalize=True)\n",
    "lasso_model.fit(X, y)  \n",
    "Y_lasso=lasso_model.predict(X)\n",
    "plt.plot(Y_lasso, y, 'ro')\n",
    "\n",
    "# Generated linear fit\n",
    "slope, intercept, r_value, p_value, std_err = stats.linregress(Y_lasso,y)\n",
    "line = slope*Y_lasso+intercept\n",
    "\n",
    "plt.plot(Y_lasso,y,'o',Y_lasso,line,Y_lasso,Y_lasso)\n",
    "plt.legend((\"y\",\"fit_lasso\",\"y=x\"),loc='best')\n",
    "plt.xlabel(\"Y_lasso\")\n",
    "plt.ylabel(\"y\")"
   ]
  },
  {
   "cell_type": "code",
   "execution_count": null,
   "metadata": {},
   "outputs": [],
   "source": [
    "lasso_coef_ = lasso_model.coef_\n",
    "print(X_cols.shape)\n",
    "#print(X_cols)\n",
    "print(lasso_coef_.shape)\n",
    "print(np.round(lasso_coef_))\n",
    "#print(lasso_coef_)\n",
    "X_cols[np.abs(lasso_coef_)>10]\n",
    "\n",
    "sorted(zip(lasso_coef_.round(), X_cols))"
   ]
  },
  {
   "cell_type": "code",
   "execution_count": null,
   "metadata": {},
   "outputs": [],
   "source": [
    "# Lasso \n",
    "# Validation Curve\n",
    "# Scaled Features\n",
    "\n",
    "scaler=StandardScaler()\n",
    "X_transformed = scaler.fit_transform(X)\n",
    "\n",
    "model=linear_model.Lasso(normalize=True)\n",
    "\n",
    "num_splits=30\n",
    "ts_cv=TimeSeriesSplit(n_splits=num_splits) #.split(X)\n",
    "\n",
    "\"\"\"param_search = [\n",
    "  {'alpha': [0.00001,0.0001,0.001,0.01,0.1,1]}\n",
    " ]\n",
    "\"\"\"\n",
    "#gsrch_rf_model=GridSearchCV(estimator=model, param_grid=param_search, cv=ts_cv, n_jobs=-1)\n",
    "#gsrch_rf_model.fit(X,y)\n",
    "\n",
    "#train_sizes, train_scores, test_scores = \\\n",
    "#    learning_curve(estimator=model, X=X, y=y, train_sizes=np.linspace(0.1,1.0,num=10), cv=ts_cv, n_jobs=-1)\n",
    "\n",
    "param_range=[0.00001,0.0001,0.001,0.005,0.01,0.02,0.05,0.1,0.2,0.3,0.5,1]\n",
    "train_scores_vc, test_scores_vc = \\\n",
    "    validation_curve(estimator=model, X=X_transformed, y=y, param_name=\"alpha\", \\\n",
    "    param_range=param_range, cv=ts_cv, n_jobs=-1)\n",
    "\n",
    "train_scores_mean = np.mean(train_scores_vc, axis=1)\n",
    "train_scores_std = np.std(train_scores_vc, axis=1)\n",
    "test_scores_mean = np.mean(test_scores_vc, axis=1)\n",
    "test_scores_std = np.std(test_scores_vc, axis=1)\n",
    "\n",
    "plt.figure()\n",
    "plt.semilogx(param_range,train_scores_mean,'o',label=\"Train\")\n",
    "plt.semilogx(param_range,test_scores_mean,'o',label=\"Test\")\n",
    "plt.semilogx(param_range,test_scores_mean,label=\"Test_curve\")\n",
    "plt.xlabel(\"alpha\")\n",
    "plt.ylabel(\"Score\")\n",
    "plt.title(\"Validation Curves\")\n",
    "plt.legend(loc=\"best\")"
   ]
  },
  {
   "cell_type": "code",
   "execution_count": null,
   "metadata": {
    "scrolled": true
   },
   "outputs": [],
   "source": [
    "scaler=StandardScaler()\n",
    "X_transformed = scaler.fit_transform(X)\n",
    "\n",
    "print('alpha=', lasso_best_alpha)\n",
    "model=linear_model.Lasso(alpha=lasso_best_alpha, normalize=True)\n",
    "lasso_model.fit(X_transformed, y)  \n",
    "Y_lasso=lasso_model.predict(X_transformed)\n",
    "\n",
    "lasso_coef_ = lasso_model.coef_\n",
    "print(X_cols.shape)\n",
    "#print(X_cols)\n",
    "print(lasso_coef_.shape)\n",
    "print(np.round(lasso_coef_))\n",
    "#print(lasso_coef_)\n",
    "X_cols[np.abs(lasso_coef_)>10]\n",
    "\n",
    "sorted(zip(lasso_coef_, X_cols))"
   ]
  },
  {
   "cell_type": "code",
   "execution_count": null,
   "metadata": {},
   "outputs": [],
   "source": [
    "\"\"\"fracn_GRADES_12div8_G\n",
    "is not chosen by Lasso. RandomForest says it's #2 tho. Why?\n",
    "Plot.\n",
    "\"\"\"\n",
    "plt.figure(figsize=[7,7])\n",
    "x1=df1.loc[:,'fracn_GRADES_12div8_G'].values\n",
    "plt.plot(x1,y,'o')\n",
    "plt.plot(x1,Y_lasso, alpha=0.7)\n",
    "plt.legend((\"y\",\"fit_lasso\"),loc=(0.7,0.2))\n",
    "plt.xlabel(\"fracn_GRADES_12div8_G\")\n",
    "plt.ylabel(\"y\")"
   ]
  },
  {
   "cell_type": "code",
   "execution_count": null,
   "metadata": {},
   "outputs": [],
   "source": [
    "plt.figure(figsize=[20,10])\n",
    "\n",
    "plt.subplot(2, 2, 1)\n",
    "x1=df1.loc[:,'fracn_enroll_GRADES_12_G'].values\n",
    "print(y.shape,np.shape(lasso_coef_*X),x1.shape)\n",
    "plt.plot(x1,y,'o',x1,Y_lasso, alpha=0.7)\n",
    "plt.legend((\"y\",\"fit_lasso\"),loc=(0.7,0.2))\n",
    "plt.xlabel(\"fracn_enroll_GRADES_12_G\")\n",
    "plt.ylabel(\"y\")\n",
    "\n",
    "plt.subplot(2, 2, 2)\n",
    "x1=df1.loc[:,'fracn_enroll_GRADES_9_12_G'].values\n",
    "print(y.shape,np.shape(lasso_coef_*X),x1.shape)\n",
    "plt.plot(x1,y,'o',x1,Y_lasso, alpha=0.7)\n",
    "plt.legend((\"y\",\"fit_lasso\"),loc=(0.7,0.2))\n",
    "plt.xlabel(\"fracn_enroll_GRADES_9_12_G\")\n",
    "plt.ylabel(\"y\")\n",
    "\n",
    "plt.subplot(2, 2, 3)\n",
    "x1=df1.loc[:,'YEAR'].values\n",
    "print(y.shape,np.shape(lasso_coef_*X),x1.shape)\n",
    "plt.plot(x1,y,'o',x1,Y_lasso, alpha=0.7)\n",
    "plt.legend((\"y\",\"fit_lasso\"),loc=(0.7,0.2))\n",
    "plt.xlabel(\"YEAR\")\n",
    "plt.ylabel(\"y\")\n",
    "\n",
    "plt.subplot(2, 2, 4)\n",
    "x1=df1.loc[:,'STATE_DISTRICT_OF_COLUMBIA'].values\n",
    "print(y.shape,np.shape(lasso_coef_*X),x1.shape)\n",
    "plt.plot(x1,y,'o',x1,Y_lasso, alpha=0.7)\n",
    "plt.legend((\"y\",\"fit_lasso\"),loc=(0.7,0.2))\n",
    "plt.xlabel(\"STATE_DISTRICT_OF_COLUMBIA\")\n",
    "plt.ylabel(\"y\")"
   ]
  },
  {
   "cell_type": "code",
   "execution_count": null,
   "metadata": {},
   "outputs": [],
   "source": [
    "plt.figure(figsize=[15,10])\n",
    "\n",
    "plt.subplot(2, 2, 1)\n",
    "plt.plot(Y_lasso,y,'o',Y_lasso,line,Y_lasso,Y_lasso)\n",
    "plt.legend((\"y\",\"fit_lasso\",\"y=x\"),loc='best')\n",
    "plt.xlabel(\"Y_lasso\")\n",
    "plt.ylabel(\"y\")"
   ]
  },
  {
   "cell_type": "code",
   "execution_count": null,
   "metadata": {},
   "outputs": [],
   "source": [
    "# Generated linear fit\n",
    "slope, intercept, r_value, p_value, std_err = stats.linregress(Y_lasso,y)\n",
    "line = slope*Y_lasso+intercept\n",
    "\n",
    "#need to make analysis_df that has y,Y_lasso\n",
    "\n",
    "#Plot\n",
    "#grid=sns.JointGrid(x=Y_lasso,y=y)\n",
    "#g=grid.plot_joint(sns.scatterplot) #, hue='smoker'\n",
    "#sns.scatterplot(Y_lasso,line, ax=g.ax_marg_x, legend=False)\n",
    "#sns.lmplot(Y_lasso,Y_lasso,ax=g.ax_marg_x,legend=False)\n",
    "\n",
    "#plt.subplot(1,2,1)\n",
    "ax1 = sns.jointplot(x=Y_lasso,y=y,kind=\"kde\")\n",
    "#plt.subplot(1,2,2)\n",
    "ax2 = sns.jointplot(x=Y_lasso,y=y,kind=\"resid\")"
   ]
  },
  {
   "cell_type": "code",
   "execution_count": null,
   "metadata": {},
   "outputs": [],
   "source": [
    "\"\"\"The largest coefficients are\"\"\"\n",
    "X_cols[np.abs(lasso_coef_)>0.5]\n",
    "\"\"\". Plot them with fits.\"\"\"\n",
    "\n",
    "plt.plot(Y_svm, y, 'ro')(\"YEAR\", \"AVG_MATH_4_SCORE\", data=df, kind=\"reg\")\n",
    "sns.jointplot(\"YEAR\", \"AVG_MATH_4_SCORE\", data=df, kind=\"reg\")\n"
   ]
  },
  {
   "cell_type": "code",
   "execution_count": null,
   "metadata": {},
   "outputs": [],
   "source": []
  },
  {
   "cell_type": "code",
   "execution_count": null,
   "metadata": {},
   "outputs": [],
   "source": [
    "\"\"\"\n",
    "Can I predict test scores for a year?\n",
    "\n",
    "Handle time better. Time_series_split\n",
    "\n",
    "Time trends: \n",
    "-Scores\n",
    "-Populations\n",
    "-Revenues\n",
    "-Expenditures\n",
    "\n",
    "Delta from previous time point as feature?\n",
    "\n",
    "Features:\n",
    "-Elite? financials, location, \n",
    "-Good school? school history, tax rev, district\n",
    "-Trends in time? Deltas in time. more money, more students, higher scores, ...\n",
    "\n",
    "\n",
    "\"\"\""
   ]
  },
  {
   "cell_type": "code",
   "execution_count": null,
   "metadata": {},
   "outputs": [],
   "source": []
  }
 ],
 "metadata": {
  "kernelspec": {
   "display_name": "Python 3",
   "language": "python",
   "name": "python3"
  },
  "language_info": {
   "codemirror_mode": {
    "name": "ipython",
    "version": 3
   },
   "file_extension": ".py",
   "mimetype": "text/x-python",
   "name": "python",
   "nbconvert_exporter": "python",
   "pygments_lexer": "ipython3",
   "version": "3.7.3"
  }
 },
 "nbformat": 4,
 "nbformat_minor": 2
}
